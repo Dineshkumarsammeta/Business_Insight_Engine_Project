{
 "cells": [
  {
   "cell_type": "code",
   "execution_count": 1,
   "id": "49fb224f",
   "metadata": {
    "execution": {
     "iopub.execute_input": "2024-03-28T05:58:05.164178Z",
     "iopub.status.busy": "2024-03-28T05:58:05.163834Z",
     "iopub.status.idle": "2024-03-28T05:58:06.048011Z",
     "shell.execute_reply": "2024-03-28T05:58:06.047225Z"
    },
    "papermill": {
     "duration": 0.902626,
     "end_time": "2024-03-28T05:58:06.050697",
     "exception": false,
     "start_time": "2024-03-28T05:58:05.148071",
     "status": "completed"
    },
    "tags": []
   },
   "outputs": [],
   "source": [
    "import pandas as pd"
   ]
  },
  {
   "cell_type": "code",
   "execution_count": 2,
   "id": "6360d369",
   "metadata": {
    "execution": {
     "iopub.execute_input": "2024-03-28T05:58:06.080519Z",
     "iopub.status.busy": "2024-03-28T05:58:06.080124Z",
     "iopub.status.idle": "2024-03-28T05:58:12.648847Z",
     "shell.execute_reply": "2024-03-28T05:58:12.647762Z"
    },
    "papermill": {
     "duration": 6.586166,
     "end_time": "2024-03-28T05:58:12.651322",
     "exception": false,
     "start_time": "2024-03-28T05:58:06.065156",
     "status": "completed"
    },
    "tags": []
   },
   "outputs": [],
   "source": [
    "df = pd.read_csv(\"Reviews.csv\")"
   ]
  },
  {
   "cell_type": "code",
   "execution_count": 3,
   "id": "d1d34574",
   "metadata": {
    "execution": {
     "iopub.execute_input": "2024-03-28T05:58:12.681702Z",
     "iopub.status.busy": "2024-03-28T05:58:12.681394Z",
     "iopub.status.idle": "2024-03-28T05:58:13.053759Z",
     "shell.execute_reply": "2024-03-28T05:58:13.052720Z"
    },
    "papermill": {
     "duration": 0.390694,
     "end_time": "2024-03-28T05:58:13.056303",
     "exception": false,
     "start_time": "2024-03-28T05:58:12.665609",
     "status": "completed"
    },
    "tags": []
   },
   "outputs": [],
   "source": [
    "d = {1:0,2:0,3:1,4:2,5:2}\n",
    "\n",
    "df[\"Label\"] = df[\"Score\"].apply(lambda x :d[x])"
   ]
  },
  {
   "cell_type": "code",
   "execution_count": 4,
   "id": "c59538e1",
   "metadata": {
    "execution": {
     "iopub.execute_input": "2024-03-28T05:58:13.085712Z",
     "iopub.status.busy": "2024-03-28T05:58:13.085408Z",
     "iopub.status.idle": "2024-03-28T05:58:13.103868Z",
     "shell.execute_reply": "2024-03-28T05:58:13.102955Z"
    },
    "papermill": {
     "duration": 0.035302,
     "end_time": "2024-03-28T05:58:13.105776",
     "exception": false,
     "start_time": "2024-03-28T05:58:13.070474",
     "status": "completed"
    },
    "tags": []
   },
   "outputs": [
    {
     "data": {
      "text/plain": [
       "Label\n",
       "2    443777\n",
       "0     82037\n",
       "1     42640\n",
       "Name: count, dtype: int64"
      ]
     },
     "execution_count": 4,
     "metadata": {},
     "output_type": "execute_result"
    }
   ],
   "source": [
    "df[\"Label\"].value_counts()"
   ]
  },
  {
   "cell_type": "code",
   "execution_count": 5,
   "id": "d44cc6c3",
   "metadata": {
    "execution": {
     "iopub.execute_input": "2024-03-28T05:58:13.133825Z",
     "iopub.status.busy": "2024-03-28T05:58:13.133554Z",
     "iopub.status.idle": "2024-03-28T05:58:13.155988Z",
     "shell.execute_reply": "2024-03-28T05:58:13.155107Z"
    },
    "papermill": {
     "duration": 0.038884,
     "end_time": "2024-03-28T05:58:13.157904",
     "exception": false,
     "start_time": "2024-03-28T05:58:13.119020",
     "status": "completed"
    },
    "tags": []
   },
   "outputs": [
    {
     "data": {
      "text/html": [
       "<div>\n",
       "<style scoped>\n",
       "    .dataframe tbody tr th:only-of-type {\n",
       "        vertical-align: middle;\n",
       "    }\n",
       "\n",
       "    .dataframe tbody tr th {\n",
       "        vertical-align: top;\n",
       "    }\n",
       "\n",
       "    .dataframe thead th {\n",
       "        text-align: right;\n",
       "    }\n",
       "</style>\n",
       "<table border=\"1\" class=\"dataframe\">\n",
       "  <thead>\n",
       "    <tr style=\"text-align: right;\">\n",
       "      <th></th>\n",
       "      <th>Id</th>\n",
       "      <th>ProductId</th>\n",
       "      <th>UserId</th>\n",
       "      <th>ProfileName</th>\n",
       "      <th>HelpfulnessNumerator</th>\n",
       "      <th>HelpfulnessDenominator</th>\n",
       "      <th>Score</th>\n",
       "      <th>Time</th>\n",
       "      <th>Summary</th>\n",
       "      <th>Text</th>\n",
       "      <th>Label</th>\n",
       "    </tr>\n",
       "  </thead>\n",
       "  <tbody>\n",
       "    <tr>\n",
       "      <th>0</th>\n",
       "      <td>1</td>\n",
       "      <td>B001E4KFG0</td>\n",
       "      <td>A3SGXH7AUHU8GW</td>\n",
       "      <td>delmartian</td>\n",
       "      <td>1</td>\n",
       "      <td>1</td>\n",
       "      <td>5</td>\n",
       "      <td>1303862400</td>\n",
       "      <td>Good Quality Dog Food</td>\n",
       "      <td>I have bought several of the Vitality canned d...</td>\n",
       "      <td>2</td>\n",
       "    </tr>\n",
       "    <tr>\n",
       "      <th>1</th>\n",
       "      <td>2</td>\n",
       "      <td>B00813GRG4</td>\n",
       "      <td>A1D87F6ZCVE5NK</td>\n",
       "      <td>dll pa</td>\n",
       "      <td>0</td>\n",
       "      <td>0</td>\n",
       "      <td>1</td>\n",
       "      <td>1346976000</td>\n",
       "      <td>Not as Advertised</td>\n",
       "      <td>Product arrived labeled as Jumbo Salted Peanut...</td>\n",
       "      <td>0</td>\n",
       "    </tr>\n",
       "    <tr>\n",
       "      <th>2</th>\n",
       "      <td>3</td>\n",
       "      <td>B000LQOCH0</td>\n",
       "      <td>ABXLMWJIXXAIN</td>\n",
       "      <td>Natalia Corres \"Natalia Corres\"</td>\n",
       "      <td>1</td>\n",
       "      <td>1</td>\n",
       "      <td>4</td>\n",
       "      <td>1219017600</td>\n",
       "      <td>\"Delight\" says it all</td>\n",
       "      <td>This is a confection that has been around a fe...</td>\n",
       "      <td>2</td>\n",
       "    </tr>\n",
       "    <tr>\n",
       "      <th>3</th>\n",
       "      <td>4</td>\n",
       "      <td>B000UA0QIQ</td>\n",
       "      <td>A395BORC6FGVXV</td>\n",
       "      <td>Karl</td>\n",
       "      <td>3</td>\n",
       "      <td>3</td>\n",
       "      <td>2</td>\n",
       "      <td>1307923200</td>\n",
       "      <td>Cough Medicine</td>\n",
       "      <td>If you are looking for the secret ingredient i...</td>\n",
       "      <td>0</td>\n",
       "    </tr>\n",
       "    <tr>\n",
       "      <th>4</th>\n",
       "      <td>5</td>\n",
       "      <td>B006K2ZZ7K</td>\n",
       "      <td>A1UQRSCLF8GW1T</td>\n",
       "      <td>Michael D. Bigham \"M. Wassir\"</td>\n",
       "      <td>0</td>\n",
       "      <td>0</td>\n",
       "      <td>5</td>\n",
       "      <td>1350777600</td>\n",
       "      <td>Great taffy</td>\n",
       "      <td>Great taffy at a great price.  There was a wid...</td>\n",
       "      <td>2</td>\n",
       "    </tr>\n",
       "    <tr>\n",
       "      <th>...</th>\n",
       "      <td>...</td>\n",
       "      <td>...</td>\n",
       "      <td>...</td>\n",
       "      <td>...</td>\n",
       "      <td>...</td>\n",
       "      <td>...</td>\n",
       "      <td>...</td>\n",
       "      <td>...</td>\n",
       "      <td>...</td>\n",
       "      <td>...</td>\n",
       "      <td>...</td>\n",
       "    </tr>\n",
       "    <tr>\n",
       "      <th>568449</th>\n",
       "      <td>568450</td>\n",
       "      <td>B001EO7N10</td>\n",
       "      <td>A28KG5XORO54AY</td>\n",
       "      <td>Lettie D. Carter</td>\n",
       "      <td>0</td>\n",
       "      <td>0</td>\n",
       "      <td>5</td>\n",
       "      <td>1299628800</td>\n",
       "      <td>Will not do without</td>\n",
       "      <td>Great for sesame chicken..this is a good if no...</td>\n",
       "      <td>2</td>\n",
       "    </tr>\n",
       "    <tr>\n",
       "      <th>568450</th>\n",
       "      <td>568451</td>\n",
       "      <td>B003S1WTCU</td>\n",
       "      <td>A3I8AFVPEE8KI5</td>\n",
       "      <td>R. Sawyer</td>\n",
       "      <td>0</td>\n",
       "      <td>0</td>\n",
       "      <td>2</td>\n",
       "      <td>1331251200</td>\n",
       "      <td>disappointed</td>\n",
       "      <td>I'm disappointed with the flavor. The chocolat...</td>\n",
       "      <td>0</td>\n",
       "    </tr>\n",
       "    <tr>\n",
       "      <th>568451</th>\n",
       "      <td>568452</td>\n",
       "      <td>B004I613EE</td>\n",
       "      <td>A121AA1GQV751Z</td>\n",
       "      <td>pksd \"pk_007\"</td>\n",
       "      <td>2</td>\n",
       "      <td>2</td>\n",
       "      <td>5</td>\n",
       "      <td>1329782400</td>\n",
       "      <td>Perfect for our maltipoo</td>\n",
       "      <td>These stars are small, so you can give 10-15 o...</td>\n",
       "      <td>2</td>\n",
       "    </tr>\n",
       "    <tr>\n",
       "      <th>568452</th>\n",
       "      <td>568453</td>\n",
       "      <td>B004I613EE</td>\n",
       "      <td>A3IBEVCTXKNOH</td>\n",
       "      <td>Kathy A. Welch \"katwel\"</td>\n",
       "      <td>1</td>\n",
       "      <td>1</td>\n",
       "      <td>5</td>\n",
       "      <td>1331596800</td>\n",
       "      <td>Favorite Training and reward treat</td>\n",
       "      <td>These are the BEST treats for training and rew...</td>\n",
       "      <td>2</td>\n",
       "    </tr>\n",
       "    <tr>\n",
       "      <th>568453</th>\n",
       "      <td>568454</td>\n",
       "      <td>B001LR2CU2</td>\n",
       "      <td>A3LGQPJCZVL9UC</td>\n",
       "      <td>srfell17</td>\n",
       "      <td>0</td>\n",
       "      <td>0</td>\n",
       "      <td>5</td>\n",
       "      <td>1338422400</td>\n",
       "      <td>Great Honey</td>\n",
       "      <td>I am very satisfied ,product is as advertised,...</td>\n",
       "      <td>2</td>\n",
       "    </tr>\n",
       "  </tbody>\n",
       "</table>\n",
       "<p>568454 rows × 11 columns</p>\n",
       "</div>"
      ],
      "text/plain": [
       "            Id   ProductId          UserId                      ProfileName  \\\n",
       "0            1  B001E4KFG0  A3SGXH7AUHU8GW                       delmartian   \n",
       "1            2  B00813GRG4  A1D87F6ZCVE5NK                           dll pa   \n",
       "2            3  B000LQOCH0   ABXLMWJIXXAIN  Natalia Corres \"Natalia Corres\"   \n",
       "3            4  B000UA0QIQ  A395BORC6FGVXV                             Karl   \n",
       "4            5  B006K2ZZ7K  A1UQRSCLF8GW1T    Michael D. Bigham \"M. Wassir\"   \n",
       "...        ...         ...             ...                              ...   \n",
       "568449  568450  B001EO7N10  A28KG5XORO54AY                 Lettie D. Carter   \n",
       "568450  568451  B003S1WTCU  A3I8AFVPEE8KI5                        R. Sawyer   \n",
       "568451  568452  B004I613EE  A121AA1GQV751Z                    pksd \"pk_007\"   \n",
       "568452  568453  B004I613EE   A3IBEVCTXKNOH          Kathy A. Welch \"katwel\"   \n",
       "568453  568454  B001LR2CU2  A3LGQPJCZVL9UC                         srfell17   \n",
       "\n",
       "        HelpfulnessNumerator  HelpfulnessDenominator  Score        Time  \\\n",
       "0                          1                       1      5  1303862400   \n",
       "1                          0                       0      1  1346976000   \n",
       "2                          1                       1      4  1219017600   \n",
       "3                          3                       3      2  1307923200   \n",
       "4                          0                       0      5  1350777600   \n",
       "...                      ...                     ...    ...         ...   \n",
       "568449                     0                       0      5  1299628800   \n",
       "568450                     0                       0      2  1331251200   \n",
       "568451                     2                       2      5  1329782400   \n",
       "568452                     1                       1      5  1331596800   \n",
       "568453                     0                       0      5  1338422400   \n",
       "\n",
       "                                   Summary  \\\n",
       "0                    Good Quality Dog Food   \n",
       "1                        Not as Advertised   \n",
       "2                    \"Delight\" says it all   \n",
       "3                           Cough Medicine   \n",
       "4                              Great taffy   \n",
       "...                                    ...   \n",
       "568449                 Will not do without   \n",
       "568450                        disappointed   \n",
       "568451            Perfect for our maltipoo   \n",
       "568452  Favorite Training and reward treat   \n",
       "568453                         Great Honey   \n",
       "\n",
       "                                                     Text  Label  \n",
       "0       I have bought several of the Vitality canned d...      2  \n",
       "1       Product arrived labeled as Jumbo Salted Peanut...      0  \n",
       "2       This is a confection that has been around a fe...      2  \n",
       "3       If you are looking for the secret ingredient i...      0  \n",
       "4       Great taffy at a great price.  There was a wid...      2  \n",
       "...                                                   ...    ...  \n",
       "568449  Great for sesame chicken..this is a good if no...      2  \n",
       "568450  I'm disappointed with the flavor. The chocolat...      0  \n",
       "568451  These stars are small, so you can give 10-15 o...      2  \n",
       "568452  These are the BEST treats for training and rew...      2  \n",
       "568453  I am very satisfied ,product is as advertised,...      2  \n",
       "\n",
       "[568454 rows x 11 columns]"
      ]
     },
     "execution_count": 5,
     "metadata": {},
     "output_type": "execute_result"
    }
   ],
   "source": [
    "df"
   ]
  },
  {
   "cell_type": "code",
   "execution_count": 6,
   "id": "a51e0a75",
   "metadata": {
    "execution": {
     "iopub.execute_input": "2024-03-28T05:58:13.186434Z",
     "iopub.status.busy": "2024-03-28T05:58:13.186167Z",
     "iopub.status.idle": "2024-03-28T05:58:13.496420Z",
     "shell.execute_reply": "2024-03-28T05:58:13.495341Z"
    },
    "papermill": {
     "duration": 0.327169,
     "end_time": "2024-03-28T05:58:13.498701",
     "exception": false,
     "start_time": "2024-03-28T05:58:13.171532",
     "status": "completed"
    },
    "tags": []
   },
   "outputs": [
    {
     "name": "stdout",
     "output_type": "stream",
     "text": [
      "<class 'pandas.core.frame.DataFrame'>\n",
      "RangeIndex: 568454 entries, 0 to 568453\n",
      "Data columns (total 11 columns):\n",
      " #   Column                  Non-Null Count   Dtype \n",
      "---  ------                  --------------   ----- \n",
      " 0   Id                      568454 non-null  int64 \n",
      " 1   ProductId               568454 non-null  object\n",
      " 2   UserId                  568454 non-null  object\n",
      " 3   ProfileName             568428 non-null  object\n",
      " 4   HelpfulnessNumerator    568454 non-null  int64 \n",
      " 5   HelpfulnessDenominator  568454 non-null  int64 \n",
      " 6   Score                   568454 non-null  int64 \n",
      " 7   Time                    568454 non-null  int64 \n",
      " 8   Summary                 568427 non-null  object\n",
      " 9   Text                    568454 non-null  object\n",
      " 10  Label                   568454 non-null  int64 \n",
      "dtypes: int64(6), object(5)\n",
      "memory usage: 47.7+ MB\n"
     ]
    }
   ],
   "source": [
    "df.info()"
   ]
  },
  {
   "cell_type": "code",
   "execution_count": 7,
   "id": "7b55f452",
   "metadata": {
    "execution": {
     "iopub.execute_input": "2024-03-28T05:58:13.527788Z",
     "iopub.status.busy": "2024-03-28T05:58:13.527520Z",
     "iopub.status.idle": "2024-03-28T05:58:13.638348Z",
     "shell.execute_reply": "2024-03-28T05:58:13.637417Z"
    },
    "papermill": {
     "duration": 0.12787,
     "end_time": "2024-03-28T05:58:13.640720",
     "exception": false,
     "start_time": "2024-03-28T05:58:13.512850",
     "status": "completed"
    },
    "tags": []
   },
   "outputs": [
    {
     "data": {
      "text/html": [
       "<div>\n",
       "<style scoped>\n",
       "    .dataframe tbody tr th:only-of-type {\n",
       "        vertical-align: middle;\n",
       "    }\n",
       "\n",
       "    .dataframe tbody tr th {\n",
       "        vertical-align: top;\n",
       "    }\n",
       "\n",
       "    .dataframe thead th {\n",
       "        text-align: right;\n",
       "    }\n",
       "</style>\n",
       "<table border=\"1\" class=\"dataframe\">\n",
       "  <thead>\n",
       "    <tr style=\"text-align: right;\">\n",
       "      <th></th>\n",
       "      <th>Id</th>\n",
       "      <th>HelpfulnessNumerator</th>\n",
       "      <th>HelpfulnessDenominator</th>\n",
       "      <th>Score</th>\n",
       "      <th>Time</th>\n",
       "      <th>Label</th>\n",
       "    </tr>\n",
       "  </thead>\n",
       "  <tbody>\n",
       "    <tr>\n",
       "      <th>count</th>\n",
       "      <td>568454.000000</td>\n",
       "      <td>568454.000000</td>\n",
       "      <td>568454.00000</td>\n",
       "      <td>568454.000000</td>\n",
       "      <td>5.684540e+05</td>\n",
       "      <td>568454.000000</td>\n",
       "    </tr>\n",
       "    <tr>\n",
       "      <th>mean</th>\n",
       "      <td>284227.500000</td>\n",
       "      <td>1.743817</td>\n",
       "      <td>2.22881</td>\n",
       "      <td>4.183199</td>\n",
       "      <td>1.296257e+09</td>\n",
       "      <td>1.636358</td>\n",
       "    </tr>\n",
       "    <tr>\n",
       "      <th>std</th>\n",
       "      <td>164098.679298</td>\n",
       "      <td>7.636513</td>\n",
       "      <td>8.28974</td>\n",
       "      <td>1.310436</td>\n",
       "      <td>4.804331e+07</td>\n",
       "      <td>0.721138</td>\n",
       "    </tr>\n",
       "    <tr>\n",
       "      <th>min</th>\n",
       "      <td>1.000000</td>\n",
       "      <td>0.000000</td>\n",
       "      <td>0.00000</td>\n",
       "      <td>1.000000</td>\n",
       "      <td>9.393408e+08</td>\n",
       "      <td>0.000000</td>\n",
       "    </tr>\n",
       "    <tr>\n",
       "      <th>25%</th>\n",
       "      <td>142114.250000</td>\n",
       "      <td>0.000000</td>\n",
       "      <td>0.00000</td>\n",
       "      <td>4.000000</td>\n",
       "      <td>1.271290e+09</td>\n",
       "      <td>2.000000</td>\n",
       "    </tr>\n",
       "    <tr>\n",
       "      <th>50%</th>\n",
       "      <td>284227.500000</td>\n",
       "      <td>0.000000</td>\n",
       "      <td>1.00000</td>\n",
       "      <td>5.000000</td>\n",
       "      <td>1.311120e+09</td>\n",
       "      <td>2.000000</td>\n",
       "    </tr>\n",
       "    <tr>\n",
       "      <th>75%</th>\n",
       "      <td>426340.750000</td>\n",
       "      <td>2.000000</td>\n",
       "      <td>2.00000</td>\n",
       "      <td>5.000000</td>\n",
       "      <td>1.332720e+09</td>\n",
       "      <td>2.000000</td>\n",
       "    </tr>\n",
       "    <tr>\n",
       "      <th>max</th>\n",
       "      <td>568454.000000</td>\n",
       "      <td>866.000000</td>\n",
       "      <td>923.00000</td>\n",
       "      <td>5.000000</td>\n",
       "      <td>1.351210e+09</td>\n",
       "      <td>2.000000</td>\n",
       "    </tr>\n",
       "  </tbody>\n",
       "</table>\n",
       "</div>"
      ],
      "text/plain": [
       "                  Id  HelpfulnessNumerator  HelpfulnessDenominator  \\\n",
       "count  568454.000000         568454.000000            568454.00000   \n",
       "mean   284227.500000              1.743817                 2.22881   \n",
       "std    164098.679298              7.636513                 8.28974   \n",
       "min         1.000000              0.000000                 0.00000   \n",
       "25%    142114.250000              0.000000                 0.00000   \n",
       "50%    284227.500000              0.000000                 1.00000   \n",
       "75%    426340.750000              2.000000                 2.00000   \n",
       "max    568454.000000            866.000000               923.00000   \n",
       "\n",
       "               Score          Time          Label  \n",
       "count  568454.000000  5.684540e+05  568454.000000  \n",
       "mean        4.183199  1.296257e+09       1.636358  \n",
       "std         1.310436  4.804331e+07       0.721138  \n",
       "min         1.000000  9.393408e+08       0.000000  \n",
       "25%         4.000000  1.271290e+09       2.000000  \n",
       "50%         5.000000  1.311120e+09       2.000000  \n",
       "75%         5.000000  1.332720e+09       2.000000  \n",
       "max         5.000000  1.351210e+09       2.000000  "
      ]
     },
     "execution_count": 7,
     "metadata": {},
     "output_type": "execute_result"
    }
   ],
   "source": [
    "df.describe()"
   ]
  },
  {
   "cell_type": "code",
   "execution_count": 8,
   "id": "1e340d4c",
   "metadata": {
    "execution": {
     "iopub.execute_input": "2024-03-28T05:58:13.672441Z",
     "iopub.status.busy": "2024-03-28T05:58:13.672133Z",
     "iopub.status.idle": "2024-03-28T05:58:13.967778Z",
     "shell.execute_reply": "2024-03-28T05:58:13.966781Z"
    },
    "papermill": {
     "duration": 0.313775,
     "end_time": "2024-03-28T05:58:13.969902",
     "exception": false,
     "start_time": "2024-03-28T05:58:13.656127",
     "status": "completed"
    },
    "tags": []
   },
   "outputs": [
    {
     "data": {
      "text/plain": [
       "Id                         0\n",
       "ProductId                  0\n",
       "UserId                     0\n",
       "ProfileName               26\n",
       "HelpfulnessNumerator       0\n",
       "HelpfulnessDenominator     0\n",
       "Score                      0\n",
       "Time                       0\n",
       "Summary                   27\n",
       "Text                       0\n",
       "Label                      0\n",
       "dtype: int64"
      ]
     },
     "execution_count": 8,
     "metadata": {},
     "output_type": "execute_result"
    }
   ],
   "source": [
    "df.isnull().sum()"
   ]
  },
  {
   "cell_type": "code",
   "execution_count": 9,
   "id": "28a90d8b",
   "metadata": {
    "execution": {
     "iopub.execute_input": "2024-03-28T05:58:14.000485Z",
     "iopub.status.busy": "2024-03-28T05:58:14.000226Z",
     "iopub.status.idle": "2024-03-28T05:58:14.011458Z",
     "shell.execute_reply": "2024-03-28T05:58:14.010611Z"
    },
    "papermill": {
     "duration": 0.029091,
     "end_time": "2024-03-28T05:58:14.013560",
     "exception": false,
     "start_time": "2024-03-28T05:58:13.984469",
     "status": "completed"
    },
    "tags": []
   },
   "outputs": [
    {
     "data": {
      "text/plain": [
       "Score\n",
       "5    363122\n",
       "4     80655\n",
       "1     52268\n",
       "3     42640\n",
       "2     29769\n",
       "Name: count, dtype: int64"
      ]
     },
     "execution_count": 9,
     "metadata": {},
     "output_type": "execute_result"
    }
   ],
   "source": [
    "df[\"Score\"].value_counts()"
   ]
  },
  {
   "cell_type": "code",
   "execution_count": 10,
   "id": "2c89d11d",
   "metadata": {
    "execution": {
     "iopub.execute_input": "2024-03-28T05:58:14.044037Z",
     "iopub.status.busy": "2024-03-28T05:58:14.043755Z",
     "iopub.status.idle": "2024-03-28T05:58:14.049015Z",
     "shell.execute_reply": "2024-03-28T05:58:14.048197Z"
    },
    "papermill": {
     "duration": 0.022429,
     "end_time": "2024-03-28T05:58:14.051260",
     "exception": false,
     "start_time": "2024-03-28T05:58:14.028831",
     "status": "completed"
    },
    "tags": []
   },
   "outputs": [
    {
     "data": {
      "text/plain": [
       "'I have bought several of the Vitality canned dog food products and have found them all to be of good quality. The product looks more like a stew than a processed meat and it smells better. My Labrador is finicky and she appreciates this product better than  most.'"
      ]
     },
     "execution_count": 10,
     "metadata": {},
     "output_type": "execute_result"
    }
   ],
   "source": [
    "df[\"Text\"][0]"
   ]
  },
  {
   "cell_type": "code",
   "execution_count": 11,
   "id": "d756acda",
   "metadata": {
    "execution": {
     "iopub.execute_input": "2024-03-28T05:58:14.081526Z",
     "iopub.status.busy": "2024-03-28T05:58:14.081268Z",
     "iopub.status.idle": "2024-03-28T05:58:14.086442Z",
     "shell.execute_reply": "2024-03-28T05:58:14.085631Z"
    },
    "papermill": {
     "duration": 0.022501,
     "end_time": "2024-03-28T05:58:14.088266",
     "exception": false,
     "start_time": "2024-03-28T05:58:14.065765",
     "status": "completed"
    },
    "tags": []
   },
   "outputs": [
    {
     "data": {
      "text/plain": [
       "'Good Quality Dog Food'"
      ]
     },
     "execution_count": 11,
     "metadata": {},
     "output_type": "execute_result"
    }
   ],
   "source": [
    "df[\"Summary\"][0]"
   ]
  },
  {
   "cell_type": "code",
   "execution_count": 12,
   "id": "ac310c49",
   "metadata": {
    "execution": {
     "iopub.execute_input": "2024-03-28T05:58:14.118908Z",
     "iopub.status.busy": "2024-03-28T05:58:14.118202Z",
     "iopub.status.idle": "2024-03-28T05:58:14.483803Z",
     "shell.execute_reply": "2024-03-28T05:58:14.483000Z"
    },
    "papermill": {
     "duration": 0.383615,
     "end_time": "2024-03-28T05:58:14.486343",
     "exception": false,
     "start_time": "2024-03-28T05:58:14.102728",
     "status": "completed"
    },
    "tags": []
   },
   "outputs": [],
   "source": [
    "df= df.dropna()"
   ]
  },
  {
   "cell_type": "code",
   "execution_count": 13,
   "id": "ca8e6e96",
   "metadata": {
    "execution": {
     "iopub.execute_input": "2024-03-28T05:58:14.518964Z",
     "iopub.status.busy": "2024-03-28T05:58:14.518317Z",
     "iopub.status.idle": "2024-03-28T05:58:14.523242Z",
     "shell.execute_reply": "2024-03-28T05:58:14.522530Z"
    },
    "papermill": {
     "duration": 0.02239,
     "end_time": "2024-03-28T05:58:14.525082",
     "exception": false,
     "start_time": "2024-03-28T05:58:14.502692",
     "status": "completed"
    },
    "tags": []
   },
   "outputs": [],
   "source": [
    "df.reset_index(inplace=True)"
   ]
  },
  {
   "cell_type": "code",
   "execution_count": 14,
   "id": "82464bc2",
   "metadata": {
    "execution": {
     "iopub.execute_input": "2024-03-28T05:58:14.555568Z",
     "iopub.status.busy": "2024-03-28T05:58:14.555326Z",
     "iopub.status.idle": "2024-03-28T05:58:14.635155Z",
     "shell.execute_reply": "2024-03-28T05:58:14.634355Z"
    },
    "papermill": {
     "duration": 0.097405,
     "end_time": "2024-03-28T05:58:14.637553",
     "exception": false,
     "start_time": "2024-03-28T05:58:14.540148",
     "status": "completed"
    },
    "tags": []
   },
   "outputs": [],
   "source": [
    "df = df.drop([\"index\"],axis=1)"
   ]
  },
  {
   "cell_type": "code",
   "execution_count": 15,
   "id": "70f36210",
   "metadata": {
    "execution": {
     "iopub.execute_input": "2024-03-28T05:58:14.670271Z",
     "iopub.status.busy": "2024-03-28T05:58:14.669980Z",
     "iopub.status.idle": "2024-03-28T05:58:15.763131Z",
     "shell.execute_reply": "2024-03-28T05:58:15.761924Z"
    },
    "papermill": {
     "duration": 1.112107,
     "end_time": "2024-03-28T05:58:15.765498",
     "exception": false,
     "start_time": "2024-03-28T05:58:14.653391",
     "status": "completed"
    },
    "tags": []
   },
   "outputs": [
    {
     "name": "stdout",
     "output_type": "stream",
     "text": [
      "Number of duplicate tweets :  0\n"
     ]
    }
   ],
   "source": [
    "duplicate_rows = df[df.duplicated()]\n",
    "print('Number of duplicate tweets : ',len(duplicate_rows))"
   ]
  },
  {
   "cell_type": "markdown",
   "id": "4d90206e",
   "metadata": {
    "papermill": {
     "duration": 0.015254,
     "end_time": "2024-03-28T05:58:15.798285",
     "exception": false,
     "start_time": "2024-03-28T05:58:15.783031",
     "status": "completed"
    },
    "tags": []
   },
   "source": [
    "## Text Preprocessing"
   ]
  },
  {
   "cell_type": "code",
   "execution_count": 16,
   "id": "5d6e84f5",
   "metadata": {
    "execution": {
     "iopub.execute_input": "2024-03-28T05:58:15.832119Z",
     "iopub.status.busy": "2024-03-28T05:58:15.831760Z",
     "iopub.status.idle": "2024-03-28T05:58:30.320003Z",
     "shell.execute_reply": "2024-03-28T05:58:30.318853Z"
    },
    "papermill": {
     "duration": 14.508173,
     "end_time": "2024-03-28T05:58:30.322493",
     "exception": false,
     "start_time": "2024-03-28T05:58:15.814320",
     "status": "completed"
    },
    "tags": []
   },
   "outputs": [
    {
     "name": "stdout",
     "output_type": "stream",
     "text": [
      "Collecting bs4\r\n",
      "  Downloading bs4-0.0.2-py2.py3-none-any.whl.metadata (411 bytes)\r\n",
      "Requirement already satisfied: beautifulsoup4 in /opt/conda/lib/python3.10/site-packages (from bs4) (4.12.2)\r\n",
      "Requirement already satisfied: soupsieve>1.2 in /opt/conda/lib/python3.10/site-packages (from beautifulsoup4->bs4) (2.5)\r\n",
      "Downloading bs4-0.0.2-py2.py3-none-any.whl (1.2 kB)\r\n",
      "Installing collected packages: bs4\r\n",
      "Successfully installed bs4-0.0.2\r\n"
     ]
    }
   ],
   "source": [
    "!pip install bs4"
   ]
  },
  {
   "cell_type": "code",
   "execution_count": 17,
   "id": "9c698093",
   "metadata": {
    "execution": {
     "iopub.execute_input": "2024-03-28T05:58:30.355937Z",
     "iopub.status.busy": "2024-03-28T05:58:30.355586Z",
     "iopub.status.idle": "2024-03-28T05:58:32.581537Z",
     "shell.execute_reply": "2024-03-28T05:58:32.580567Z"
    },
    "papermill": {
     "duration": 2.244729,
     "end_time": "2024-03-28T05:58:32.583628",
     "exception": false,
     "start_time": "2024-03-28T05:58:30.338899",
     "status": "completed"
    },
    "tags": []
   },
   "outputs": [
    {
     "name": "stdout",
     "output_type": "stream",
     "text": [
      "[nltk_data] Downloading package stopwords to /usr/share/nltk_data...\n",
      "[nltk_data]   Package stopwords is already up-to-date!\n"
     ]
    },
    {
     "data": {
      "text/plain": [
       "True"
      ]
     },
     "execution_count": 17,
     "metadata": {},
     "output_type": "execute_result"
    }
   ],
   "source": [
    "import nltk\n",
    "import re\n",
    "from nltk.corpus import stopwords\n",
    "nltk.download('stopwords')"
   ]
  },
  {
   "cell_type": "code",
   "execution_count": 18,
   "id": "715c606b",
   "metadata": {
    "execution": {
     "iopub.execute_input": "2024-03-28T05:58:32.616690Z",
     "iopub.status.busy": "2024-03-28T05:58:32.616058Z",
     "iopub.status.idle": "2024-03-28T05:58:32.622918Z",
     "shell.execute_reply": "2024-03-28T05:58:32.622066Z"
    },
    "papermill": {
     "duration": 0.025512,
     "end_time": "2024-03-28T05:58:32.624903",
     "exception": false,
     "start_time": "2024-03-28T05:58:32.599391",
     "status": "completed"
    },
    "tags": []
   },
   "outputs": [],
   "source": [
    "import re\n",
    "\n",
    "def decontracted(phrase):\n",
    "    # specific\n",
    "    phrase = re.sub(r\"won't\", \"will not\", phrase)\n",
    "    phrase = re.sub(r\"can\\'t\", \"can not\", phrase)\n",
    "\n",
    "    # general\n",
    "    phrase = re.sub(r\"n\\'t\", \" not\", phrase)\n",
    "    phrase = re.sub(r\"\\'re\", \" are\", phrase)\n",
    "    phrase = re.sub(r\"\\'s\", \" is\", phrase)\n",
    "    phrase = re.sub(r\"\\'d\", \" would\", phrase)\n",
    "    phrase = re.sub(r\"\\'ll\", \" will\", phrase)\n",
    "    phrase = re.sub(r\"\\'t\", \" not\", phrase)\n",
    "    phrase = re.sub(r\"\\'ve\", \" have\", phrase)\n",
    "    phrase = re.sub(r\"\\'m\", \" am\", phrase)\n",
    "    return phrase"
   ]
  },
  {
   "cell_type": "code",
   "execution_count": 19,
   "id": "3436c071",
   "metadata": {
    "execution": {
     "iopub.execute_input": "2024-03-28T05:58:32.656656Z",
     "iopub.status.busy": "2024-03-28T05:58:32.656202Z",
     "iopub.status.idle": "2024-03-28T05:58:32.860649Z",
     "shell.execute_reply": "2024-03-28T05:58:32.859935Z"
    },
    "papermill": {
     "duration": 0.222633,
     "end_time": "2024-03-28T05:58:32.862907",
     "exception": false,
     "start_time": "2024-03-28T05:58:32.640274",
     "status": "completed"
    },
    "tags": []
   },
   "outputs": [],
   "source": [
    "from bs4 import BeautifulSoup\n",
    "def preprocessed(review): \n",
    "    sentance = re.sub(r\"http\\S+\", \"\", review)\n",
    "    sentance = BeautifulSoup(sentance, 'lxml').get_text()\n",
    "    sentance = decontracted(sentance)\n",
    "    sentance = re.sub(\"\\S*\\d\\S*\", \"\", sentance).strip()\n",
    "    sentance = re.sub('[^A-Za-z]+', ' ', sentance)\n",
    "    sentance = ' '.join(e.lower() for e in sentance.split() if e.lower() not in stopwords.words('english'))\n",
    "    return sentance.strip()"
   ]
  },
  {
   "cell_type": "code",
   "execution_count": 20,
   "id": "d1e8074e",
   "metadata": {
    "execution": {
     "iopub.execute_input": "2024-03-28T05:58:32.897755Z",
     "iopub.status.busy": "2024-03-28T05:58:32.897115Z",
     "iopub.status.idle": "2024-03-28T05:58:32.918065Z",
     "shell.execute_reply": "2024-03-28T05:58:32.916908Z"
    },
    "papermill": {
     "duration": 0.040387,
     "end_time": "2024-03-28T05:58:32.920019",
     "exception": false,
     "start_time": "2024-03-28T05:58:32.879632",
     "status": "completed"
    },
    "tags": []
   },
   "outputs": [
    {
     "name": "stdout",
     "output_type": "stream",
     "text": [
      "Review :  I have bought several of the Vitality canned dog food products and have found them all to be of good quality. The product looks more like a stew than a processed meat and it smells better. My Labrador is finicky and she appreciates this product better than  most. \n",
      "\n",
      "Preprocessed Review :  bought several vitality canned dog food products found good quality product looks like stew processed meat smells better labrador finicky appreciates product better\n"
     ]
    }
   ],
   "source": [
    "print(\"Review : \",df[\"Text\"][0],\"\\n\")\n",
    "print(\"Preprocessed Review : \",preprocessed(df[\"Text\"][0]))"
   ]
  },
  {
   "cell_type": "code",
   "execution_count": 21,
   "id": "4e6d40a8",
   "metadata": {
    "execution": {
     "iopub.execute_input": "2024-03-28T05:58:32.994355Z",
     "iopub.status.busy": "2024-03-28T05:58:32.993569Z",
     "iopub.status.idle": "2024-03-28T05:58:33.000887Z",
     "shell.execute_reply": "2024-03-28T05:58:32.999862Z"
    },
    "papermill": {
     "duration": 0.026631,
     "end_time": "2024-03-28T05:58:33.002843",
     "exception": false,
     "start_time": "2024-03-28T05:58:32.976212",
     "status": "completed"
    },
    "tags": []
   },
   "outputs": [
    {
     "name": "stdout",
     "output_type": "stream",
     "text": [
      "Summary :  Good Quality Dog Food \n",
      "\n",
      "Preprocessed Summary :  good quality dog food\n"
     ]
    }
   ],
   "source": [
    "print(\"Summary : \",df[\"Summary\"][0],\"\\n\")\n",
    "print(\"Preprocessed Summary : \",preprocessed(df[\"Summary\"][0]))"
   ]
  },
  {
   "cell_type": "code",
   "execution_count": 22,
   "id": "f797b89c",
   "metadata": {
    "execution": {
     "iopub.execute_input": "2024-03-28T05:58:33.035295Z",
     "iopub.status.busy": "2024-03-28T05:58:33.035043Z",
     "iopub.status.idle": "2024-03-28T05:58:33.146005Z",
     "shell.execute_reply": "2024-03-28T05:58:33.145118Z"
    },
    "papermill": {
     "duration": 0.129276,
     "end_time": "2024-03-28T05:58:33.148161",
     "exception": false,
     "start_time": "2024-03-28T05:58:33.018885",
     "status": "completed"
    },
    "tags": []
   },
   "outputs": [],
   "source": [
    "from tqdm.notebook import tqdm\n",
    "tqdm.pandas()"
   ]
  },
  {
   "cell_type": "code",
   "execution_count": 23,
   "id": "ea18d2cd",
   "metadata": {
    "execution": {
     "iopub.execute_input": "2024-03-28T05:58:33.181103Z",
     "iopub.status.busy": "2024-03-28T05:58:33.180571Z",
     "iopub.status.idle": "2024-03-28T05:58:33.373477Z",
     "shell.execute_reply": "2024-03-28T05:58:33.372466Z"
    },
    "papermill": {
     "duration": 0.212169,
     "end_time": "2024-03-28T05:58:33.375986",
     "exception": false,
     "start_time": "2024-03-28T05:58:33.163817",
     "status": "completed"
    },
    "tags": []
   },
   "outputs": [],
   "source": [
    "df = df.sample(20000)\n",
    "\n",
    "df.reset_index(inplace=True)"
   ]
  },
  {
   "cell_type": "code",
   "execution_count": 24,
   "id": "760da80d",
   "metadata": {
    "execution": {
     "iopub.execute_input": "2024-03-28T05:58:33.409272Z",
     "iopub.status.busy": "2024-03-28T05:58:33.408981Z",
     "iopub.status.idle": "2024-03-28T06:01:58.127047Z",
     "shell.execute_reply": "2024-03-28T06:01:58.126139Z"
    },
    "papermill": {
     "duration": 204.736791,
     "end_time": "2024-03-28T06:01:58.128994",
     "exception": false,
     "start_time": "2024-03-28T05:58:33.392203",
     "status": "completed"
    },
    "tags": []
   },
   "outputs": [
    {
     "data": {
      "application/vnd.jupyter.widget-view+json": {
       "model_id": "61a444d52597480789256b3850baf658",
       "version_major": 2,
       "version_minor": 0
      },
      "text/plain": [
       "  0%|          | 0/20000 [00:00<?, ?it/s]"
      ]
     },
     "metadata": {},
     "output_type": "display_data"
    },
    {
     "name": "stderr",
     "output_type": "stream",
     "text": [
      "/tmp/ipykernel_26/3334880588.py:4: MarkupResemblesLocatorWarning: The input looks more like a filename than markup. You may want to open this file and pass the filehandle into Beautiful Soup.\n",
      "  sentance = BeautifulSoup(sentance, 'lxml').get_text()\n"
     ]
    }
   ],
   "source": [
    "df[\"Preprocessed Review\"] = df[\"Text\"].progress_apply(lambda x : preprocessed(x))"
   ]
  },
  {
   "cell_type": "code",
   "execution_count": 25,
   "id": "5185e753",
   "metadata": {
    "execution": {
     "iopub.execute_input": "2024-03-28T06:01:58.162131Z",
     "iopub.status.busy": "2024-03-28T06:01:58.161833Z",
     "iopub.status.idle": "2024-03-28T06:01:58.245929Z",
     "shell.execute_reply": "2024-03-28T06:01:58.244920Z"
    },
    "papermill": {
     "duration": 0.102689,
     "end_time": "2024-03-28T06:01:58.247928",
     "exception": false,
     "start_time": "2024-03-28T06:01:58.145239",
     "status": "completed"
    },
    "tags": []
   },
   "outputs": [
    {
     "name": "stderr",
     "output_type": "stream",
     "text": [
      "100%|██████████| 20000/20000 [00:00<00:00, 263099.38it/s]\n"
     ]
    }
   ],
   "source": [
    "from tqdm import tqdm\n",
    "l = []\n",
    "for x in tqdm(df[\"Preprocessed Review\"]) :\n",
    "    l.append(len(x.split()))"
   ]
  },
  {
   "cell_type": "code",
   "execution_count": 26,
   "id": "f842a627",
   "metadata": {
    "execution": {
     "iopub.execute_input": "2024-03-28T06:01:58.283163Z",
     "iopub.status.busy": "2024-03-28T06:01:58.282889Z",
     "iopub.status.idle": "2024-03-28T06:01:58.296424Z",
     "shell.execute_reply": "2024-03-28T06:01:58.295610Z"
    },
    "papermill": {
     "duration": 0.033323,
     "end_time": "2024-03-28T06:01:58.298456",
     "exception": false,
     "start_time": "2024-03-28T06:01:58.265133",
     "status": "completed"
    },
    "tags": []
   },
   "outputs": [],
   "source": [
    "df[\"Review_length\"] = l"
   ]
  },
  {
   "cell_type": "code",
   "execution_count": 27,
   "id": "dbd48764",
   "metadata": {
    "execution": {
     "iopub.execute_input": "2024-03-28T06:01:58.334673Z",
     "iopub.status.busy": "2024-03-28T06:01:58.334410Z",
     "iopub.status.idle": "2024-03-28T06:01:58.803167Z",
     "shell.execute_reply": "2024-03-28T06:01:58.802309Z"
    },
    "papermill": {
     "duration": 0.489907,
     "end_time": "2024-03-28T06:01:58.805753",
     "exception": false,
     "start_time": "2024-03-28T06:01:58.315846",
     "status": "completed"
    },
    "tags": []
   },
   "outputs": [
    {
     "data": {
      "image/png": "[encoded data removed]",
      "text/plain": [
       "<Figure size 800x600 with 1 Axes>"
      ]
     },
     "metadata": {},
     "output_type": "display_data"
    }
   ],
   "source": [
    "import matplotlib.pyplot as plt\n",
    "import numpy as np\n",
    "\n",
    "# Assuming df[\"Review_length\"] contains the review lengths\n",
    "data = df[\"Review_length\"]\n",
    "\n",
    "plt.figure(figsize=(8, 6))  # Adjust size as needed\n",
    "\n",
    "# Customizing box plot colors\n",
    "boxprops = dict(color=\"blue\")\n",
    "whiskerprops = dict(color=\"green\")\n",
    "capprops = dict(color=\"red\")\n",
    "medianprops = dict(color=\"orange\")\n",
    "\n",
    "plt.boxplot(data, vert=True, patch_artist=True,\n",
    "            boxprops=boxprops, whiskerprops=whiskerprops,\n",
    "            capprops=capprops, medianprops=medianprops)\n",
    "\n",
    "plt.title(\"Box Plot of Mean Review Length\")\n",
    "plt.xlabel(\"Mean Review Length\")\n",
    "plt.ylabel(\"Values\")\n",
    "plt.grid(True)\n",
    "\n",
    "# Set y-axis ticks in increments of 10\n",
    "plt.yticks(np.arange(0, max(data) + 20, 30))\n",
    "\n",
    "plt.show()\n"
   ]
  },
  {
   "cell_type": "code",
   "execution_count": 28,
   "id": "6a850ad1",
   "metadata": {
    "execution": {
     "iopub.execute_input": "2024-03-28T06:01:58.843234Z",
     "iopub.status.busy": "2024-03-28T06:01:58.842687Z",
     "iopub.status.idle": "2024-03-28T06:01:58.848914Z",
     "shell.execute_reply": "2024-03-28T06:01:58.847998Z"
    },
    "papermill": {
     "duration": 0.026957,
     "end_time": "2024-03-28T06:01:58.850886",
     "exception": false,
     "start_time": "2024-03-28T06:01:58.823929",
     "status": "completed"
    },
    "tags": []
   },
   "outputs": [
    {
     "data": {
      "text/plain": [
       "38.6706"
      ]
     },
     "execution_count": 28,
     "metadata": {},
     "output_type": "execute_result"
    }
   ],
   "source": [
    "df[\"Review_length\"].mean()"
   ]
  },
  {
   "cell_type": "code",
   "execution_count": 29,
   "id": "00e3aca7",
   "metadata": {
    "execution": {
     "iopub.execute_input": "2024-03-28T06:01:58.888328Z",
     "iopub.status.busy": "2024-03-28T06:01:58.887933Z",
     "iopub.status.idle": "2024-03-28T06:01:58.896524Z",
     "shell.execute_reply": "2024-03-28T06:01:58.895589Z"
    },
    "papermill": {
     "duration": 0.02974,
     "end_time": "2024-03-28T06:01:58.898642",
     "exception": false,
     "start_time": "2024-03-28T06:01:58.868902",
     "status": "completed"
    },
    "tags": []
   },
   "outputs": [
    {
     "data": {
      "text/plain": [
       "Score\n",
       "5    12733\n",
       "4     2829\n",
       "1     1840\n",
       "3     1513\n",
       "2     1085\n",
       "Name: count, dtype: int64"
      ]
     },
     "execution_count": 29,
     "metadata": {},
     "output_type": "execute_result"
    }
   ],
   "source": [
    "df[\"Score\"].value_counts()"
   ]
  },
  {
   "cell_type": "code",
   "execution_count": 30,
   "id": "0a96084d",
   "metadata": {
    "execution": {
     "iopub.execute_input": "2024-03-28T06:01:58.937480Z",
     "iopub.status.busy": "2024-03-28T06:01:58.937191Z",
     "iopub.status.idle": "2024-03-28T06:01:58.960405Z",
     "shell.execute_reply": "2024-03-28T06:01:58.959258Z"
    },
    "papermill": {
     "duration": 0.045256,
     "end_time": "2024-03-28T06:01:58.962981",
     "exception": false,
     "start_time": "2024-03-28T06:01:58.917725",
     "status": "completed"
    },
    "tags": []
   },
   "outputs": [],
   "source": [
    "d = {1:0,2:0,3:1,4:2,5:2}\n",
    "\n",
    "df[\"Label\"] = df[\"Score\"].apply(lambda x :d[x])"
   ]
  },
  {
   "cell_type": "code",
   "execution_count": 31,
   "id": "b86cf90d",
   "metadata": {
    "execution": {
     "iopub.execute_input": "2024-03-28T06:01:59.013345Z",
     "iopub.status.busy": "2024-03-28T06:01:59.012918Z",
     "iopub.status.idle": "2024-03-28T06:01:59.024493Z",
     "shell.execute_reply": "2024-03-28T06:01:59.023487Z"
    },
    "papermill": {
     "duration": 0.039715,
     "end_time": "2024-03-28T06:01:59.027467",
     "exception": false,
     "start_time": "2024-03-28T06:01:58.987752",
     "status": "completed"
    },
    "tags": []
   },
   "outputs": [
    {
     "data": {
      "text/plain": [
       "Label\n",
       "2    15562\n",
       "0     2925\n",
       "1     1513\n",
       "Name: count, dtype: int64"
      ]
     },
     "execution_count": 31,
     "metadata": {},
     "output_type": "execute_result"
    }
   ],
   "source": [
    "df[\"Label\"].value_counts()"
   ]
  },
  {
   "cell_type": "code",
   "execution_count": 32,
   "id": "0a95e804",
   "metadata": {
    "execution": {
     "iopub.execute_input": "2024-03-28T06:01:59.078897Z",
     "iopub.status.busy": "2024-03-28T06:01:59.078190Z",
     "iopub.status.idle": "2024-03-28T06:01:59.087013Z",
     "shell.execute_reply": "2024-03-28T06:01:59.086087Z"
    },
    "papermill": {
     "duration": 0.034299,
     "end_time": "2024-03-28T06:01:59.089061",
     "exception": false,
     "start_time": "2024-03-28T06:01:59.054762",
     "status": "completed"
    },
    "tags": []
   },
   "outputs": [],
   "source": [
    "\n",
    "labels = df['Label'].values\n",
    "from sklearn.model_selection import train_test_split\n",
    "X_train, X_test, Y_train, Y_test = train_test_split(df[\"Preprocessed Review\"],labels, test_size=0.2, random_state=None)\n"
   ]
  },
  {
   "cell_type": "code",
   "execution_count": 33,
   "id": "2e4c1de2",
   "metadata": {
    "execution": {
     "iopub.execute_input": "2024-03-28T06:01:59.130070Z",
     "iopub.status.busy": "2024-03-28T06:01:59.129778Z",
     "iopub.status.idle": "2024-03-28T06:01:59.133632Z",
     "shell.execute_reply": "2024-03-28T06:01:59.132713Z"
    },
    "papermill": {
     "duration": 0.026634,
     "end_time": "2024-03-28T06:01:59.135549",
     "exception": false,
     "start_time": "2024-03-28T06:01:59.108915",
     "status": "completed"
    },
    "tags": []
   },
   "outputs": [],
   "source": [
    "max_len = 40\n",
    "trunc_type = \"post\"\n",
    "padding_type = \"pre\"\n",
    "oov_tok = \"<OOV>\""
   ]
  },
  {
   "cell_type": "code",
   "execution_count": 34,
   "id": "2f5d642b",
   "metadata": {
    "execution": {
     "iopub.execute_input": "2024-03-28T06:01:59.172554Z",
     "iopub.status.busy": "2024-03-28T06:01:59.172282Z",
     "iopub.status.idle": "2024-03-28T06:02:12.440848Z",
     "shell.execute_reply": "2024-03-28T06:02:12.439946Z"
    },
    "papermill": {
     "duration": 13.289073,
     "end_time": "2024-03-28T06:02:12.443191",
     "exception": false,
     "start_time": "2024-03-28T06:01:59.154118",
     "status": "completed"
    },
    "tags": []
   },
   "outputs": [
    {
     "name": "stderr",
     "output_type": "stream",
     "text": [
      "2024-03-28 06:02:01.534065: E external/local_xla/xla/stream_executor/cuda/cuda_dnn.cc:9261] Unable to register cuDNN factory: Attempting to register factory for plugin cuDNN when one has already been registered\n",
      "2024-03-28 06:02:01.534172: E external/local_xla/xla/stream_executor/cuda/cuda_fft.cc:607] Unable to register cuFFT factory: Attempting to register factory for plugin cuFFT when one has already been registered\n",
      "2024-03-28 06:02:01.695226: E external/local_xla/xla/stream_executor/cuda/cuda_blas.cc:1515] Unable to register cuBLAS factory: Attempting to register factory for plugin cuBLAS when one has already been registered\n"
     ]
    }
   ],
   "source": [
    "import tensorflow as tf\n",
    "from tensorflow.keras.preprocessing.text import Tokenizer\n",
    "from tensorflow.keras.preprocessing.sequence import pad_sequences"
   ]
  },
  {
   "cell_type": "code",
   "execution_count": 35,
   "id": "cd3cdffe",
   "metadata": {
    "execution": {
     "iopub.execute_input": "2024-03-28T06:02:12.480765Z",
     "iopub.status.busy": "2024-03-28T06:02:12.480160Z",
     "iopub.status.idle": "2024-03-28T06:02:13.137125Z",
     "shell.execute_reply": "2024-03-28T06:02:13.136248Z"
    },
    "papermill": {
     "duration": 0.677815,
     "end_time": "2024-03-28T06:02:13.139459",
     "exception": false,
     "start_time": "2024-03-28T06:02:12.461644",
     "status": "completed"
    },
    "tags": []
   },
   "outputs": [],
   "source": [
    "token = Tokenizer( char_level=False, oov_token = oov_tok) # oov_token is used for out of vocabulary\n",
    "token.fit_on_texts(X_train)"
   ]
  },
  {
   "cell_type": "code",
   "execution_count": 36,
   "id": "bc4176ae",
   "metadata": {
    "execution": {
     "iopub.execute_input": "2024-03-28T06:02:13.175517Z",
     "iopub.status.busy": "2024-03-28T06:02:13.175207Z",
     "iopub.status.idle": "2024-03-28T06:02:13.179318Z",
     "shell.execute_reply": "2024-03-28T06:02:13.178479Z"
    },
    "papermill": {
     "duration": 0.023954,
     "end_time": "2024-03-28T06:02:13.181138",
     "exception": false,
     "start_time": "2024-03-28T06:02:13.157184",
     "status": "completed"
    },
    "tags": []
   },
   "outputs": [],
   "source": [
    "vocab_size = len(token.word_index)+1 "
   ]
  },
  {
   "cell_type": "code",
   "execution_count": 37,
   "id": "8f603af8",
   "metadata": {
    "execution": {
     "iopub.execute_input": "2024-03-28T06:02:13.223750Z",
     "iopub.status.busy": "2024-03-28T06:02:13.223042Z",
     "iopub.status.idle": "2024-03-28T06:02:14.154495Z",
     "shell.execute_reply": "2024-03-28T06:02:14.153722Z"
    },
    "papermill": {
     "duration": 0.952503,
     "end_time": "2024-03-28T06:02:14.156762",
     "exception": false,
     "start_time": "2024-03-28T06:02:13.204259",
     "status": "completed"
    },
    "tags": []
   },
   "outputs": [],
   "source": [
    "x_train_seq = token.texts_to_sequences(X_train)\n",
    "train_pad_seq = pad_sequences (x_train_seq, maxlen = max_len, padding = padding_type, truncating = trunc_type )\n",
    "x_test_seq = token.texts_to_sequences(X_test)\n",
    "test_pad_seq = pad_sequences(x_test_seq, maxlen = max_len,padding = padding_type, truncating = trunc_type)"
   ]
  },
  {
   "cell_type": "code",
   "execution_count": 38,
   "id": "a18b4b7a",
   "metadata": {
    "execution": {
     "iopub.execute_input": "2024-03-28T06:02:14.193629Z",
     "iopub.status.busy": "2024-03-28T06:02:14.193348Z",
     "iopub.status.idle": "2024-03-28T06:02:14.197687Z",
     "shell.execute_reply": "2024-03-28T06:02:14.196912Z"
    },
    "papermill": {
     "duration": 0.025679,
     "end_time": "2024-03-28T06:02:14.200119",
     "exception": false,
     "start_time": "2024-03-28T06:02:14.174440",
     "status": "completed"
    },
    "tags": []
   },
   "outputs": [
    {
     "name": "stdout",
     "output_type": "stream",
     "text": [
      "Shape of training reviews:  (16000, 40)\n",
      "Shape of testing reviews:  (4000, 40)\n"
     ]
    }
   ],
   "source": [
    "print('Shape of training reviews: ', train_pad_seq.shape)\n",
    "print('Shape of testing reviews: ', test_pad_seq.shape)"
   ]
  },
  {
   "cell_type": "code",
   "execution_count": 39,
   "id": "6fcb08fa",
   "metadata": {
    "execution": {
     "iopub.execute_input": "2024-03-28T06:02:14.236022Z",
     "iopub.status.busy": "2024-03-28T06:02:14.235755Z",
     "iopub.status.idle": "2024-03-28T06:02:14.241156Z",
     "shell.execute_reply": "2024-03-28T06:02:14.240286Z"
    },
    "papermill": {
     "duration": 0.025943,
     "end_time": "2024-03-28T06:02:14.243755",
     "exception": false,
     "start_time": "2024-03-28T06:02:14.217812",
     "status": "completed"
    },
    "tags": []
   },
   "outputs": [
    {
     "name": "stdout",
     "output_type": "stream",
     "text": [
      "Actual Review:\n",
      " looks smells great son really like texture much lumpier products requires lot chewing seems bit dry\n",
      "\n",
      "tweet sentence represented in terms of tokens and not padded :\n",
      "  [479, 480, 6, 337, 15, 2, 180, 16, 13946, 110, 2076, 75, 772, 226, 59, 169]\n",
      "\n",
      "After padding : \n",
      " [    0     0     0     0     0     0     0     0     0     0     0     0\n",
      "     0     0     0     0     0     0     0     0     0     0     0     0\n",
      "   479   480     6   337    15     2   180    16 13946   110  2076    75\n",
      "   772   226    59   169]\n"
     ]
    }
   ],
   "source": [
    "print('Actual Review:\\n',X_train.iloc[5])\n",
    "print('\\ntweet sentence represented in terms of tokens and not padded :\\n ',x_train_seq[5])\n",
    "print('\\nAfter padding : \\n',train_pad_seq[5])"
   ]
  },
  {
   "cell_type": "code",
   "execution_count": 40,
   "id": "c12642f4",
   "metadata": {
    "execution": {
     "iopub.execute_input": "2024-03-28T06:02:14.281769Z",
     "iopub.status.busy": "2024-03-28T06:02:14.281498Z",
     "iopub.status.idle": "2024-03-28T06:02:14.290056Z",
     "shell.execute_reply": "2024-03-28T06:02:14.289389Z"
    },
    "papermill": {
     "duration": 0.028317,
     "end_time": "2024-03-28T06:02:14.291925",
     "exception": false,
     "start_time": "2024-03-28T06:02:14.263608",
     "status": "completed"
    },
    "tags": []
   },
   "outputs": [],
   "source": [
    "from tensorflow.keras.callbacks import EarlyStopping\n",
    "from tensorflow.keras.models import Sequential\n",
    "from tensorflow.keras.layers import Embedding, GlobalAveragePooling1D, Dense, Dropout, LSTM, Bidirectional\n",
    "from sklearn.metrics import classification_report"
   ]
  },
  {
   "cell_type": "code",
   "execution_count": 41,
   "id": "217743d6",
   "metadata": {
    "execution": {
     "iopub.execute_input": "2024-03-28T06:02:14.327462Z",
     "iopub.status.busy": "2024-03-28T06:02:14.327202Z",
     "iopub.status.idle": "2024-03-28T06:02:14.330707Z",
     "shell.execute_reply": "2024-03-28T06:02:14.329930Z"
    },
    "papermill": {
     "duration": 0.023272,
     "end_time": "2024-03-28T06:02:14.332534",
     "exception": false,
     "start_time": "2024-03-28T06:02:14.309262",
     "status": "completed"
    },
    "tags": []
   },
   "outputs": [],
   "source": [
    "num_epochs = 5"
   ]
  },
  {
   "cell_type": "code",
   "execution_count": 42,
   "id": "9b158e16",
   "metadata": {
    "execution": {
     "iopub.execute_input": "2024-03-28T06:02:14.367861Z",
     "iopub.status.busy": "2024-03-28T06:02:14.367578Z",
     "iopub.status.idle": "2024-03-28T06:04:33.752306Z",
     "shell.execute_reply": "2024-03-28T06:04:33.751356Z"
    },
    "papermill": {
     "duration": 139.421942,
     "end_time": "2024-03-28T06:04:33.771573",
     "exception": false,
     "start_time": "2024-03-28T06:02:14.349631",
     "status": "completed"
    },
    "tags": []
   },
   "outputs": [
    {
     "name": "stdout",
     "output_type": "stream",
     "text": [
      "Epoch 1/5\n",
      "500/500 - 28s - 55ms/step - accuracy: 0.8052 - loss: 0.5525 - val_accuracy: 0.8360 - val_loss: 0.4618\n",
      "Epoch 2/5\n",
      "500/500 - 23s - 47ms/step - accuracy: 0.8708 - loss: 0.3561 - val_accuracy: 0.8372 - val_loss: 0.4632\n",
      "Epoch 3/5\n",
      "500/500 - 23s - 46ms/step - accuracy: 0.9191 - loss: 0.2282 - val_accuracy: 0.8280 - val_loss: 0.5788\n",
      "Epoch 4/5\n",
      "500/500 - 23s - 46ms/step - accuracy: 0.9518 - loss: 0.1432 - val_accuracy: 0.8177 - val_loss: 0.6594\n",
      "Epoch 5/5\n",
      "500/500 - 41s - 82ms/step - accuracy: 0.9725 - loss: 0.0848 - val_accuracy: 0.8217 - val_loss: 0.7782\n"
     ]
    }
   ],
   "source": [
    "n_lstm=128\n",
    "embeding_dim =128\n",
    "drop_lstm =0.2\n",
    "model = Sequential()\n",
    "model.add(Embedding(vocab_size, embeding_dim))\n",
    "model.add(LSTM(n_lstm, dropout=drop_lstm,return_sequences=False))\n",
    "\n",
    "model.add(Dense(3, activation='softmax'))\n",
    "# model.summary()\n",
    "\n",
    "model.compile(loss = 'sparse_categorical_crossentropy', optimizer = 'adam', metrics=['accuracy'])\n",
    "\n",
    "history = model.fit(train_pad_seq,Y_train, epochs=num_epochs,validation_data=(test_pad_seq, Y_test), verbose=2)"
   ]
  },
  {
   "cell_type": "code",
   "execution_count": 43,
   "id": "d79389f3",
   "metadata": {
    "execution": {
     "iopub.execute_input": "2024-03-28T06:04:33.814250Z",
     "iopub.status.busy": "2024-03-28T06:04:33.813691Z",
     "iopub.status.idle": "2024-03-28T06:04:44.413984Z",
     "shell.execute_reply": "2024-03-28T06:04:44.412782Z"
    },
    "papermill": {
     "duration": 10.626731,
     "end_time": "2024-03-28T06:04:44.419357",
     "exception": false,
     "start_time": "2024-03-28T06:04:33.792626",
     "status": "completed"
    },
    "tags": []
   },
   "outputs": [
    {
     "name": "stdout",
     "output_type": "stream",
     "text": [
      "Training Results\n",
      "              precision    recall  f1-score   support\n",
      "\n",
      "           0     0.9822    0.9751    0.9786      2371\n",
      "           1     0.9826    0.9309    0.9560      1215\n",
      "           2     0.9917    0.9981    0.9949     12414\n",
      "\n",
      "    accuracy                         0.9896     16000\n",
      "   macro avg     0.9855    0.9680    0.9765     16000\n",
      "weighted avg     0.9896    0.9896    0.9895     16000\n",
      "\n"
     ]
    },
    {
     "data": {
      "image/png": "[encoded data removed]",
      "text/plain": [
       "<Figure size 640x480 with 2 Axes>"
      ]
     },
     "metadata": {},
     "output_type": "display_data"
    },
    {
     "name": "stdout",
     "output_type": "stream",
     "text": [
      "Testing Results\n",
      "              precision    recall  f1-score   support\n",
      "\n",
      "           0     0.6220    0.5523    0.5851       554\n",
      "           1     0.3052    0.2181    0.2544       298\n",
      "           2     0.8850    0.9263    0.9052      3148\n",
      "\n",
      "    accuracy                         0.8217      4000\n",
      "   macro avg     0.6040    0.5656    0.5816      4000\n",
      "weighted avg     0.8054    0.8217    0.8124      4000\n",
      "\n"
     ]
    },
    {
     "data": {
      "image/png": "[encoded data removed]",
      "text/plain": [
       "<Figure size 640x480 with 2 Axes>"
      ]
     },
     "metadata": {},
     "output_type": "display_data"
    }
   ],
   "source": [
    "from sklearn.metrics import confusion_matrix, ConfusionMatrixDisplay\n",
    "print(\"Training Results\")\n",
    "yhat_probs = model.predict(train_pad_seq, verbose=0)\n",
    "pred =  np.argmax(yhat_probs, axis=1)\n",
    "matrix = classification_report(Y_train, pred,digits =4)\n",
    "print(matrix)\n",
    "\n",
    "cm = confusion_matrix(Y_train, pred)\n",
    "disp = ConfusionMatrixDisplay(confusion_matrix=cm,display_labels=[\"Negative\",\"Neutral\",\"Positive\"])\n",
    "disp.plot()\n",
    "plt.show()\n",
    "\n",
    "print(\"Testing Results\")\n",
    "yhat_probs = model.predict(test_pad_seq, verbose=0)\n",
    "pred =  np.argmax(yhat_probs, axis=1)\n",
    "matrix = classification_report(Y_test, pred,digits =4)\n",
    "print(matrix)\n",
    "\n",
    "cm = confusion_matrix(Y_test, pred)\n",
    "disp = ConfusionMatrixDisplay(confusion_matrix=cm,display_labels=[\"Negative\",\"Neutral\",\"Positive\"])\n",
    "disp.plot()\n",
    "plt.show()\n"
   ]
  },
  {
   "cell_type": "markdown",
   "id": "3efa8311",
   "metadata": {
    "papermill": {
     "duration": 0.019192,
     "end_time": "2024-03-28T06:04:44.464282",
     "exception": false,
     "start_time": "2024-03-28T06:04:44.445090",
     "status": "completed"
    },
    "tags": []
   },
   "source": [
    "## BI-LSTM"
   ]
  },
  {
   "cell_type": "code",
   "execution_count": 44,
   "id": "b2e3dd95",
   "metadata": {
    "execution": {
     "iopub.execute_input": "2024-03-28T06:04:44.504192Z",
     "iopub.status.busy": "2024-03-28T06:04:44.503787Z",
     "iopub.status.idle": "2024-03-28T06:10:52.858564Z",
     "shell.execute_reply": "2024-03-28T06:10:52.857628Z"
    },
    "papermill": {
     "duration": 368.39433,
     "end_time": "2024-03-28T06:10:52.877701",
     "exception": false,
     "start_time": "2024-03-28T06:04:44.483371",
     "status": "completed"
    },
    "tags": []
   },
   "outputs": [
    {
     "name": "stdout",
     "output_type": "stream",
     "text": [
      "Epoch 1/5\n",
      "500/500 - 64s - 129ms/step - accuracy: 0.8080 - loss: 0.5418 - val_accuracy: 0.8217 - val_loss: 0.4857\n",
      "Epoch 2/5\n",
      "500/500 - 81s - 162ms/step - accuracy: 0.8702 - loss: 0.3586 - val_accuracy: 0.8428 - val_loss: 0.4705\n",
      "Epoch 3/5\n",
      "500/500 - 59s - 118ms/step - accuracy: 0.9168 - loss: 0.2324 - val_accuracy: 0.8275 - val_loss: 0.5479\n",
      "Epoch 4/5\n",
      "500/500 - 82s - 163ms/step - accuracy: 0.9529 - loss: 0.1367 - val_accuracy: 0.8173 - val_loss: 0.6667\n",
      "Epoch 5/5\n",
      "500/500 - 82s - 164ms/step - accuracy: 0.9728 - loss: 0.0850 - val_accuracy: 0.8085 - val_loss: 0.7458\n"
     ]
    }
   ],
   "source": [
    "n_lstm=128\n",
    "embeding_dim =128\n",
    "drop_lstm =0.2\n",
    "model2 = Sequential()\n",
    "model2.add(Embedding(vocab_size, embeding_dim))\n",
    "model2.add(Bidirectional(LSTM(n_lstm, dropout=drop_lstm, return_sequences=True)))\n",
    "model2.add(Bidirectional(LSTM(n_lstm, dropout=drop_lstm)))\n",
    "\n",
    "model2.add(Dense(3, activation='softmax'))\n",
    "# model.summary()\n",
    "\n",
    "model2.compile(loss = 'sparse_categorical_crossentropy', optimizer = 'adam', metrics=['accuracy'])\n",
    "\n",
    "history = model2.fit(train_pad_seq,Y_train, epochs=num_epochs,validation_data=(test_pad_seq, Y_test), verbose=2)"
   ]
  },
  {
   "cell_type": "code",
   "execution_count": 45,
   "id": "8cc20334",
   "metadata": {
    "execution": {
     "iopub.execute_input": "2024-03-28T06:10:52.919117Z",
     "iopub.status.busy": "2024-03-28T06:10:52.918747Z",
     "iopub.status.idle": "2024-03-28T06:11:15.316678Z",
     "shell.execute_reply": "2024-03-28T06:11:15.315822Z"
    },
    "papermill": {
     "duration": 22.420839,
     "end_time": "2024-03-28T06:11:15.318628",
     "exception": false,
     "start_time": "2024-03-28T06:10:52.897789",
     "status": "completed"
    },
    "tags": []
   },
   "outputs": [
    {
     "name": "stdout",
     "output_type": "stream",
     "text": [
      "Training Results\n",
      "              precision    recall  f1-score   support\n",
      "\n",
      "           0     0.9646    0.9878    0.9760      2371\n",
      "           1     0.9716    0.9309    0.9508      1215\n",
      "           2     0.9951    0.9946    0.9948     12414\n",
      "\n",
      "    accuracy                         0.9888     16000\n",
      "   macro avg     0.9771    0.9711    0.9739     16000\n",
      "weighted avg     0.9888    0.9888    0.9887     16000\n",
      "\n"
     ]
    },
    {
     "data": {
      "image/png": "[encoded data removed]",
      "text/plain": [
       "<Figure size 640x480 with 2 Axes>"
      ]
     },
     "metadata": {},
     "output_type": "display_data"
    },
    {
     "name": "stdout",
     "output_type": "stream",
     "text": [
      "Testing Results\n",
      "              precision    recall  f1-score   support\n",
      "\n",
      "           0     0.5436    0.6300    0.5836       554\n",
      "           1     0.2833    0.2215    0.2486       298\n",
      "           2     0.9021    0.8955    0.8988      3148\n",
      "\n",
      "    accuracy                         0.8085      4000\n",
      "   macro avg     0.5763    0.5823    0.5770      4000\n",
      "weighted avg     0.8063    0.8085    0.8067      4000\n",
      "\n"
     ]
    },
    {
     "data": {
      "image/png": "[encoded data removed]",
      "text/plain": [
       "<Figure size 640x480 with 2 Axes>"
      ]
     },
     "metadata": {},
     "output_type": "display_data"
    }
   ],
   "source": [
    "from sklearn.metrics import confusion_matrix, ConfusionMatrixDisplay\n",
    "print(\"Training Results\")\n",
    "yhat_probs = model2.predict(train_pad_seq, verbose=0)\n",
    "pred =  np.argmax(yhat_probs, axis=1)\n",
    "matrix = classification_report(Y_train, pred,digits =4)\n",
    "print(matrix)\n",
    "\n",
    "cm = confusion_matrix(Y_train, pred)\n",
    "disp = ConfusionMatrixDisplay(confusion_matrix=cm,display_labels=[\"Negative\",\"Neutral\",\"Positive\"])\n",
    "disp.plot()\n",
    "plt.show()\n",
    "\n",
    "print(\"Testing Results\")\n",
    "yhat_probs = model2.predict(test_pad_seq, verbose=0)\n",
    "pred =  np.argmax(yhat_probs, axis=1)\n",
    "matrix = classification_report(Y_test, pred,digits =4)\n",
    "print(matrix)\n",
    "\n",
    "cm = confusion_matrix(Y_test, pred)\n",
    "disp = ConfusionMatrixDisplay(confusion_matrix=cm,display_labels=[\"Negative\",\"Neutral\",\"Positive\"])\n",
    "disp.plot()\n",
    "plt.show()"
   ]
  },
  {
   "cell_type": "markdown",
   "id": "624feaf0",
   "metadata": {
    "papermill": {
     "duration": 0.022089,
     "end_time": "2024-03-28T06:11:15.362575",
     "exception": false,
     "start_time": "2024-03-28T06:11:15.340486",
     "status": "completed"
    },
    "tags": []
   },
   "source": [
    "### CNN"
   ]
  },
  {
   "cell_type": "code",
   "execution_count": 46,
   "id": "7fe35f21",
   "metadata": {
    "execution": {
     "iopub.execute_input": "2024-03-28T06:11:15.406915Z",
     "iopub.status.busy": "2024-03-28T06:11:15.406592Z",
     "iopub.status.idle": "2024-03-28T06:11:26.993668Z",
     "shell.execute_reply": "2024-03-28T06:11:26.992929Z"
    },
    "papermill": {
     "duration": 11.610951,
     "end_time": "2024-03-28T06:11:26.995635",
     "exception": false,
     "start_time": "2024-03-28T06:11:15.384684",
     "status": "completed"
    },
    "tags": []
   },
   "outputs": [
    {
     "name": "stdout",
     "output_type": "stream",
     "text": [
      "Epoch 1/5\n"
     ]
    },
    {
     "name": "stderr",
     "output_type": "stream",
     "text": [
      "WARNING: All log messages before absl::InitializeLog() is called are written to STDERR\n",
      "I0000 00:00:1711606279.327128      84 device_compiler.h:186] Compiled cluster using XLA!  This line is logged at most once for the lifetime of the process.\n",
      "W0000 00:00:1711606279.343382      84 graph_launch.cc:671] Fallback to op-by-op mode because memset node breaks graph update\n"
     ]
    },
    {
     "name": "stdout",
     "output_type": "stream",
     "text": [
      "500/500 - 6s - 12ms/step - accuracy: 0.8091 - loss: 0.5337 - val_accuracy: 0.8372 - val_loss: 0.4740\n",
      "Epoch 2/5\n"
     ]
    },
    {
     "name": "stderr",
     "output_type": "stream",
     "text": [
      "W0000 00:00:1711606281.049933      83 graph_launch.cc:671] Fallback to op-by-op mode because memset node breaks graph update\n"
     ]
    },
    {
     "name": "stdout",
     "output_type": "stream",
     "text": [
      "500/500 - 2s - 3ms/step - accuracy: 0.8979 - loss: 0.2734 - val_accuracy: 0.8213 - val_loss: 0.5321\n",
      "Epoch 3/5\n",
      "500/500 - 1s - 3ms/step - accuracy: 0.9833 - loss: 0.0540 - val_accuracy: 0.8250 - val_loss: 0.8047\n",
      "Epoch 4/5\n",
      "500/500 - 1s - 3ms/step - accuracy: 0.9987 - loss: 0.0067 - val_accuracy: 0.8282 - val_loss: 0.9929\n",
      "Epoch 5/5\n",
      "500/500 - 1s - 3ms/step - accuracy: 0.9990 - loss: 0.0033 - val_accuracy: 0.8282 - val_loss: 1.1119\n"
     ]
    }
   ],
   "source": [
    "from tensorflow.keras.layers import Conv1D,MaxPooling1D\n",
    "\n",
    "n_lstm=128\n",
    "embeding_dim =128\n",
    "drop_lstm =0.2\n",
    "\n",
    "model3 = Sequential()\n",
    "model3.add(Embedding(vocab_size, embeding_dim))\n",
    "model3.add(Conv1D(filters=32, kernel_size=3, padding='same', activation='relu'))\n",
    "model3.add(MaxPooling1D(pool_size=2))\n",
    "model3.add(tf.keras.layers.Flatten())\n",
    "model3.add(Dense(1024, activation='relu'))\n",
    "model3.add(Dense(3, activation='softmax'))\n",
    "\n",
    "\n",
    "model3.compile(loss = 'sparse_categorical_crossentropy', optimizer = 'adam', metrics=['accuracy'])\n",
    "\n",
    "history = model3.fit(train_pad_seq,Y_train, epochs=num_epochs,validation_data=(test_pad_seq, Y_test), verbose=2)"
   ]
  },
  {
   "cell_type": "code",
   "execution_count": 47,
   "id": "9fb57849",
   "metadata": {
    "execution": {
     "iopub.execute_input": "2024-03-28T06:11:27.042865Z",
     "iopub.status.busy": "2024-03-28T06:11:27.042530Z",
     "iopub.status.idle": "2024-03-28T06:11:28.876841Z",
     "shell.execute_reply": "2024-03-28T06:11:28.875880Z"
    },
    "papermill": {
     "duration": 1.859961,
     "end_time": "2024-03-28T06:11:28.878964",
     "exception": false,
     "start_time": "2024-03-28T06:11:27.019003",
     "status": "completed"
    },
    "tags": []
   },
   "outputs": [
    {
     "name": "stdout",
     "output_type": "stream",
     "text": [
      "Training Results\n"
     ]
    },
    {
     "name": "stderr",
     "output_type": "stream",
     "text": [
      "W0000 00:00:1711606287.410937      84 graph_launch.cc:671] Fallback to op-by-op mode because memset node breaks graph update\n"
     ]
    },
    {
     "name": "stdout",
     "output_type": "stream",
     "text": [
      "              precision    recall  f1-score   support\n",
      "\n",
      "           0     1.0000    0.9979    0.9989      2371\n",
      "           1     1.0000    0.9959    0.9979      1215\n",
      "           2     0.9992    1.0000    0.9996     12414\n",
      "\n",
      "    accuracy                         0.9994     16000\n",
      "   macro avg     0.9997    0.9979    0.9988     16000\n",
      "weighted avg     0.9994    0.9994    0.9994     16000\n",
      "\n"
     ]
    },
    {
     "data": {
      "image/png": "[encoded data removed]",
      "text/plain": [
       "<Figure size 640x480 with 2 Axes>"
      ]
     },
     "metadata": {},
     "output_type": "display_data"
    },
    {
     "name": "stdout",
     "output_type": "stream",
     "text": [
      "Testing Results\n",
      "              precision    recall  f1-score   support\n",
      "\n",
      "           0     0.6455    0.5325    0.5836       554\n",
      "           1     0.2671    0.1443    0.1874       298\n",
      "           2     0.8797    0.9450    0.9112      3148\n",
      "\n",
      "    accuracy                         0.8283      4000\n",
      "   macro avg     0.5974    0.5406    0.5607      4000\n",
      "weighted avg     0.8016    0.8283    0.8119      4000\n",
      "\n"
     ]
    },
    {
     "data": {
      "image/png": "[encoded data removed]",
      "text/plain": [
       "<Figure size 640x480 with 2 Axes>"
      ]
     },
     "metadata": {},
     "output_type": "display_data"
    }
   ],
   "source": [
    "from sklearn.metrics import confusion_matrix, ConfusionMatrixDisplay\n",
    "print(\"Training Results\")\n",
    "yhat_probs = model3.predict(train_pad_seq, verbose=0)\n",
    "pred =  np.argmax(yhat_probs, axis=1)\n",
    "matrix = classification_report(Y_train, pred,digits =4)\n",
    "print(matrix)\n",
    "\n",
    "cm = confusion_matrix(Y_train, pred)\n",
    "disp = ConfusionMatrixDisplay(confusion_matrix=cm,display_labels=[\"Negative\",\"Neutral\",\"Positive\"])\n",
    "disp.plot()\n",
    "plt.show()\n",
    "\n",
    "print(\"Testing Results\")\n",
    "yhat_probs = model3.predict(test_pad_seq, verbose=0)\n",
    "pred =  np.argmax(yhat_probs, axis=1)\n",
    "matrix = classification_report(Y_test, pred,digits =4)\n",
    "print(matrix)\n",
    "\n",
    "cm = confusion_matrix(Y_test, pred)\n",
    "disp = ConfusionMatrixDisplay(confusion_matrix=cm,display_labels=[\"Negative\",\"Neutral\",\"Positive\"])\n",
    "disp.plot()\n",
    "plt.show()"
   ]
  },
  {
   "cell_type": "markdown",
   "id": "e10ba909",
   "metadata": {
    "papermill": {
     "duration": 0.023265,
     "end_time": "2024-03-28T06:11:28.926555",
     "exception": false,
     "start_time": "2024-03-28T06:11:28.903290",
     "status": "completed"
    },
    "tags": []
   },
   "source": [
    "### CNN + LSTM"
   ]
  },
  {
   "cell_type": "code",
   "execution_count": 48,
   "id": "519970c0",
   "metadata": {
    "execution": {
     "iopub.execute_input": "2024-03-28T06:11:28.975183Z",
     "iopub.status.busy": "2024-03-28T06:11:28.974765Z",
     "iopub.status.idle": "2024-03-28T06:12:45.504149Z",
     "shell.execute_reply": "2024-03-28T06:12:45.503143Z"
    },
    "papermill": {
     "duration": 76.579502,
     "end_time": "2024-03-28T06:12:45.529603",
     "exception": false,
     "start_time": "2024-03-28T06:11:28.950101",
     "status": "completed"
    },
    "tags": []
   },
   "outputs": [
    {
     "name": "stdout",
     "output_type": "stream",
     "text": [
      "Epoch 1/5\n",
      "500/500 - 16s - 33ms/step - accuracy: 0.7999 - loss: 0.5560 - val_accuracy: 0.8397 - val_loss: 0.4553\n",
      "Epoch 2/5\n",
      "500/500 - 13s - 26ms/step - accuracy: 0.8612 - loss: 0.3831 - val_accuracy: 0.8388 - val_loss: 0.4649\n",
      "Epoch 3/5\n",
      "500/500 - 13s - 26ms/step - accuracy: 0.8953 - loss: 0.2766 - val_accuracy: 0.8330 - val_loss: 0.5058\n",
      "Epoch 4/5\n",
      "500/500 - 13s - 27ms/step - accuracy: 0.9313 - loss: 0.1839 - val_accuracy: 0.8142 - val_loss: 0.6322\n",
      "Epoch 5/5\n",
      "500/500 - 20s - 41ms/step - accuracy: 0.9596 - loss: 0.1178 - val_accuracy: 0.8040 - val_loss: 0.7980\n"
     ]
    }
   ],
   "source": [
    "from tensorflow.keras.layers import Conv1D,MaxPooling1D\n",
    "\n",
    "n_lstm=128\n",
    "embeding_dim =128\n",
    "drop_lstm =0.2\n",
    "\n",
    "model4 = Sequential()\n",
    "model4.add(Embedding(vocab_size, embeding_dim))\n",
    "model4.add(Conv1D(filters=32, kernel_size=3, padding='same', activation='relu'))\n",
    "model4.add(MaxPooling1D(pool_size=2))\n",
    "model4.add(LSTM(n_lstm, dropout=drop_lstm))\n",
    "model4.add(Dense(3, activation='softmax'))\n",
    "\n",
    "\n",
    "model4.compile(loss = 'sparse_categorical_crossentropy', optimizer = 'adam', metrics=['accuracy'])\n",
    "\n",
    "history = model4.fit(train_pad_seq,Y_train, epochs=num_epochs,validation_data=(test_pad_seq, Y_test), verbose=2)"
   ]
  },
  {
   "cell_type": "code",
   "execution_count": 49,
   "id": "f79f74b5",
   "metadata": {
    "execution": {
     "iopub.execute_input": "2024-03-28T06:12:45.584325Z",
     "iopub.status.busy": "2024-03-28T06:12:45.584012Z",
     "iopub.status.idle": "2024-03-28T06:12:51.682660Z",
     "shell.execute_reply": "2024-03-28T06:12:51.681697Z"
    },
    "papermill": {
     "duration": 6.128433,
     "end_time": "2024-03-28T06:12:51.684655",
     "exception": false,
     "start_time": "2024-03-28T06:12:45.556222",
     "status": "completed"
    },
    "tags": []
   },
   "outputs": [
    {
     "name": "stdout",
     "output_type": "stream",
     "text": [
      "Training Results\n",
      "              precision    recall  f1-score   support\n",
      "\n",
      "           0     0.9660    0.9814    0.9736      2371\n",
      "           1     0.9553    0.8609    0.9056      1215\n",
      "           2     0.9906    0.9972    0.9939     12414\n",
      "\n",
      "    accuracy                         0.9845     16000\n",
      "   macro avg     0.9706    0.9465    0.9577     16000\n",
      "weighted avg     0.9843    0.9845    0.9842     16000\n",
      "\n"
     ]
    },
    {
     "data": {
      "image/png": "[encoded data removed]",
      "text/plain": [
       "<Figure size 640x480 with 2 Axes>"
      ]
     },
     "metadata": {},
     "output_type": "display_data"
    },
    {
     "name": "stdout",
     "output_type": "stream",
     "text": [
      "Testing Results\n",
      "              precision    recall  f1-score   support\n",
      "\n",
      "           0     0.5803    0.5740    0.5771       554\n",
      "           1     0.2125    0.1946    0.2032       298\n",
      "           2     0.8934    0.9022    0.8977      3148\n",
      "\n",
      "    accuracy                         0.8040      4000\n",
      "   macro avg     0.5620    0.5569    0.5593      4000\n",
      "weighted avg     0.7993    0.8040    0.8016      4000\n",
      "\n"
     ]
    },
    {
     "data": {
      "image/png": "[encoded data removed]",
      "text/plain": [
       "<Figure size 640x480 with 2 Axes>"
      ]
     },
     "metadata": {},
     "output_type": "display_data"
    }
   ],
   "source": [
    "from sklearn.metrics import confusion_matrix, ConfusionMatrixDisplay\n",
    "print(\"Training Results\")\n",
    "yhat_probs = model4.predict(train_pad_seq, verbose=0)\n",
    "pred =  np.argmax(yhat_probs, axis=1)\n",
    "matrix = classification_report(Y_train, pred,digits =4)\n",
    "print(matrix)\n",
    "\n",
    "cm = confusion_matrix(Y_train, pred)\n",
    "disp = ConfusionMatrixDisplay(confusion_matrix=cm,display_labels=[\"Negative\",\"Neutral\",\"Positive\"])\n",
    "disp.plot()\n",
    "plt.show()\n",
    "\n",
    "print(\"Testing Results\")\n",
    "yhat_probs = model4.predict(test_pad_seq, verbose=0)\n",
    "pred =  np.argmax(yhat_probs, axis=1)\n",
    "matrix = classification_report(Y_test, pred,digits =4)\n",
    "print(matrix)\n",
    "\n",
    "cm = confusion_matrix(Y_test, pred)\n",
    "disp = ConfusionMatrixDisplay(confusion_matrix=cm,display_labels=[\"Negative\",\"Neutral\",\"Positive\"])\n",
    "disp.plot()\n",
    "plt.show()\n"
   ]
  },
  {
   "cell_type": "code",
   "execution_count": null,
   "id": "25b0c33b",
   "metadata": {
    "papermill": {
     "duration": 0.025415,
     "end_time": "2024-03-28T06:12:51.736002",
     "exception": false,
     "start_time": "2024-03-28T06:12:51.710587",
     "status": "completed"
    },
    "tags": []
   },
   "outputs": [],
   "source": []
  }
 ],
 "metadata": {
  "kaggle": {
   "accelerator": "nvidiaTeslaT4",
   "dataSources": [
    {
     "datasetId": 4683591,
     "sourceId": 7961653,
     "sourceType": "datasetVersion"
    }
   ],
   "dockerImageVersionId": 30674,
   "isGpuEnabled": true,
   "isInternetEnabled": true,
   "language": "python",
   "sourceType": "notebook"
  },
  "kernelspec": {
   "display_name": "Python 3 (ipykernel)",
   "language": "python",
   "name": "python3"
  },
  "language_info": {
   "codemirror_mode": {
    "name": "ipython",
    "version": 3
   },
   "file_extension": ".py",
   "mimetype": "text/x-python",
   "name": "python",
   "nbconvert_exporter": "python",
   "pygments_lexer": "ipython3",
   "version": "3.11.3"
  },
  "papermill": {
   "default_parameters": {},
   "duration": 892.773393,
   "end_time": "2024-03-28T06:12:54.792683",
   "environment_variables": {},
   "exception": null,
   "input_path": "__notebook__.ipynb",
   "output_path": "__notebook__.ipynb",
   "parameters": {},
   "start_time": "2024-03-28T05:58:02.019290",
   "version": "2.5.0"
  },
  "widgets": {
   "application/vnd.jupyter.widget-state+json": {
    "state": {
     "0792e1f5ffd248e0b870987bb1846e0b": {
      "model_module": "@jupyter-widgets/controls",
      "model_module_version": "1.5.0",
      "model_name": "ProgressStyleModel",
      "state": {
       "_model_module": "@jupyter-widgets/controls",
       "_model_module_version": "1.5.0",
       "_model_name": "ProgressStyleModel",
       "_view_count": null,
       "_view_module": "@jupyter-widgets/base",
       "_view_module_version": "1.2.0",
       "_view_name": "StyleView",
       "bar_color": null,
       "description_width": ""
      }
     },
     "109d61142c9f400e9c9bd41ffdd63db7": {
      "model_module": "@jupyter-widgets/base",
      "model_module_version": "1.2.0",
      "model_name": "LayoutModel",
      "state": {
       "_model_module": "@jupyter-widgets/base",
       "_model_module_version": "1.2.0",
       "_model_name": "LayoutModel",
       "_view_count": null,
       "_view_module": "@jupyter-widgets/base",
       "_view_module_version": "1.2.0",
       "_view_name": "LayoutView",
       "align_content": null,
       "align_items": null,
       "align_self": null,
       "border": null,
       "bottom": null,
       "display": null,
       "flex": null,
       "flex_flow": null,
       "grid_area": null,
       "grid_auto_columns": null,
       "grid_auto_flow": null,
       "grid_auto_rows": null,
       "grid_column": null,
       "grid_gap": null,
       "grid_row": null,
       "grid_template_areas": null,
       "grid_template_columns": null,
       "grid_template_rows": null,
       "height": null,
       "justify_content": null,
       "justify_items": null,
       "left": null,
       "margin": null,
       "max_height": null,
       "max_width": null,
       "min_height": null,
       "min_width": null,
       "object_fit": null,
       "object_position": null,
       "order": null,
       "overflow": null,
       "overflow_x": null,
       "overflow_y": null,
       "padding": null,
       "right": null,
       "top": null,
       "visibility": null,
       "width": null
      }
     },
     "16390904f4d24c2b88cbfa79a20c21df": {
      "model_module": "@jupyter-widgets/controls",
      "model_module_version": "1.5.0",
      "model_name": "DescriptionStyleModel",
      "state": {
       "_model_module": "@jupyter-widgets/controls",
       "_model_module_version": "1.5.0",
       "_model_name": "DescriptionStyleModel",
       "_view_count": null,
       "_view_module": "@jupyter-widgets/base",
       "_view_module_version": "1.2.0",
       "_view_name": "StyleView",
       "description_width": ""
      }
     },
     "61a444d52597480789256b3850baf658": {
      "model_module": "@jupyter-widgets/controls",
      "model_module_version": "1.5.0",
      "model_name": "HBoxModel",
      "state": {
       "_dom_classes": [],
       "_model_module": "@jupyter-widgets/controls",
       "_model_module_version": "1.5.0",
       "_model_name": "HBoxModel",
       "_view_count": null,
       "_view_module": "@jupyter-widgets/controls",
       "_view_module_version": "1.5.0",
       "_view_name": "HBoxView",
       "box_style": "",
       "children": [
        "IPY_MODEL_9426acd35d0f47ec90f4a740d69d034d",
        "IPY_MODEL_828efb95d95549c58b1f95a592f8362d",
        "IPY_MODEL_8cb6e6e06faf4c429f88fe09241b9955"
       ],
       "layout": "IPY_MODEL_a01f07892b5145f588566668abdbe473"
      }
     },
     "784f4593638a47319d3a75fcd20cd1c4": {
      "model_module": "@jupyter-widgets/base",
      "model_module_version": "1.2.0",
      "model_name": "LayoutModel",
      "state": {
       "_model_module": "@jupyter-widgets/base",
       "_model_module_version": "1.2.0",
       "_model_name": "LayoutModel",
       "_view_count": null,
       "_view_module": "@jupyter-widgets/base",
       "_view_module_version": "1.2.0",
       "_view_name": "LayoutView",
       "align_content": null,
       "align_items": null,
       "align_self": null,
       "border": null,
       "bottom": null,
       "display": null,
       "flex": null,
       "flex_flow": null,
       "grid_area": null,
       "grid_auto_columns": null,
       "grid_auto_flow": null,
       "grid_auto_rows": null,
       "grid_column": null,
       "grid_gap": null,
       "grid_row": null,
       "grid_template_areas": null,
       "grid_template_columns": null,
       "grid_template_rows": null,
       "height": null,
       "justify_content": null,
       "justify_items": null,
       "left": null,
       "margin": null,
       "max_height": null,
       "max_width": null,
       "min_height": null,
       "min_width": null,
       "object_fit": null,
       "object_position": null,
       "order": null,
       "overflow": null,
       "overflow_x": null,
       "overflow_y": null,
       "padding": null,
       "right": null,
       "top": null,
       "visibility": null,
       "width": null
      }
     },
     "828efb95d95549c58b1f95a592f8362d": {
      "model_module": "@jupyter-widgets/controls",
      "model_module_version": "1.5.0",
      "model_name": "FloatProgressModel",
      "state": {
       "_dom_classes": [],
       "_model_module": "@jupyter-widgets/controls",
       "_model_module_version": "1.5.0",
       "_model_name": "FloatProgressModel",
       "_view_count": null,
       "_view_module": "@jupyter-widgets/controls",
       "_view_module_version": "1.5.0",
       "_view_name": "ProgressView",
       "bar_style": "success",
       "description": "",
       "description_tooltip": null,
       "layout": "IPY_MODEL_109d61142c9f400e9c9bd41ffdd63db7",
       "max": 20000,
       "min": 0,
       "orientation": "horizontal",
       "style": "IPY_MODEL_0792e1f5ffd248e0b870987bb1846e0b",
       "value": 20000
      }
     },
     "8ae2965d525b492cbc94e5b109be4b31": {
      "model_module": "@jupyter-widgets/base",
      "model_module_version": "1.2.0",
      "model_name": "LayoutModel",
      "state": {
       "_model_module": "@jupyter-widgets/base",
       "_model_module_version": "1.2.0",
       "_model_name": "LayoutModel",
       "_view_count": null,
       "_view_module": "@jupyter-widgets/base",
       "_view_module_version": "1.2.0",
       "_view_name": "LayoutView",
       "align_content": null,
       "align_items": null,
       "align_self": null,
       "border": null,
       "bottom": null,
       "display": null,
       "flex": null,
       "flex_flow": null,
       "grid_area": null,
       "grid_auto_columns": null,
       "grid_auto_flow": null,
       "grid_auto_rows": null,
       "grid_column": null,
       "grid_gap": null,
       "grid_row": null,
       "grid_template_areas": null,
       "grid_template_columns": null,
       "grid_template_rows": null,
       "height": null,
       "justify_content": null,
       "justify_items": null,
       "left": null,
       "margin": null,
       "max_height": null,
       "max_width": null,
       "min_height": null,
       "min_width": null,
       "object_fit": null,
       "object_position": null,
       "order": null,
       "overflow": null,
       "overflow_x": null,
       "overflow_y": null,
       "padding": null,
       "right": null,
       "top": null,
       "visibility": null,
       "width": null
      }
     },
     "8cb6e6e06faf4c429f88fe09241b9955": {
      "model_module": "@jupyter-widgets/controls",
      "model_module_version": "1.5.0",
      "model_name": "HTMLModel",
      "state": {
       "_dom_classes": [],
       "_model_module": "@jupyter-widgets/controls",
       "_model_module_version": "1.5.0",
       "_model_name": "HTMLModel",
       "_view_count": null,
       "_view_module": "@jupyter-widgets/controls",
       "_view_module_version": "1.5.0",
       "_view_name": "HTMLView",
       "description": "",
       "description_tooltip": null,
       "layout": "IPY_MODEL_784f4593638a47319d3a75fcd20cd1c4",
       "placeholder": "​",
       "style": "IPY_MODEL_974bd03e1ccf4fc982e347863c80c279",
       "value": " 20000/20000 [03:24&lt;00:00, 90.14it/s]"
      }
     },
     "9426acd35d0f47ec90f4a740d69d034d": {
      "model_module": "@jupyter-widgets/controls",
      "model_module_version": "1.5.0",
      "model_name": "HTMLModel",
      "state": {
       "_dom_classes": [],
       "_model_module": "@jupyter-widgets/controls",
       "_model_module_version": "1.5.0",
       "_model_name": "HTMLModel",
       "_view_count": null,
       "_view_module": "@jupyter-widgets/controls",
       "_view_module_version": "1.5.0",
       "_view_name": "HTMLView",
       "description": "",
       "description_tooltip": null,
       "layout": "IPY_MODEL_8ae2965d525b492cbc94e5b109be4b31",
       "placeholder": "​",
       "style": "IPY_MODEL_16390904f4d24c2b88cbfa79a20c21df",
       "value": "100%"
      }
     },
     "974bd03e1ccf4fc982e347863c80c279": {
      "model_module": "@jupyter-widgets/controls",
      "model_module_version": "1.5.0",
      "model_name": "DescriptionStyleModel",
      "state": {
       "_model_module": "@jupyter-widgets/controls",
       "_model_module_version": "1.5.0",
       "_model_name": "DescriptionStyleModel",
       "_view_count": null,
       "_view_module": "@jupyter-widgets/base",
       "_view_module_version": "1.2.0",
       "_view_name": "StyleView",
       "description_width": ""
      }
     },
     "a01f07892b5145f588566668abdbe473": {
      "model_module": "@jupyter-widgets/base",
      "model_module_version": "1.2.0",
      "model_name": "LayoutModel",
      "state": {
       "_model_module": "@jupyter-widgets/base",
       "_model_module_version": "1.2.0",
       "_model_name": "LayoutModel",
       "_view_count": null,
       "_view_module": "@jupyter-widgets/base",
       "_view_module_version": "1.2.0",
       "_view_name": "LayoutView",
       "align_content": null,
       "align_items": null,
       "align_self": null,
       "border": null,
       "bottom": null,
       "display": null,
       "flex": null,
       "flex_flow": null,
       "grid_area": null,
       "grid_auto_columns": null,
       "grid_auto_flow": null,
       "grid_auto_rows": null,
       "grid_column": null,
       "grid_gap": null,
       "grid_row": null,
       "grid_template_areas": null,
       "grid_template_columns": null,
       "grid_template_rows": null,
       "height": null,
       "justify_content": null,
       "justify_items": null,
       "left": null,
       "margin": null,
       "max_height": null,
       "max_width": null,
       "min_height": null,
       "min_width": null,
       "object_fit": null,
       "object_position": null,
       "order": null,
       "overflow": null,
       "overflow_x": null,
       "overflow_y": null,
       "padding": null,
       "right": null,
       "top": null,
       "visibility": null,
       "width": null
      }
     }
    },
    "version_major": 2,
    "version_minor": 0
   }
  }
 },
 "nbformat": 4,
 "nbformat_minor": 5
}
