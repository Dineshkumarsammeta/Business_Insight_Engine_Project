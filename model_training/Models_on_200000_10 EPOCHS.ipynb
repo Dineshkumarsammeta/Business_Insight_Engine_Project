{
 "cells": [
  {
   "cell_type": "code",
   "execution_count": 1,
   "id": "e00386c6",
   "metadata": {
    "execution": {
     "iopub.execute_input": "2024-05-04T05:02:43.093734Z",
     "iopub.status.busy": "2024-05-04T05:02:43.093467Z",
     "iopub.status.idle": "2024-05-04T05:02:43.741654Z",
     "shell.execute_reply": "2024-05-04T05:02:43.740626Z"
    },
    "papermill": {
     "duration": 0.663997,
     "end_time": "2024-05-04T05:02:43.744004",
     "exception": false,
     "start_time": "2024-05-04T05:02:43.080007",
     "status": "completed"
    },
    "tags": []
   },
   "outputs": [],
   "source": [
    "import pandas as pd"
   ]
  },
  {
   "cell_type": "code",
   "execution_count": 2,
   "id": "464adff0",
   "metadata": {
    "execution": {
     "iopub.execute_input": "2024-05-04T05:02:43.770460Z",
     "iopub.status.busy": "2024-05-04T05:02:43.769560Z",
     "iopub.status.idle": "2024-05-04T05:03:55.203417Z",
     "shell.execute_reply": "2024-05-04T05:03:55.202440Z"
    },
    "papermill": {
     "duration": 71.449176,
     "end_time": "2024-05-04T05:03:55.205808",
     "exception": false,
     "start_time": "2024-05-04T05:02:43.756632",
     "status": "completed"
    },
    "tags": []
   },
   "outputs": [
    {
     "name": "stdout",
     "output_type": "stream",
     "text": [
      "Collecting tensorflow==2.12.0\r\n",
      "  Downloading tensorflow-2.12.0-cp310-cp310-manylinux_2_17_x86_64.manylinux2014_x86_64.whl.metadata (3.4 kB)\r\n",
      "Requirement already satisfied: absl-py>=1.0.0 in /opt/conda/lib/python3.10/site-packages (from tensorflow==2.12.0) (1.4.0)\r\n",
      "Requirement already satisfied: astunparse>=1.6.0 in /opt/conda/lib/python3.10/site-packages (from tensorflow==2.12.0) (1.6.3)\r\n",
      "Requirement already satisfied: flatbuffers>=2.0 in /opt/conda/lib/python3.10/site-packages (from tensorflow==2.12.0) (23.5.26)\r\n",
      "Collecting gast<=0.4.0,>=0.2.1 (from tensorflow==2.12.0)\r\n",
      "  Downloading gast-0.4.0-py3-none-any.whl.metadata (1.1 kB)\r\n",
      "Requirement already satisfied: google-pasta>=0.1.1 in /opt/conda/lib/python3.10/site-packages (from tensorflow==2.12.0) (0.2.0)\r\n",
      "Requirement already satisfied: grpcio<2.0,>=1.24.3 in /opt/conda/lib/python3.10/site-packages (from tensorflow==2.12.0) (1.51.1)\r\n",
      "Requirement already satisfied: h5py>=2.9.0 in /opt/conda/lib/python3.10/site-packages (from tensorflow==2.12.0) (3.10.0)\r\n",
      "Requirement already satisfied: jax>=0.3.15 in /opt/conda/lib/python3.10/site-packages (from tensorflow==2.12.0) (0.4.23)\r\n",
      "Collecting keras<2.13,>=2.12.0 (from tensorflow==2.12.0)\r\n",
      "  Downloading keras-2.12.0-py2.py3-none-any.whl.metadata (1.4 kB)\r\n",
      "Requirement already satisfied: libclang>=13.0.0 in /opt/conda/lib/python3.10/site-packages (from tensorflow==2.12.0) (16.0.6)\r\n",
      "Collecting numpy<1.24,>=1.22 (from tensorflow==2.12.0)\r\n",
      "  Downloading numpy-1.23.5-cp310-cp310-manylinux_2_17_x86_64.manylinux2014_x86_64.whl.metadata (2.3 kB)\r\n",
      "Requirement already satisfied: opt-einsum>=2.3.2 in /opt/conda/lib/python3.10/site-packages (from tensorflow==2.12.0) (3.3.0)\r\n",
      "Requirement already satisfied: packaging in /opt/conda/lib/python3.10/site-packages (from tensorflow==2.12.0) (21.3)\r\n",
      "Requirement already satisfied: protobuf!=4.21.0,!=4.21.1,!=4.21.2,!=4.21.3,!=4.21.4,!=4.21.5,<5.0.0dev,>=3.20.3 in /opt/conda/lib/python3.10/site-packages (from tensorflow==2.12.0) (3.20.3)\r\n",
      "Requirement already satisfied: setuptools in /opt/conda/lib/python3.10/site-packages (from tensorflow==2.12.0) (69.0.3)\r\n",
      "Requirement already satisfied: six>=1.12.0 in /opt/conda/lib/python3.10/site-packages (from tensorflow==2.12.0) (1.16.0)\r\n",
      "Collecting tensorboard<2.13,>=2.12 (from tensorflow==2.12.0)\r\n",
      "  Downloading tensorboard-2.12.3-py3-none-any.whl.metadata (1.8 kB)\r\n",
      "Collecting tensorflow-estimator<2.13,>=2.12.0 (from tensorflow==2.12.0)\r\n",
      "  Downloading tensorflow_estimator-2.12.0-py2.py3-none-any.whl.metadata (1.3 kB)\r\n",
      "Requirement already satisfied: termcolor>=1.1.0 in /opt/conda/lib/python3.10/site-packages (from tensorflow==2.12.0) (2.4.0)\r\n",
      "Requirement already satisfied: typing-extensions>=3.6.6 in /opt/conda/lib/python3.10/site-packages (from tensorflow==2.12.0) (4.9.0)\r\n",
      "Requirement already satisfied: wrapt<1.15,>=1.11.0 in /opt/conda/lib/python3.10/site-packages (from tensorflow==2.12.0) (1.14.1)\r\n",
      "Requirement already satisfied: tensorflow-io-gcs-filesystem>=0.23.1 in /opt/conda/lib/python3.10/site-packages (from tensorflow==2.12.0) (0.35.0)\r\n",
      "Requirement already satisfied: wheel<1.0,>=0.23.0 in /opt/conda/lib/python3.10/site-packages (from astunparse>=1.6.0->tensorflow==2.12.0) (0.42.0)\r\n",
      "Requirement already satisfied: ml-dtypes>=0.2.0 in /opt/conda/lib/python3.10/site-packages (from jax>=0.3.15->tensorflow==2.12.0) (0.2.0)\r\n",
      "Requirement already satisfied: scipy>=1.9 in /opt/conda/lib/python3.10/site-packages (from jax>=0.3.15->tensorflow==2.12.0) (1.11.4)\r\n",
      "Requirement already satisfied: google-auth<3,>=1.6.3 in /opt/conda/lib/python3.10/site-packages (from tensorboard<2.13,>=2.12->tensorflow==2.12.0) (2.26.1)\r\n",
      "Collecting google-auth-oauthlib<1.1,>=0.5 (from tensorboard<2.13,>=2.12->tensorflow==2.12.0)\r\n",
      "  Downloading google_auth_oauthlib-1.0.0-py2.py3-none-any.whl.metadata (2.7 kB)\r\n",
      "Requirement already satisfied: markdown>=2.6.8 in /opt/conda/lib/python3.10/site-packages (from tensorboard<2.13,>=2.12->tensorflow==2.12.0) (3.5.2)\r\n",
      "Requirement already satisfied: requests<3,>=2.21.0 in /opt/conda/lib/python3.10/site-packages (from tensorboard<2.13,>=2.12->tensorflow==2.12.0) (2.31.0)\r\n",
      "Requirement already satisfied: tensorboard-data-server<0.8.0,>=0.7.0 in /opt/conda/lib/python3.10/site-packages (from tensorboard<2.13,>=2.12->tensorflow==2.12.0) (0.7.2)\r\n",
      "Requirement already satisfied: werkzeug>=1.0.1 in /opt/conda/lib/python3.10/site-packages (from tensorboard<2.13,>=2.12->tensorflow==2.12.0) (3.0.1)\r\n",
      "Requirement already satisfied: pyparsing!=3.0.5,>=2.0.2 in /opt/conda/lib/python3.10/site-packages (from packaging->tensorflow==2.12.0) (3.1.1)\r\n",
      "Requirement already satisfied: cachetools<6.0,>=2.0.0 in /opt/conda/lib/python3.10/site-packages (from google-auth<3,>=1.6.3->tensorboard<2.13,>=2.12->tensorflow==2.12.0) (4.2.4)\r\n",
      "Requirement already satisfied: pyasn1-modules>=0.2.1 in /opt/conda/lib/python3.10/site-packages (from google-auth<3,>=1.6.3->tensorboard<2.13,>=2.12->tensorflow==2.12.0) (0.3.0)\r\n",
      "Requirement already satisfied: rsa<5,>=3.1.4 in /opt/conda/lib/python3.10/site-packages (from google-auth<3,>=1.6.3->tensorboard<2.13,>=2.12->tensorflow==2.12.0) (4.9)\r\n",
      "Requirement already satisfied: requests-oauthlib>=0.7.0 in /opt/conda/lib/python3.10/site-packages (from google-auth-oauthlib<1.1,>=0.5->tensorboard<2.13,>=2.12->tensorflow==2.12.0) (1.3.1)\r\n",
      "Requirement already satisfied: charset-normalizer<4,>=2 in /opt/conda/lib/python3.10/site-packages (from requests<3,>=2.21.0->tensorboard<2.13,>=2.12->tensorflow==2.12.0) (3.3.2)\r\n",
      "Requirement already satisfied: idna<4,>=2.5 in /opt/conda/lib/python3.10/site-packages (from requests<3,>=2.21.0->tensorboard<2.13,>=2.12->tensorflow==2.12.0) (3.6)\r\n",
      "Requirement already satisfied: urllib3<3,>=1.21.1 in /opt/conda/lib/python3.10/site-packages (from requests<3,>=2.21.0->tensorboard<2.13,>=2.12->tensorflow==2.12.0) (1.26.18)\r\n",
      "Requirement already satisfied: certifi>=2017.4.17 in /opt/conda/lib/python3.10/site-packages (from requests<3,>=2.21.0->tensorboard<2.13,>=2.12->tensorflow==2.12.0) (2024.2.2)\r\n",
      "Requirement already satisfied: MarkupSafe>=2.1.1 in /opt/conda/lib/python3.10/site-packages (from werkzeug>=1.0.1->tensorboard<2.13,>=2.12->tensorflow==2.12.0) (2.1.3)\r\n",
      "Requirement already satisfied: pyasn1<0.6.0,>=0.4.6 in /opt/conda/lib/python3.10/site-packages (from pyasn1-modules>=0.2.1->google-auth<3,>=1.6.3->tensorboard<2.13,>=2.12->tensorflow==2.12.0) (0.5.1)\r\n",
      "Requirement already satisfied: oauthlib>=3.0.0 in /opt/conda/lib/python3.10/site-packages (from requests-oauthlib>=0.7.0->google-auth-oauthlib<1.1,>=0.5->tensorboard<2.13,>=2.12->tensorflow==2.12.0) (3.2.2)\r\n",
      "Downloading tensorflow-2.12.0-cp310-cp310-manylinux_2_17_x86_64.manylinux2014_x86_64.whl (585.9 MB)\r\n",
      "\u001b[2K   \u001b[90m━━━━━━━━━━━━━━━━━━━━━━━━━━━━━━━━━━━━━━━━\u001b[0m \u001b[32m585.9/585.9 MB\u001b[0m \u001b[31m2.5 MB/s\u001b[0m eta \u001b[36m0:00:00\u001b[0m\r\n",
      "\u001b[?25hDownloading gast-0.4.0-py3-none-any.whl (9.8 kB)\r\n",
      "Downloading keras-2.12.0-py2.py3-none-any.whl (1.7 MB)\r\n",
      "\u001b[2K   \u001b[90m━━━━━━━━━━━━━━━━━━━━━━━━━━━━━━━━━━━━━━━━\u001b[0m \u001b[32m1.7/1.7 MB\u001b[0m \u001b[31m32.5 MB/s\u001b[0m eta \u001b[36m0:00:00\u001b[0m\r\n",
      "\u001b[?25hDownloading numpy-1.23.5-cp310-cp310-manylinux_2_17_x86_64.manylinux2014_x86_64.whl (17.1 MB)\r\n",
      "\u001b[2K   \u001b[90m━━━━━━━━━━━━━━━━━━━━━━━━━━━━━━━━━━━━━━━━\u001b[0m \u001b[32m17.1/17.1 MB\u001b[0m \u001b[31m34.2 MB/s\u001b[0m eta \u001b[36m0:00:00\u001b[0m\r\n",
      "\u001b[?25hDownloading tensorboard-2.12.3-py3-none-any.whl (5.6 MB)\r\n",
      "\u001b[2K   \u001b[90m━━━━━━━━━━━━━━━━━━━━━━━━━━━━━━━━━━━━━━━━\u001b[0m \u001b[32m5.6/5.6 MB\u001b[0m \u001b[31m39.5 MB/s\u001b[0m eta \u001b[36m0:00:00\u001b[0m\r\n",
      "\u001b[?25hDownloading tensorflow_estimator-2.12.0-py2.py3-none-any.whl (440 kB)\r\n",
      "\u001b[2K   \u001b[90m━━━━━━━━━━━━━━━━━━━━━━━━━━━━━━━━━━━━━━━━\u001b[0m \u001b[32m440.7/440.7 kB\u001b[0m \u001b[31m25.0 MB/s\u001b[0m eta \u001b[36m0:00:00\u001b[0m\r\n",
      "\u001b[?25hDownloading google_auth_oauthlib-1.0.0-py2.py3-none-any.whl (18 kB)\r\n",
      "Installing collected packages: tensorflow-estimator, numpy, keras, gast, google-auth-oauthlib, tensorboard, tensorflow\r\n",
      "  Attempting uninstall: tensorflow-estimator\r\n",
      "    Found existing installation: tensorflow-estimator 2.15.0\r\n",
      "    Uninstalling tensorflow-estimator-2.15.0:\r\n",
      "      Successfully uninstalled tensorflow-estimator-2.15.0\r\n",
      "  Attempting uninstall: numpy\r\n",
      "    Found existing installation: numpy 1.26.4\r\n",
      "    Uninstalling numpy-1.26.4:\r\n",
      "      Successfully uninstalled numpy-1.26.4\r\n",
      "  Attempting uninstall: keras\r\n",
      "    Found existing installation: keras 3.0.5\r\n",
      "    Uninstalling keras-3.0.5:\r\n",
      "      Successfully uninstalled keras-3.0.5\r\n",
      "  Attempting uninstall: gast\r\n",
      "    Found existing installation: gast 0.5.4\r\n",
      "    Uninstalling gast-0.5.4:\r\n",
      "      Successfully uninstalled gast-0.5.4\r\n",
      "  Attempting uninstall: google-auth-oauthlib\r\n",
      "    Found existing installation: google-auth-oauthlib 1.2.0\r\n",
      "    Uninstalling google-auth-oauthlib-1.2.0:\r\n",
      "      Successfully uninstalled google-auth-oauthlib-1.2.0\r\n",
      "  Attempting uninstall: tensorboard\r\n",
      "    Found existing installation: tensorboard 2.15.1\r\n",
      "    Uninstalling tensorboard-2.15.1:\r\n",
      "      Successfully uninstalled tensorboard-2.15.1\r\n",
      "  Attempting uninstall: tensorflow\r\n",
      "    Found existing installation: tensorflow 2.15.0\r\n",
      "    Uninstalling tensorflow-2.15.0:\r\n",
      "      Successfully uninstalled tensorflow-2.15.0\r\n",
      "\u001b[31mERROR: pip's dependency resolver does not currently take into account all the packages that are installed. This behaviour is the source of the following dependency conflicts.\r\n",
      "cudf 23.8.0 requires cubinlinker, which is not installed.\r\n",
      "cudf 23.8.0 requires cupy-cuda11x>=12.0.0, which is not installed.\r\n",
      "cudf 23.8.0 requires ptxcompiler, which is not installed.\r\n",
      "cuml 23.8.0 requires cupy-cuda11x>=12.0.0, which is not installed.\r\n",
      "dask-cudf 23.8.0 requires cupy-cuda11x>=12.0.0, which is not installed.\r\n",
      "keras-nlp 0.8.2 requires keras-core, which is not installed.\r\n",
      "tensorflow-decision-forests 1.8.1 requires wurlitzer, which is not installed.\r\n",
      "albumentations 1.4.0 requires numpy>=1.24.4, but you have numpy 1.23.5 which is incompatible.\r\n",
      "apache-beam 2.46.0 requires dill<0.3.2,>=0.3.1.1, but you have dill 0.3.8 which is incompatible.\r\n",
      "apache-beam 2.46.0 requires pyarrow<10.0.0,>=3.0.0, but you have pyarrow 11.0.0 which is incompatible.\r\n",
      "chex 0.1.85 requires numpy>=1.24.1, but you have numpy 1.23.5 which is incompatible.\r\n",
      "cudf 23.8.0 requires cuda-python<12.0a0,>=11.7.1, but you have cuda-python 12.4.0 which is incompatible.\r\n",
      "cudf 23.8.0 requires pandas<1.6.0dev0,>=1.3, but you have pandas 2.1.4 which is incompatible.\r\n",
      "cudf 23.8.0 requires protobuf<5,>=4.21, but you have protobuf 3.20.3 which is incompatible.\r\n",
      "cuml 23.8.0 requires dask==2023.7.1, but you have dask 2024.3.1 which is incompatible.\r\n",
      "dask-cuda 23.8.0 requires dask==2023.7.1, but you have dask 2024.3.1 which is incompatible.\r\n",
      "dask-cuda 23.8.0 requires pandas<1.6.0dev0,>=1.3, but you have pandas 2.1.4 which is incompatible.\r\n",
      "dask-cudf 23.8.0 requires dask==2023.7.1, but you have dask 2024.3.1 which is incompatible.\r\n",
      "dask-cudf 23.8.0 requires pandas<1.6.0dev0,>=1.3, but you have pandas 2.1.4 which is incompatible.\r\n",
      "featuretools 1.30.0 requires numpy>=1.25.0, but you have numpy 1.23.5 which is incompatible.\r\n",
      "gcsfs 2023.12.2.post1 requires fsspec==2023.12.2, but you have fsspec 2024.3.0 which is incompatible.\r\n",
      "libpysal 4.9.2 requires packaging>=22, but you have packaging 21.3 which is incompatible.\r\n",
      "libpysal 4.9.2 requires shapely>=2.0.1, but you have shapely 1.8.5.post1 which is incompatible.\r\n",
      "momepy 0.7.0 requires shapely>=2, but you have shapely 1.8.5.post1 which is incompatible.\r\n",
      "osmnx 1.9.1 requires shapely>=2.0, but you have shapely 1.8.5.post1 which is incompatible.\r\n",
      "pyldavis 3.4.1 requires numpy>=1.24.2, but you have numpy 1.23.5 which is incompatible.\r\n",
      "pylibraft 23.8.0 requires cuda-python<12.0a0,>=11.7.1, but you have cuda-python 12.4.0 which is incompatible.\r\n",
      "raft-dask 23.8.0 requires dask==2023.7.1, but you have dask 2024.3.1 which is incompatible.\r\n",
      "rmm 23.8.0 requires cuda-python<12.0a0,>=11.7.1, but you have cuda-python 12.4.0 which is incompatible.\r\n",
      "spopt 0.6.0 requires shapely>=2.0.1, but you have shapely 1.8.5.post1 which is incompatible.\r\n",
      "tensorflow-decision-forests 1.8.1 requires tensorflow~=2.15.0, but you have tensorflow 2.12.0 which is incompatible.\r\n",
      "tensorflow-serving-api 2.14.1 requires tensorflow<3,>=2.14.1, but you have tensorflow 2.12.0 which is incompatible.\r\n",
      "tensorflow-text 2.15.0 requires tensorflow<2.16,>=2.15.0; platform_machine != \"arm64\" or platform_system != \"Darwin\", but you have tensorflow 2.12.0 which is incompatible.\r\n",
      "tensorstore 0.1.56 requires ml-dtypes>=0.3.1, but you have ml-dtypes 0.2.0 which is incompatible.\r\n",
      "tf-keras 2.15.1 requires tensorflow<2.16,>=2.15, but you have tensorflow 2.12.0 which is incompatible.\r\n",
      "woodwork 0.29.0 requires numpy>=1.25.0, but you have numpy 1.23.5 which is incompatible.\r\n",
      "xarray 2024.2.0 requires packaging>=22, but you have packaging 21.3 which is incompatible.\u001b[0m\u001b[31m\r\n",
      "\u001b[0mSuccessfully installed gast-0.4.0 google-auth-oauthlib-1.0.0 keras-2.12.0 numpy-1.23.5 tensorboard-2.12.3 tensorflow-2.12.0 tensorflow-estimator-2.12.0\r\n"
     ]
    }
   ],
   "source": [
    "!pip install tensorflow==2.12.0"
   ]
  },
  {
   "cell_type": "code",
   "execution_count": 3,
   "id": "e3ec1387",
   "metadata": {
    "execution": {
     "iopub.execute_input": "2024-05-04T05:03:55.269761Z",
     "iopub.status.busy": "2024-05-04T05:03:55.269469Z",
     "iopub.status.idle": "2024-05-04T05:04:01.210052Z",
     "shell.execute_reply": "2024-05-04T05:04:01.209265Z"
    },
    "papermill": {
     "duration": 5.974815,
     "end_time": "2024-05-04T05:04:01.212207",
     "exception": false,
     "start_time": "2024-05-04T05:03:55.237392",
     "status": "completed"
    },
    "tags": []
   },
   "outputs": [],
   "source": [
    "import tensorflow as tf\n",
    "from tensorflow.keras.callbacks import EarlyStopping\n",
    "from tensorflow.keras.models import Sequential\n",
    "from tensorflow.keras.layers import Embedding, GlobalAveragePooling1D, Dense, Dropout, LSTM, Bidirectional\n",
    "from sklearn.metrics import classification_report"
   ]
  },
  {
   "cell_type": "code",
   "execution_count": 4,
   "id": "f0655cb6",
   "metadata": {
    "execution": {
     "iopub.execute_input": "2024-05-04T05:04:01.276724Z",
     "iopub.status.busy": "2024-05-04T05:04:01.276132Z",
     "iopub.status.idle": "2024-05-04T05:04:11.073170Z",
     "shell.execute_reply": "2024-05-04T05:04:11.072179Z"
    },
    "papermill": {
     "duration": 9.83176,
     "end_time": "2024-05-04T05:04:11.075737",
     "exception": false,
     "start_time": "2024-05-04T05:04:01.243977",
     "status": "completed"
    },
    "tags": []
   },
   "outputs": [],
   "source": [
    "df = pd.read_csv(\"/kaggle/input/amazon-food/preprocessed_reviews.csv\")"
   ]
  },
  {
   "cell_type": "code",
   "execution_count": 5,
   "id": "66ccc588",
   "metadata": {
    "execution": {
     "iopub.execute_input": "2024-05-04T05:04:11.139315Z",
     "iopub.status.busy": "2024-05-04T05:04:11.138992Z",
     "iopub.status.idle": "2024-05-04T05:04:11.494503Z",
     "shell.execute_reply": "2024-05-04T05:04:11.493757Z"
    },
    "papermill": {
     "duration": 0.389317,
     "end_time": "2024-05-04T05:04:11.496537",
     "exception": false,
     "start_time": "2024-05-04T05:04:11.107220",
     "status": "completed"
    },
    "tags": []
   },
   "outputs": [],
   "source": [
    "d = {1:0,2:0,3:0,4:2,5:2}\n",
    "\n",
    "df[\"Label\"] = df[\"Score\"].apply(lambda x :d[x])"
   ]
  },
  {
   "cell_type": "code",
   "execution_count": 6,
   "id": "a9523b91",
   "metadata": {
    "execution": {
     "iopub.execute_input": "2024-05-04T05:04:11.559175Z",
     "iopub.status.busy": "2024-05-04T05:04:11.558873Z",
     "iopub.status.idle": "2024-05-04T05:04:11.574988Z",
     "shell.execute_reply": "2024-05-04T05:04:11.574164Z"
    },
    "papermill": {
     "duration": 0.049453,
     "end_time": "2024-05-04T05:04:11.576919",
     "exception": false,
     "start_time": "2024-05-04T05:04:11.527466",
     "status": "completed"
    },
    "tags": []
   },
   "outputs": [
    {
     "data": {
      "text/plain": [
       "Label\n",
       "2    443756\n",
       "0    124645\n",
       "Name: count, dtype: int64"
      ]
     },
     "execution_count": 6,
     "metadata": {},
     "output_type": "execute_result"
    }
   ],
   "source": [
    "df[\"Label\"].value_counts()"
   ]
  },
  {
   "cell_type": "code",
   "execution_count": 7,
   "id": "c76989e6",
   "metadata": {
    "execution": {
     "iopub.execute_input": "2024-05-04T05:04:11.640277Z",
     "iopub.status.busy": "2024-05-04T05:04:11.640000Z",
     "iopub.status.idle": "2024-05-04T05:04:11.662909Z",
     "shell.execute_reply": "2024-05-04T05:04:11.662065Z"
    },
    "papermill": {
     "duration": 0.056223,
     "end_time": "2024-05-04T05:04:11.664763",
     "exception": false,
     "start_time": "2024-05-04T05:04:11.608540",
     "status": "completed"
    },
    "tags": []
   },
   "outputs": [
    {
     "data": {
      "text/html": [
       "<div>\n",
       "<style scoped>\n",
       "    .dataframe tbody tr th:only-of-type {\n",
       "        vertical-align: middle;\n",
       "    }\n",
       "\n",
       "    .dataframe tbody tr th {\n",
       "        vertical-align: top;\n",
       "    }\n",
       "\n",
       "    .dataframe thead th {\n",
       "        text-align: right;\n",
       "    }\n",
       "</style>\n",
       "<table border=\"1\" class=\"dataframe\">\n",
       "  <thead>\n",
       "    <tr style=\"text-align: right;\">\n",
       "      <th></th>\n",
       "      <th>index</th>\n",
       "      <th>Id</th>\n",
       "      <th>ProductId</th>\n",
       "      <th>UserId</th>\n",
       "      <th>ProfileName</th>\n",
       "      <th>HelpfulnessNumerator</th>\n",
       "      <th>HelpfulnessDenominator</th>\n",
       "      <th>Score</th>\n",
       "      <th>Time</th>\n",
       "      <th>Summary</th>\n",
       "      <th>Text</th>\n",
       "      <th>Label</th>\n",
       "      <th>Preprocessed Review</th>\n",
       "    </tr>\n",
       "  </thead>\n",
       "  <tbody>\n",
       "    <tr>\n",
       "      <th>0</th>\n",
       "      <td>0</td>\n",
       "      <td>1</td>\n",
       "      <td>B001E4KFG0</td>\n",
       "      <td>A3SGXH7AUHU8GW</td>\n",
       "      <td>delmartian</td>\n",
       "      <td>1</td>\n",
       "      <td>1</td>\n",
       "      <td>5</td>\n",
       "      <td>1303862400</td>\n",
       "      <td>Good Quality Dog Food</td>\n",
       "      <td>I have bought several of the Vitality canned d...</td>\n",
       "      <td>2</td>\n",
       "      <td>bought several vitality canned dog food produc...</td>\n",
       "    </tr>\n",
       "    <tr>\n",
       "      <th>1</th>\n",
       "      <td>1</td>\n",
       "      <td>2</td>\n",
       "      <td>B00813GRG4</td>\n",
       "      <td>A1D87F6ZCVE5NK</td>\n",
       "      <td>dll pa</td>\n",
       "      <td>0</td>\n",
       "      <td>0</td>\n",
       "      <td>1</td>\n",
       "      <td>1346976000</td>\n",
       "      <td>Not as Advertised</td>\n",
       "      <td>Product arrived labeled as Jumbo Salted Peanut...</td>\n",
       "      <td>0</td>\n",
       "      <td>product arrived labeled jumbo salted peanuts p...</td>\n",
       "    </tr>\n",
       "    <tr>\n",
       "      <th>2</th>\n",
       "      <td>2</td>\n",
       "      <td>3</td>\n",
       "      <td>B000LQOCH0</td>\n",
       "      <td>ABXLMWJIXXAIN</td>\n",
       "      <td>Natalia Corres \"Natalia Corres\"</td>\n",
       "      <td>1</td>\n",
       "      <td>1</td>\n",
       "      <td>4</td>\n",
       "      <td>1219017600</td>\n",
       "      <td>\"Delight\" says it all</td>\n",
       "      <td>This is a confection that has been around a fe...</td>\n",
       "      <td>2</td>\n",
       "      <td>confection around centuries light pillowy citr...</td>\n",
       "    </tr>\n",
       "    <tr>\n",
       "      <th>3</th>\n",
       "      <td>3</td>\n",
       "      <td>4</td>\n",
       "      <td>B000UA0QIQ</td>\n",
       "      <td>A395BORC6FGVXV</td>\n",
       "      <td>Karl</td>\n",
       "      <td>3</td>\n",
       "      <td>3</td>\n",
       "      <td>2</td>\n",
       "      <td>1307923200</td>\n",
       "      <td>Cough Medicine</td>\n",
       "      <td>If you are looking for the secret ingredient i...</td>\n",
       "      <td>0</td>\n",
       "      <td>looking secret ingredient robitussin believe f...</td>\n",
       "    </tr>\n",
       "    <tr>\n",
       "      <th>4</th>\n",
       "      <td>4</td>\n",
       "      <td>5</td>\n",
       "      <td>B006K2ZZ7K</td>\n",
       "      <td>A1UQRSCLF8GW1T</td>\n",
       "      <td>Michael D. Bigham \"M. Wassir\"</td>\n",
       "      <td>0</td>\n",
       "      <td>0</td>\n",
       "      <td>5</td>\n",
       "      <td>1350777600</td>\n",
       "      <td>Great taffy</td>\n",
       "      <td>Great taffy at a great price.  There was a wid...</td>\n",
       "      <td>2</td>\n",
       "      <td>great taffy great price wide assortment yummy ...</td>\n",
       "    </tr>\n",
       "    <tr>\n",
       "      <th>...</th>\n",
       "      <td>...</td>\n",
       "      <td>...</td>\n",
       "      <td>...</td>\n",
       "      <td>...</td>\n",
       "      <td>...</td>\n",
       "      <td>...</td>\n",
       "      <td>...</td>\n",
       "      <td>...</td>\n",
       "      <td>...</td>\n",
       "      <td>...</td>\n",
       "      <td>...</td>\n",
       "      <td>...</td>\n",
       "      <td>...</td>\n",
       "    </tr>\n",
       "    <tr>\n",
       "      <th>568396</th>\n",
       "      <td>568396</td>\n",
       "      <td>568450</td>\n",
       "      <td>B001EO7N10</td>\n",
       "      <td>A28KG5XORO54AY</td>\n",
       "      <td>Lettie D. Carter</td>\n",
       "      <td>0</td>\n",
       "      <td>0</td>\n",
       "      <td>5</td>\n",
       "      <td>1299628800</td>\n",
       "      <td>Will not do without</td>\n",
       "      <td>Great for sesame chicken..this is a good if no...</td>\n",
       "      <td>2</td>\n",
       "      <td>great sesame chicken good better resturants ea...</td>\n",
       "    </tr>\n",
       "    <tr>\n",
       "      <th>568397</th>\n",
       "      <td>568397</td>\n",
       "      <td>568451</td>\n",
       "      <td>B003S1WTCU</td>\n",
       "      <td>A3I8AFVPEE8KI5</td>\n",
       "      <td>R. Sawyer</td>\n",
       "      <td>0</td>\n",
       "      <td>0</td>\n",
       "      <td>2</td>\n",
       "      <td>1331251200</td>\n",
       "      <td>disappointed</td>\n",
       "      <td>I'm disappointed with the flavor. The chocolat...</td>\n",
       "      <td>0</td>\n",
       "      <td>disappointed flavor chocolate notes especially...</td>\n",
       "    </tr>\n",
       "    <tr>\n",
       "      <th>568398</th>\n",
       "      <td>568398</td>\n",
       "      <td>568452</td>\n",
       "      <td>B004I613EE</td>\n",
       "      <td>A121AA1GQV751Z</td>\n",
       "      <td>pksd \"pk_007\"</td>\n",
       "      <td>2</td>\n",
       "      <td>2</td>\n",
       "      <td>5</td>\n",
       "      <td>1329782400</td>\n",
       "      <td>Perfect for our maltipoo</td>\n",
       "      <td>These stars are small, so you can give 10-15 o...</td>\n",
       "      <td>2</td>\n",
       "      <td>stars small give one training session tried tr...</td>\n",
       "    </tr>\n",
       "    <tr>\n",
       "      <th>568399</th>\n",
       "      <td>568399</td>\n",
       "      <td>568453</td>\n",
       "      <td>B004I613EE</td>\n",
       "      <td>A3IBEVCTXKNOH</td>\n",
       "      <td>Kathy A. Welch \"katwel\"</td>\n",
       "      <td>1</td>\n",
       "      <td>1</td>\n",
       "      <td>5</td>\n",
       "      <td>1331596800</td>\n",
       "      <td>Favorite Training and reward treat</td>\n",
       "      <td>These are the BEST treats for training and rew...</td>\n",
       "      <td>2</td>\n",
       "      <td>best treats training rewarding dog good groomi...</td>\n",
       "    </tr>\n",
       "    <tr>\n",
       "      <th>568400</th>\n",
       "      <td>568400</td>\n",
       "      <td>568454</td>\n",
       "      <td>B001LR2CU2</td>\n",
       "      <td>A3LGQPJCZVL9UC</td>\n",
       "      <td>srfell17</td>\n",
       "      <td>0</td>\n",
       "      <td>0</td>\n",
       "      <td>5</td>\n",
       "      <td>1338422400</td>\n",
       "      <td>Great Honey</td>\n",
       "      <td>I am very satisfied ,product is as advertised,...</td>\n",
       "      <td>2</td>\n",
       "      <td>satisfied product advertised use cereal raw vi...</td>\n",
       "    </tr>\n",
       "  </tbody>\n",
       "</table>\n",
       "<p>568401 rows × 13 columns</p>\n",
       "</div>"
      ],
      "text/plain": [
       "         index      Id   ProductId          UserId  \\\n",
       "0            0       1  B001E4KFG0  A3SGXH7AUHU8GW   \n",
       "1            1       2  B00813GRG4  A1D87F6ZCVE5NK   \n",
       "2            2       3  B000LQOCH0   ABXLMWJIXXAIN   \n",
       "3            3       4  B000UA0QIQ  A395BORC6FGVXV   \n",
       "4            4       5  B006K2ZZ7K  A1UQRSCLF8GW1T   \n",
       "...        ...     ...         ...             ...   \n",
       "568396  568396  568450  B001EO7N10  A28KG5XORO54AY   \n",
       "568397  568397  568451  B003S1WTCU  A3I8AFVPEE8KI5   \n",
       "568398  568398  568452  B004I613EE  A121AA1GQV751Z   \n",
       "568399  568399  568453  B004I613EE   A3IBEVCTXKNOH   \n",
       "568400  568400  568454  B001LR2CU2  A3LGQPJCZVL9UC   \n",
       "\n",
       "                            ProfileName  HelpfulnessNumerator  \\\n",
       "0                            delmartian                     1   \n",
       "1                                dll pa                     0   \n",
       "2       Natalia Corres \"Natalia Corres\"                     1   \n",
       "3                                  Karl                     3   \n",
       "4         Michael D. Bigham \"M. Wassir\"                     0   \n",
       "...                                 ...                   ...   \n",
       "568396                 Lettie D. Carter                     0   \n",
       "568397                        R. Sawyer                     0   \n",
       "568398                    pksd \"pk_007\"                     2   \n",
       "568399          Kathy A. Welch \"katwel\"                     1   \n",
       "568400                         srfell17                     0   \n",
       "\n",
       "        HelpfulnessDenominator  Score        Time  \\\n",
       "0                            1      5  1303862400   \n",
       "1                            0      1  1346976000   \n",
       "2                            1      4  1219017600   \n",
       "3                            3      2  1307923200   \n",
       "4                            0      5  1350777600   \n",
       "...                        ...    ...         ...   \n",
       "568396                       0      5  1299628800   \n",
       "568397                       0      2  1331251200   \n",
       "568398                       2      5  1329782400   \n",
       "568399                       1      5  1331596800   \n",
       "568400                       0      5  1338422400   \n",
       "\n",
       "                                   Summary  \\\n",
       "0                    Good Quality Dog Food   \n",
       "1                        Not as Advertised   \n",
       "2                    \"Delight\" says it all   \n",
       "3                           Cough Medicine   \n",
       "4                              Great taffy   \n",
       "...                                    ...   \n",
       "568396                 Will not do without   \n",
       "568397                        disappointed   \n",
       "568398            Perfect for our maltipoo   \n",
       "568399  Favorite Training and reward treat   \n",
       "568400                         Great Honey   \n",
       "\n",
       "                                                     Text  Label  \\\n",
       "0       I have bought several of the Vitality canned d...      2   \n",
       "1       Product arrived labeled as Jumbo Salted Peanut...      0   \n",
       "2       This is a confection that has been around a fe...      2   \n",
       "3       If you are looking for the secret ingredient i...      0   \n",
       "4       Great taffy at a great price.  There was a wid...      2   \n",
       "...                                                   ...    ...   \n",
       "568396  Great for sesame chicken..this is a good if no...      2   \n",
       "568397  I'm disappointed with the flavor. The chocolat...      0   \n",
       "568398  These stars are small, so you can give 10-15 o...      2   \n",
       "568399  These are the BEST treats for training and rew...      2   \n",
       "568400  I am very satisfied ,product is as advertised,...      2   \n",
       "\n",
       "                                      Preprocessed Review  \n",
       "0       bought several vitality canned dog food produc...  \n",
       "1       product arrived labeled jumbo salted peanuts p...  \n",
       "2       confection around centuries light pillowy citr...  \n",
       "3       looking secret ingredient robitussin believe f...  \n",
       "4       great taffy great price wide assortment yummy ...  \n",
       "...                                                   ...  \n",
       "568396  great sesame chicken good better resturants ea...  \n",
       "568397  disappointed flavor chocolate notes especially...  \n",
       "568398  stars small give one training session tried tr...  \n",
       "568399  best treats training rewarding dog good groomi...  \n",
       "568400  satisfied product advertised use cereal raw vi...  \n",
       "\n",
       "[568401 rows x 13 columns]"
      ]
     },
     "execution_count": 7,
     "metadata": {},
     "output_type": "execute_result"
    }
   ],
   "source": [
    "df"
   ]
  },
  {
   "cell_type": "code",
   "execution_count": 8,
   "id": "e68b2205",
   "metadata": {
    "execution": {
     "iopub.execute_input": "2024-05-04T05:04:11.729828Z",
     "iopub.status.busy": "2024-05-04T05:04:11.729561Z",
     "iopub.status.idle": "2024-05-04T05:04:12.108432Z",
     "shell.execute_reply": "2024-05-04T05:04:12.107236Z"
    },
    "papermill": {
     "duration": 0.412963,
     "end_time": "2024-05-04T05:04:12.110390",
     "exception": false,
     "start_time": "2024-05-04T05:04:11.697427",
     "status": "completed"
    },
    "tags": []
   },
   "outputs": [
    {
     "name": "stdout",
     "output_type": "stream",
     "text": [
      "<class 'pandas.core.frame.DataFrame'>\n",
      "RangeIndex: 568401 entries, 0 to 568400\n",
      "Data columns (total 13 columns):\n",
      " #   Column                  Non-Null Count   Dtype \n",
      "---  ------                  --------------   ----- \n",
      " 0   index                   568401 non-null  int64 \n",
      " 1   Id                      568401 non-null  int64 \n",
      " 2   ProductId               568401 non-null  object\n",
      " 3   UserId                  568401 non-null  object\n",
      " 4   ProfileName             568401 non-null  object\n",
      " 5   HelpfulnessNumerator    568401 non-null  int64 \n",
      " 6   HelpfulnessDenominator  568401 non-null  int64 \n",
      " 7   Score                   568401 non-null  int64 \n",
      " 8   Time                    568401 non-null  int64 \n",
      " 9   Summary                 568401 non-null  object\n",
      " 10  Text                    568401 non-null  object\n",
      " 11  Label                   568401 non-null  int64 \n",
      " 12  Preprocessed Review     567040 non-null  object\n",
      "dtypes: int64(7), object(6)\n",
      "memory usage: 56.4+ MB\n"
     ]
    }
   ],
   "source": [
    "df.info()"
   ]
  },
  {
   "cell_type": "code",
   "execution_count": 9,
   "id": "9e268578",
   "metadata": {
    "execution": {
     "iopub.execute_input": "2024-05-04T05:04:12.175026Z",
     "iopub.status.busy": "2024-05-04T05:04:12.174745Z",
     "iopub.status.idle": "2024-05-04T05:04:12.289676Z",
     "shell.execute_reply": "2024-05-04T05:04:12.288783Z"
    },
    "papermill": {
     "duration": 0.149277,
     "end_time": "2024-05-04T05:04:12.291794",
     "exception": false,
     "start_time": "2024-05-04T05:04:12.142517",
     "status": "completed"
    },
    "tags": []
   },
   "outputs": [
    {
     "data": {
      "text/html": [
       "<div>\n",
       "<style scoped>\n",
       "    .dataframe tbody tr th:only-of-type {\n",
       "        vertical-align: middle;\n",
       "    }\n",
       "\n",
       "    .dataframe tbody tr th {\n",
       "        vertical-align: top;\n",
       "    }\n",
       "\n",
       "    .dataframe thead th {\n",
       "        text-align: right;\n",
       "    }\n",
       "</style>\n",
       "<table border=\"1\" class=\"dataframe\">\n",
       "  <thead>\n",
       "    <tr style=\"text-align: right;\">\n",
       "      <th></th>\n",
       "      <th>index</th>\n",
       "      <th>Id</th>\n",
       "      <th>HelpfulnessNumerator</th>\n",
       "      <th>HelpfulnessDenominator</th>\n",
       "      <th>Score</th>\n",
       "      <th>Time</th>\n",
       "      <th>Label</th>\n",
       "    </tr>\n",
       "  </thead>\n",
       "  <tbody>\n",
       "    <tr>\n",
       "      <th>count</th>\n",
       "      <td>568401.000000</td>\n",
       "      <td>568401.000000</td>\n",
       "      <td>568401.000000</td>\n",
       "      <td>568401.000000</td>\n",
       "      <td>568401.000000</td>\n",
       "      <td>5.684010e+05</td>\n",
       "      <td>568401.000000</td>\n",
       "    </tr>\n",
       "    <tr>\n",
       "      <th>mean</th>\n",
       "      <td>284200.000000</td>\n",
       "      <td>284228.120582</td>\n",
       "      <td>1.743903</td>\n",
       "      <td>2.227911</td>\n",
       "      <td>4.183297</td>\n",
       "      <td>1.296261e+09</td>\n",
       "      <td>1.561419</td>\n",
       "    </tr>\n",
       "    <tr>\n",
       "      <th>std</th>\n",
       "      <td>164083.379516</td>\n",
       "      <td>164098.955187</td>\n",
       "      <td>7.636845</td>\n",
       "      <td>8.288820</td>\n",
       "      <td>1.310376</td>\n",
       "      <td>4.803804e+07</td>\n",
       "      <td>0.827533</td>\n",
       "    </tr>\n",
       "    <tr>\n",
       "      <th>min</th>\n",
       "      <td>0.000000</td>\n",
       "      <td>1.000000</td>\n",
       "      <td>0.000000</td>\n",
       "      <td>0.000000</td>\n",
       "      <td>1.000000</td>\n",
       "      <td>9.393408e+08</td>\n",
       "      <td>0.000000</td>\n",
       "    </tr>\n",
       "    <tr>\n",
       "      <th>25%</th>\n",
       "      <td>142100.000000</td>\n",
       "      <td>142116.000000</td>\n",
       "      <td>0.000000</td>\n",
       "      <td>0.000000</td>\n",
       "      <td>4.000000</td>\n",
       "      <td>1.271290e+09</td>\n",
       "      <td>2.000000</td>\n",
       "    </tr>\n",
       "    <tr>\n",
       "      <th>50%</th>\n",
       "      <td>284200.000000</td>\n",
       "      <td>284225.000000</td>\n",
       "      <td>0.000000</td>\n",
       "      <td>1.000000</td>\n",
       "      <td>5.000000</td>\n",
       "      <td>1.311120e+09</td>\n",
       "      <td>2.000000</td>\n",
       "    </tr>\n",
       "    <tr>\n",
       "      <th>75%</th>\n",
       "      <td>426300.000000</td>\n",
       "      <td>426342.000000</td>\n",
       "      <td>2.000000</td>\n",
       "      <td>2.000000</td>\n",
       "      <td>5.000000</td>\n",
       "      <td>1.332720e+09</td>\n",
       "      <td>2.000000</td>\n",
       "    </tr>\n",
       "    <tr>\n",
       "      <th>max</th>\n",
       "      <td>568400.000000</td>\n",
       "      <td>568454.000000</td>\n",
       "      <td>866.000000</td>\n",
       "      <td>923.000000</td>\n",
       "      <td>5.000000</td>\n",
       "      <td>1.351210e+09</td>\n",
       "      <td>2.000000</td>\n",
       "    </tr>\n",
       "  </tbody>\n",
       "</table>\n",
       "</div>"
      ],
      "text/plain": [
       "               index             Id  HelpfulnessNumerator  \\\n",
       "count  568401.000000  568401.000000         568401.000000   \n",
       "mean   284200.000000  284228.120582              1.743903   \n",
       "std    164083.379516  164098.955187              7.636845   \n",
       "min         0.000000       1.000000              0.000000   \n",
       "25%    142100.000000  142116.000000              0.000000   \n",
       "50%    284200.000000  284225.000000              0.000000   \n",
       "75%    426300.000000  426342.000000              2.000000   \n",
       "max    568400.000000  568454.000000            866.000000   \n",
       "\n",
       "       HelpfulnessDenominator          Score          Time          Label  \n",
       "count           568401.000000  568401.000000  5.684010e+05  568401.000000  \n",
       "mean                 2.227911       4.183297  1.296261e+09       1.561419  \n",
       "std                  8.288820       1.310376  4.803804e+07       0.827533  \n",
       "min                  0.000000       1.000000  9.393408e+08       0.000000  \n",
       "25%                  0.000000       4.000000  1.271290e+09       2.000000  \n",
       "50%                  1.000000       5.000000  1.311120e+09       2.000000  \n",
       "75%                  2.000000       5.000000  1.332720e+09       2.000000  \n",
       "max                923.000000       5.000000  1.351210e+09       2.000000  "
      ]
     },
     "execution_count": 9,
     "metadata": {},
     "output_type": "execute_result"
    }
   ],
   "source": [
    "df.describe()"
   ]
  },
  {
   "cell_type": "code",
   "execution_count": 10,
   "id": "64bb2fd9",
   "metadata": {
    "execution": {
     "iopub.execute_input": "2024-05-04T05:04:12.356571Z",
     "iopub.status.busy": "2024-05-04T05:04:12.356257Z",
     "iopub.status.idle": "2024-05-04T05:04:12.723761Z",
     "shell.execute_reply": "2024-05-04T05:04:12.722862Z"
    },
    "papermill": {
     "duration": 0.401765,
     "end_time": "2024-05-04T05:04:12.725618",
     "exception": false,
     "start_time": "2024-05-04T05:04:12.323853",
     "status": "completed"
    },
    "tags": []
   },
   "outputs": [
    {
     "data": {
      "text/plain": [
       "index                        0\n",
       "Id                           0\n",
       "ProductId                    0\n",
       "UserId                       0\n",
       "ProfileName                  0\n",
       "HelpfulnessNumerator         0\n",
       "HelpfulnessDenominator       0\n",
       "Score                        0\n",
       "Time                         0\n",
       "Summary                      0\n",
       "Text                         0\n",
       "Label                        0\n",
       "Preprocessed Review       1361\n",
       "dtype: int64"
      ]
     },
     "execution_count": 10,
     "metadata": {},
     "output_type": "execute_result"
    }
   ],
   "source": [
    "df.isnull().sum()"
   ]
  },
  {
   "cell_type": "code",
   "execution_count": 11,
   "id": "c7c822b6",
   "metadata": {
    "execution": {
     "iopub.execute_input": "2024-05-04T05:04:12.835208Z",
     "iopub.status.busy": "2024-05-04T05:04:12.834349Z",
     "iopub.status.idle": "2024-05-04T05:04:12.845929Z",
     "shell.execute_reply": "2024-05-04T05:04:12.845007Z"
    },
    "papermill": {
     "duration": 0.049681,
     "end_time": "2024-05-04T05:04:12.847752",
     "exception": false,
     "start_time": "2024-05-04T05:04:12.798071",
     "status": "completed"
    },
    "tags": []
   },
   "outputs": [
    {
     "data": {
      "text/plain": [
       "Score\n",
       "5    363102\n",
       "4     80654\n",
       "1     52264\n",
       "3     42638\n",
       "2     29743\n",
       "Name: count, dtype: int64"
      ]
     },
     "execution_count": 11,
     "metadata": {},
     "output_type": "execute_result"
    }
   ],
   "source": [
    "df[\"Score\"].value_counts()"
   ]
  },
  {
   "cell_type": "code",
   "execution_count": 12,
   "id": "d1261cad",
   "metadata": {
    "execution": {
     "iopub.execute_input": "2024-05-04T05:04:12.921356Z",
     "iopub.status.busy": "2024-05-04T05:04:12.920728Z",
     "iopub.status.idle": "2024-05-04T05:04:12.926876Z",
     "shell.execute_reply": "2024-05-04T05:04:12.925801Z"
    },
    "papermill": {
     "duration": 0.049652,
     "end_time": "2024-05-04T05:04:12.929247",
     "exception": false,
     "start_time": "2024-05-04T05:04:12.879595",
     "status": "completed"
    },
    "tags": []
   },
   "outputs": [
    {
     "data": {
      "text/plain": [
       "'I have bought several of the Vitality canned dog food products and have found them all to be of good quality. The product looks more like a stew than a processed meat and it smells better. My Labrador is finicky and she appreciates this product better than  most.'"
      ]
     },
     "execution_count": 12,
     "metadata": {},
     "output_type": "execute_result"
    }
   ],
   "source": [
    "df[\"Text\"][0]"
   ]
  },
  {
   "cell_type": "code",
   "execution_count": 13,
   "id": "5412d5ce",
   "metadata": {
    "execution": {
     "iopub.execute_input": "2024-05-04T05:04:13.026815Z",
     "iopub.status.busy": "2024-05-04T05:04:13.025706Z",
     "iopub.status.idle": "2024-05-04T05:04:13.034559Z",
     "shell.execute_reply": "2024-05-04T05:04:13.033388Z"
    },
    "papermill": {
     "duration": 0.066081,
     "end_time": "2024-05-04T05:04:13.037988",
     "exception": false,
     "start_time": "2024-05-04T05:04:12.971907",
     "status": "completed"
    },
    "tags": []
   },
   "outputs": [
    {
     "data": {
      "text/plain": [
       "'Good Quality Dog Food'"
      ]
     },
     "execution_count": 13,
     "metadata": {},
     "output_type": "execute_result"
    }
   ],
   "source": [
    "df[\"Summary\"][0]"
   ]
  },
  {
   "cell_type": "code",
   "execution_count": 14,
   "id": "d0a3483f",
   "metadata": {
    "execution": {
     "iopub.execute_input": "2024-05-04T05:04:13.145740Z",
     "iopub.status.busy": "2024-05-04T05:04:13.145332Z",
     "iopub.status.idle": "2024-05-04T05:04:13.689791Z",
     "shell.execute_reply": "2024-05-04T05:04:13.688773Z"
    },
    "papermill": {
     "duration": 0.592267,
     "end_time": "2024-05-04T05:04:13.692616",
     "exception": false,
     "start_time": "2024-05-04T05:04:13.100349",
     "status": "completed"
    },
    "tags": []
   },
   "outputs": [],
   "source": [
    "df= df.dropna()"
   ]
  },
  {
   "cell_type": "code",
   "execution_count": 15,
   "id": "150c4d2c",
   "metadata": {
    "execution": {
     "iopub.execute_input": "2024-05-04T05:04:13.765818Z",
     "iopub.status.busy": "2024-05-04T05:04:13.765507Z",
     "iopub.status.idle": "2024-05-04T05:04:13.771040Z",
     "shell.execute_reply": "2024-05-04T05:04:13.770229Z"
    },
    "papermill": {
     "duration": 0.042206,
     "end_time": "2024-05-04T05:04:13.773200",
     "exception": false,
     "start_time": "2024-05-04T05:04:13.730994",
     "status": "completed"
    },
    "tags": []
   },
   "outputs": [],
   "source": [
    "df.reset_index(inplace=True)"
   ]
  },
  {
   "cell_type": "code",
   "execution_count": 16,
   "id": "816456ad",
   "metadata": {
    "execution": {
     "iopub.execute_input": "2024-05-04T05:04:13.841209Z",
     "iopub.status.busy": "2024-05-04T05:04:13.840923Z",
     "iopub.status.idle": "2024-05-04T05:04:13.939801Z",
     "shell.execute_reply": "2024-05-04T05:04:13.938867Z"
    },
    "papermill": {
     "duration": 0.134209,
     "end_time": "2024-05-04T05:04:13.942119",
     "exception": false,
     "start_time": "2024-05-04T05:04:13.807910",
     "status": "completed"
    },
    "tags": []
   },
   "outputs": [],
   "source": [
    "df = df.drop([\"index\"],axis=1)"
   ]
  },
  {
   "cell_type": "code",
   "execution_count": 17,
   "id": "28f49796",
   "metadata": {
    "execution": {
     "iopub.execute_input": "2024-05-04T05:04:14.015297Z",
     "iopub.status.busy": "2024-05-04T05:04:14.014978Z",
     "iopub.status.idle": "2024-05-04T05:04:15.478936Z",
     "shell.execute_reply": "2024-05-04T05:04:15.477952Z"
    },
    "papermill": {
     "duration": 1.503884,
     "end_time": "2024-05-04T05:04:15.481202",
     "exception": false,
     "start_time": "2024-05-04T05:04:13.977318",
     "status": "completed"
    },
    "tags": []
   },
   "outputs": [
    {
     "name": "stdout",
     "output_type": "stream",
     "text": [
      "Number of duplicate tweets :  0\n"
     ]
    }
   ],
   "source": [
    "duplicate_rows = df[df.duplicated()]\n",
    "print('Number of duplicate tweets : ',len(duplicate_rows))"
   ]
  },
  {
   "cell_type": "markdown",
   "id": "dfebbaab",
   "metadata": {
    "papermill": {
     "duration": 0.032155,
     "end_time": "2024-05-04T05:04:15.546277",
     "exception": false,
     "start_time": "2024-05-04T05:04:15.514122",
     "status": "completed"
    },
    "tags": []
   },
   "source": [
    "## Text Preprocessing"
   ]
  },
  {
   "cell_type": "code",
   "execution_count": 18,
   "id": "de28a48e",
   "metadata": {
    "execution": {
     "iopub.execute_input": "2024-05-04T05:04:15.615331Z",
     "iopub.status.busy": "2024-05-04T05:04:15.615017Z",
     "iopub.status.idle": "2024-05-04T05:04:28.119801Z",
     "shell.execute_reply": "2024-05-04T05:04:28.118554Z"
    },
    "papermill": {
     "duration": 12.541701,
     "end_time": "2024-05-04T05:04:28.122303",
     "exception": false,
     "start_time": "2024-05-04T05:04:15.580602",
     "status": "completed"
    },
    "tags": []
   },
   "outputs": [
    {
     "name": "stdout",
     "output_type": "stream",
     "text": [
      "Collecting bs4\r\n",
      "  Downloading bs4-0.0.2-py2.py3-none-any.whl.metadata (411 bytes)\r\n",
      "Requirement already satisfied: beautifulsoup4 in /opt/conda/lib/python3.10/site-packages (from bs4) (4.12.2)\r\n",
      "Requirement already satisfied: soupsieve>1.2 in /opt/conda/lib/python3.10/site-packages (from beautifulsoup4->bs4) (2.5)\r\n",
      "Downloading bs4-0.0.2-py2.py3-none-any.whl (1.2 kB)\r\n",
      "Installing collected packages: bs4\r\n",
      "Successfully installed bs4-0.0.2\r\n"
     ]
    }
   ],
   "source": [
    "!pip install bs4"
   ]
  },
  {
   "cell_type": "code",
   "execution_count": 19,
   "id": "76a72fd8",
   "metadata": {
    "execution": {
     "iopub.execute_input": "2024-05-04T05:04:28.190169Z",
     "iopub.status.busy": "2024-05-04T05:04:28.189825Z",
     "iopub.status.idle": "2024-05-04T05:04:28.767377Z",
     "shell.execute_reply": "2024-05-04T05:04:28.766439Z"
    },
    "papermill": {
     "duration": 0.61356,
     "end_time": "2024-05-04T05:04:28.769398",
     "exception": false,
     "start_time": "2024-05-04T05:04:28.155838",
     "status": "completed"
    },
    "tags": []
   },
   "outputs": [
    {
     "name": "stdout",
     "output_type": "stream",
     "text": [
      "[nltk_data] Downloading package stopwords to /usr/share/nltk_data...\n",
      "[nltk_data]   Package stopwords is already up-to-date!\n"
     ]
    },
    {
     "data": {
      "text/plain": [
       "True"
      ]
     },
     "execution_count": 19,
     "metadata": {},
     "output_type": "execute_result"
    }
   ],
   "source": [
    "import nltk\n",
    "import re\n",
    "from nltk.corpus import stopwords\n",
    "nltk.download('stopwords')"
   ]
  },
  {
   "cell_type": "code",
   "execution_count": 20,
   "id": "8bb2c879",
   "metadata": {
    "execution": {
     "iopub.execute_input": "2024-05-04T05:04:28.838117Z",
     "iopub.status.busy": "2024-05-04T05:04:28.837818Z",
     "iopub.status.idle": "2024-05-04T05:04:28.844521Z",
     "shell.execute_reply": "2024-05-04T05:04:28.843719Z"
    },
    "papermill": {
     "duration": 0.043091,
     "end_time": "2024-05-04T05:04:28.846442",
     "exception": false,
     "start_time": "2024-05-04T05:04:28.803351",
     "status": "completed"
    },
    "tags": []
   },
   "outputs": [],
   "source": [
    "import re\n",
    "\n",
    "def decontracted(phrase):\n",
    "    # specific\n",
    "    phrase = re.sub(r\"won't\", \"will not\", phrase)\n",
    "    phrase = re.sub(r\"can\\'t\", \"can not\", phrase)\n",
    "\n",
    "    # general\n",
    "    phrase = re.sub(r\"n\\'t\", \" not\", phrase)\n",
    "    phrase = re.sub(r\"\\'re\", \" are\", phrase)\n",
    "    phrase = re.sub(r\"\\'s\", \" is\", phrase)\n",
    "    phrase = re.sub(r\"\\'d\", \" would\", phrase)\n",
    "    phrase = re.sub(r\"\\'ll\", \" will\", phrase)\n",
    "    phrase = re.sub(r\"\\'t\", \" not\", phrase)\n",
    "    phrase = re.sub(r\"\\'ve\", \" have\", phrase)\n",
    "    phrase = re.sub(r\"\\'m\", \" am\", phrase)\n",
    "    return phrase"
   ]
  },
  {
   "cell_type": "code",
   "execution_count": 21,
   "id": "61278490",
   "metadata": {
    "execution": {
     "iopub.execute_input": "2024-05-04T05:04:28.914634Z",
     "iopub.status.busy": "2024-05-04T05:04:28.914317Z",
     "iopub.status.idle": "2024-05-04T05:04:29.287303Z",
     "shell.execute_reply": "2024-05-04T05:04:29.286310Z"
    },
    "papermill": {
     "duration": 0.40903,
     "end_time": "2024-05-04T05:04:29.289695",
     "exception": false,
     "start_time": "2024-05-04T05:04:28.880665",
     "status": "completed"
    },
    "tags": []
   },
   "outputs": [],
   "source": [
    "from bs4 import BeautifulSoup\n",
    "def preprocessed(review): \n",
    "    sentance = re.sub(r\"http\\S+\", \"\", review)\n",
    "    sentance = BeautifulSoup(sentance, 'lxml').get_text()\n",
    "    sentance = decontracted(sentance)\n",
    "    sentance = re.sub(\"\\S*\\d\\S*\", \"\", sentance).strip()\n",
    "    sentance = re.sub('[^A-Za-z]+', ' ', sentance)\n",
    "    sentance = ' '.join(e.lower() for e in sentance.split() if e.lower() not in stopwords.words('english'))\n",
    "    return sentance.strip()"
   ]
  },
  {
   "cell_type": "code",
   "execution_count": 22,
   "id": "dc0d6ed8",
   "metadata": {
    "execution": {
     "iopub.execute_input": "2024-05-04T05:04:29.359797Z",
     "iopub.status.busy": "2024-05-04T05:04:29.359218Z",
     "iopub.status.idle": "2024-05-04T05:04:29.376250Z",
     "shell.execute_reply": "2024-05-04T05:04:29.375115Z"
    },
    "papermill": {
     "duration": 0.054739,
     "end_time": "2024-05-04T05:04:29.378230",
     "exception": false,
     "start_time": "2024-05-04T05:04:29.323491",
     "status": "completed"
    },
    "tags": []
   },
   "outputs": [
    {
     "name": "stdout",
     "output_type": "stream",
     "text": [
      "Review :  I have bought several of the Vitality canned dog food products and have found them all to be of good quality. The product looks more like a stew than a processed meat and it smells better. My Labrador is finicky and she appreciates this product better than  most. \n",
      "\n",
      "Preprocessed Review :  bought several vitality canned dog food products found good quality product looks like stew processed meat smells better labrador finicky appreciates product better\n"
     ]
    }
   ],
   "source": [
    "print(\"Review : \",df[\"Text\"][0],\"\\n\")\n",
    "print(\"Preprocessed Review : \",preprocessed(df[\"Text\"][0]))"
   ]
  },
  {
   "cell_type": "code",
   "execution_count": 23,
   "id": "e02d3043",
   "metadata": {
    "execution": {
     "iopub.execute_input": "2024-05-04T05:04:29.446428Z",
     "iopub.status.busy": "2024-05-04T05:04:29.446140Z",
     "iopub.status.idle": "2024-05-04T05:04:29.452376Z",
     "shell.execute_reply": "2024-05-04T05:04:29.451449Z"
    },
    "papermill": {
     "duration": 0.042286,
     "end_time": "2024-05-04T05:04:29.454277",
     "exception": false,
     "start_time": "2024-05-04T05:04:29.411991",
     "status": "completed"
    },
    "tags": []
   },
   "outputs": [
    {
     "name": "stdout",
     "output_type": "stream",
     "text": [
      "Summary :  Good Quality Dog Food \n",
      "\n",
      "Preprocessed Summary :  good quality dog food\n"
     ]
    }
   ],
   "source": [
    "print(\"Summary : \",df[\"Summary\"][0],\"\\n\")\n",
    "print(\"Preprocessed Summary : \",preprocessed(df[\"Summary\"][0]))"
   ]
  },
  {
   "cell_type": "code",
   "execution_count": 24,
   "id": "71f8f027",
   "metadata": {
    "execution": {
     "iopub.execute_input": "2024-05-04T05:04:29.521780Z",
     "iopub.status.busy": "2024-05-04T05:04:29.521526Z",
     "iopub.status.idle": "2024-05-04T05:04:29.611434Z",
     "shell.execute_reply": "2024-05-04T05:04:29.610756Z"
    },
    "papermill": {
     "duration": 0.125842,
     "end_time": "2024-05-04T05:04:29.613365",
     "exception": false,
     "start_time": "2024-05-04T05:04:29.487523",
     "status": "completed"
    },
    "tags": []
   },
   "outputs": [],
   "source": [
    "from tqdm.notebook import tqdm\n",
    "tqdm.pandas()"
   ]
  },
  {
   "cell_type": "code",
   "execution_count": 25,
   "id": "c40c3a95",
   "metadata": {
    "execution": {
     "iopub.execute_input": "2024-05-04T05:04:29.681738Z",
     "iopub.status.busy": "2024-05-04T05:04:29.681452Z",
     "iopub.status.idle": "2024-05-04T05:04:29.690513Z",
     "shell.execute_reply": "2024-05-04T05:04:29.689858Z"
    },
    "papermill": {
     "duration": 0.044908,
     "end_time": "2024-05-04T05:04:29.692276",
     "exception": false,
     "start_time": "2024-05-04T05:04:29.647368",
     "status": "completed"
    },
    "tags": []
   },
   "outputs": [],
   "source": [
    "df.reset_index(inplace=True)"
   ]
  },
  {
   "cell_type": "code",
   "execution_count": 26,
   "id": "213669af",
   "metadata": {
    "execution": {
     "iopub.execute_input": "2024-05-04T05:04:29.760148Z",
     "iopub.status.busy": "2024-05-04T05:04:29.759880Z",
     "iopub.status.idle": "2024-05-04T05:04:35.670601Z",
     "shell.execute_reply": "2024-05-04T05:04:35.669778Z"
    },
    "papermill": {
     "duration": 5.947262,
     "end_time": "2024-05-04T05:04:35.672888",
     "exception": false,
     "start_time": "2024-05-04T05:04:29.725626",
     "status": "completed"
    },
    "tags": []
   },
   "outputs": [],
   "source": [
    "# df[\"Preprocessed Review\"] = df[\"Text\"].progress_apply(lambda x : preprocessed(x))\n",
    "import pandas as pd\n",
    "df = pd.read_csv(\"/kaggle/input/amazon-food/preprocessed_reviews.csv\")"
   ]
  },
  {
   "cell_type": "code",
   "execution_count": 27,
   "id": "34d8e607",
   "metadata": {
    "execution": {
     "iopub.execute_input": "2024-05-04T05:04:35.742167Z",
     "iopub.status.busy": "2024-05-04T05:04:35.741869Z",
     "iopub.status.idle": "2024-05-04T05:04:35.954261Z",
     "shell.execute_reply": "2024-05-04T05:04:35.953453Z"
    },
    "papermill": {
     "duration": 0.249244,
     "end_time": "2024-05-04T05:04:35.956464",
     "exception": false,
     "start_time": "2024-05-04T05:04:35.707220",
     "status": "completed"
    },
    "tags": []
   },
   "outputs": [],
   "source": [
    "df[\"Preprocessed Review\"] = df[\"Preprocessed Review\"].apply(lambda x : str(x))"
   ]
  },
  {
   "cell_type": "code",
   "execution_count": 28,
   "id": "92f28c07",
   "metadata": {
    "execution": {
     "iopub.execute_input": "2024-05-04T05:04:36.026242Z",
     "iopub.status.busy": "2024-05-04T05:04:36.025552Z",
     "iopub.status.idle": "2024-05-04T05:04:36.237715Z",
     "shell.execute_reply": "2024-05-04T05:04:36.236937Z"
    },
    "papermill": {
     "duration": 0.249048,
     "end_time": "2024-05-04T05:04:36.239915",
     "exception": false,
     "start_time": "2024-05-04T05:04:35.990867",
     "status": "completed"
    },
    "tags": []
   },
   "outputs": [],
   "source": [
    "df  = df.sample(200000)"
   ]
  },
  {
   "cell_type": "code",
   "execution_count": 29,
   "id": "9270f93b",
   "metadata": {
    "execution": {
     "iopub.execute_input": "2024-05-04T05:04:36.310388Z",
     "iopub.status.busy": "2024-05-04T05:04:36.309675Z",
     "iopub.status.idle": "2024-05-04T05:04:37.011774Z",
     "shell.execute_reply": "2024-05-04T05:04:37.010789Z"
    },
    "papermill": {
     "duration": 0.73929,
     "end_time": "2024-05-04T05:04:37.013650",
     "exception": false,
     "start_time": "2024-05-04T05:04:36.274360",
     "status": "completed"
    },
    "tags": []
   },
   "outputs": [
    {
     "name": "stderr",
     "output_type": "stream",
     "text": [
      "100%|██████████| 200000/200000 [00:00<00:00, 291160.41it/s]\n"
     ]
    }
   ],
   "source": [
    "from tqdm import tqdm\n",
    "l = []\n",
    "for x in tqdm(df[\"Preprocessed Review\"]) :\n",
    "    l.append(len(x.split()))"
   ]
  },
  {
   "cell_type": "code",
   "execution_count": 30,
   "id": "7f95c02b",
   "metadata": {
    "execution": {
     "iopub.execute_input": "2024-05-04T05:04:37.086270Z",
     "iopub.status.busy": "2024-05-04T05:04:37.085981Z",
     "iopub.status.idle": "2024-05-04T05:04:37.170985Z",
     "shell.execute_reply": "2024-05-04T05:04:37.170131Z"
    },
    "papermill": {
     "duration": 0.122277,
     "end_time": "2024-05-04T05:04:37.172839",
     "exception": false,
     "start_time": "2024-05-04T05:04:37.050562",
     "status": "completed"
    },
    "tags": []
   },
   "outputs": [],
   "source": [
    "df[\"Review_length\"] = l"
   ]
  },
  {
   "cell_type": "code",
   "execution_count": 31,
   "id": "e287ab5d",
   "metadata": {
    "execution": {
     "iopub.execute_input": "2024-05-04T05:04:37.247394Z",
     "iopub.status.busy": "2024-05-04T05:04:37.247097Z",
     "iopub.status.idle": "2024-05-04T05:04:37.975583Z",
     "shell.execute_reply": "2024-05-04T05:04:37.974681Z"
    },
    "papermill": {
     "duration": 0.768288,
     "end_time": "2024-05-04T05:04:37.977551",
     "exception": false,
     "start_time": "2024-05-04T05:04:37.209263",
     "status": "completed"
    },
    "tags": []
   },
   "outputs": [
    {
     "data": {
      "image/png": "[encoded data removed]",
      "text/plain": [
       "<Figure size 800x600 with 1 Axes>"
      ]
     },
     "metadata": {},
     "output_type": "display_data"
    }
   ],
   "source": [
    "import matplotlib.pyplot as plt\n",
    "import numpy as np\n",
    "\n",
    "# Assuming df[\"Review_length\"] contains the review lengths\n",
    "data = df[\"Review_length\"]\n",
    "\n",
    "plt.figure(figsize=(8, 6))  # Adjust size as needed\n",
    "\n",
    "# Customizing box plot colors\n",
    "boxprops = dict(color=\"blue\")\n",
    "whiskerprops = dict(color=\"green\")\n",
    "capprops = dict(color=\"red\")\n",
    "medianprops = dict(color=\"orange\")\n",
    "\n",
    "plt.boxplot(data, vert=True, patch_artist=True,\n",
    "            boxprops=boxprops, whiskerprops=whiskerprops,\n",
    "            capprops=capprops, medianprops=medianprops)\n",
    "\n",
    "plt.title(\"Box Plot of Mean Review Length\")\n",
    "plt.xlabel(\"Mean Review Length\")\n",
    "plt.ylabel(\"Values\")\n",
    "plt.grid(True)\n",
    "\n",
    "# Set y-axis ticks in increments of 10\n",
    "plt.yticks(np.arange(0, max(data) + 20, 30))\n",
    "\n",
    "plt.show()\n"
   ]
  },
  {
   "cell_type": "code",
   "execution_count": 32,
   "id": "15618860",
   "metadata": {
    "execution": {
     "iopub.execute_input": "2024-05-04T05:04:38.050140Z",
     "iopub.status.busy": "2024-05-04T05:04:38.049843Z",
     "iopub.status.idle": "2024-05-04T05:04:38.055892Z",
     "shell.execute_reply": "2024-05-04T05:04:38.055052Z"
    },
    "papermill": {
     "duration": 0.044253,
     "end_time": "2024-05-04T05:04:38.057765",
     "exception": false,
     "start_time": "2024-05-04T05:04:38.013512",
     "status": "completed"
    },
    "tags": []
   },
   "outputs": [
    {
     "data": {
      "text/plain": [
       "38.61781"
      ]
     },
     "execution_count": 32,
     "metadata": {},
     "output_type": "execute_result"
    }
   ],
   "source": [
    "df[\"Review_length\"].mean()"
   ]
  },
  {
   "cell_type": "code",
   "execution_count": 33,
   "id": "f3244d4a",
   "metadata": {
    "execution": {
     "iopub.execute_input": "2024-05-04T05:04:38.135393Z",
     "iopub.status.busy": "2024-05-04T05:04:38.135043Z",
     "iopub.status.idle": "2024-05-04T05:04:38.145086Z",
     "shell.execute_reply": "2024-05-04T05:04:38.144167Z"
    },
    "papermill": {
     "duration": 0.053252,
     "end_time": "2024-05-04T05:04:38.147203",
     "exception": false,
     "start_time": "2024-05-04T05:04:38.093951",
     "status": "completed"
    },
    "tags": []
   },
   "outputs": [
    {
     "data": {
      "text/plain": [
       "Score\n",
       "5    127956\n",
       "4     28284\n",
       "1     18411\n",
       "3     14878\n",
       "2     10471\n",
       "Name: count, dtype: int64"
      ]
     },
     "execution_count": 33,
     "metadata": {},
     "output_type": "execute_result"
    }
   ],
   "source": [
    "df[\"Score\"].value_counts()"
   ]
  },
  {
   "cell_type": "code",
   "execution_count": 34,
   "id": "f5323ba4",
   "metadata": {
    "execution": {
     "iopub.execute_input": "2024-05-04T05:04:38.230120Z",
     "iopub.status.busy": "2024-05-04T05:04:38.229846Z",
     "iopub.status.idle": "2024-05-04T05:04:38.371253Z",
     "shell.execute_reply": "2024-05-04T05:04:38.370578Z"
    },
    "papermill": {
     "duration": 0.185472,
     "end_time": "2024-05-04T05:04:38.373150",
     "exception": false,
     "start_time": "2024-05-04T05:04:38.187678",
     "status": "completed"
    },
    "tags": []
   },
   "outputs": [],
   "source": [
    "d = {1:0,2:0,3:0,4:1,5:1}\n",
    "\n",
    "df[\"Label\"] = df[\"Score\"].apply(lambda x :d[x])"
   ]
  },
  {
   "cell_type": "code",
   "execution_count": 35,
   "id": "e9e12cfa",
   "metadata": {
    "execution": {
     "iopub.execute_input": "2024-05-04T05:04:38.446101Z",
     "iopub.status.busy": "2024-05-04T05:04:38.445843Z",
     "iopub.status.idle": "2024-05-04T05:04:38.454089Z",
     "shell.execute_reply": "2024-05-04T05:04:38.453282Z"
    },
    "papermill": {
     "duration": 0.046962,
     "end_time": "2024-05-04T05:04:38.455954",
     "exception": false,
     "start_time": "2024-05-04T05:04:38.408992",
     "status": "completed"
    },
    "tags": []
   },
   "outputs": [
    {
     "data": {
      "text/plain": [
       "Label\n",
       "1    156240\n",
       "0     43760\n",
       "Name: count, dtype: int64"
      ]
     },
     "execution_count": 35,
     "metadata": {},
     "output_type": "execute_result"
    }
   ],
   "source": [
    "df[\"Label\"].value_counts()"
   ]
  },
  {
   "cell_type": "code",
   "execution_count": 36,
   "id": "8ca69d48",
   "metadata": {
    "execution": {
     "iopub.execute_input": "2024-05-04T05:04:38.529527Z",
     "iopub.status.busy": "2024-05-04T05:04:38.529225Z",
     "iopub.status.idle": "2024-05-04T05:04:38.551002Z",
     "shell.execute_reply": "2024-05-04T05:04:38.550165Z"
    },
    "papermill": {
     "duration": 0.060074,
     "end_time": "2024-05-04T05:04:38.552978",
     "exception": false,
     "start_time": "2024-05-04T05:04:38.492904",
     "status": "completed"
    },
    "tags": []
   },
   "outputs": [],
   "source": [
    "\n",
    "labels = df['Label'].values\n",
    "from sklearn.model_selection import train_test_split\n",
    "X_train, X_test, Y_train, Y_test = train_test_split(df[\"Preprocessed Review\"],labels, test_size=0.2, random_state=None)\n"
   ]
  },
  {
   "cell_type": "code",
   "execution_count": 37,
   "id": "17396808",
   "metadata": {
    "execution": {
     "iopub.execute_input": "2024-05-04T05:04:38.626204Z",
     "iopub.status.busy": "2024-05-04T05:04:38.625955Z",
     "iopub.status.idle": "2024-05-04T05:04:38.629841Z",
     "shell.execute_reply": "2024-05-04T05:04:38.629040Z"
    },
    "papermill": {
     "duration": 0.042183,
     "end_time": "2024-05-04T05:04:38.631705",
     "exception": false,
     "start_time": "2024-05-04T05:04:38.589522",
     "status": "completed"
    },
    "tags": []
   },
   "outputs": [],
   "source": [
    "max_len = 40\n",
    "trunc_type = \"post\"\n",
    "padding_type = \"pre\"\n",
    "oov_tok = \"<OOV>\""
   ]
  },
  {
   "cell_type": "code",
   "execution_count": 38,
   "id": "166cee2b",
   "metadata": {
    "execution": {
     "iopub.execute_input": "2024-05-04T05:04:38.704768Z",
     "iopub.status.busy": "2024-05-04T05:04:38.704500Z",
     "iopub.status.idle": "2024-05-04T05:04:38.709472Z",
     "shell.execute_reply": "2024-05-04T05:04:38.708782Z"
    },
    "papermill": {
     "duration": 0.043165,
     "end_time": "2024-05-04T05:04:38.711229",
     "exception": false,
     "start_time": "2024-05-04T05:04:38.668064",
     "status": "completed"
    },
    "tags": []
   },
   "outputs": [],
   "source": [
    "import tensorflow as tf\n",
    "from tensorflow.keras.preprocessing.text import Tokenizer\n",
    "from tensorflow.keras.preprocessing.sequence import pad_sequences"
   ]
  },
  {
   "cell_type": "code",
   "execution_count": 39,
   "id": "e1f0e046",
   "metadata": {
    "execution": {
     "iopub.execute_input": "2024-05-04T05:04:38.785266Z",
     "iopub.status.busy": "2024-05-04T05:04:38.784992Z",
     "iopub.status.idle": "2024-05-04T05:04:45.424890Z",
     "shell.execute_reply": "2024-05-04T05:04:45.423855Z"
    },
    "papermill": {
     "duration": 6.679019,
     "end_time": "2024-05-04T05:04:45.427290",
     "exception": false,
     "start_time": "2024-05-04T05:04:38.748271",
     "status": "completed"
    },
    "tags": []
   },
   "outputs": [],
   "source": [
    "token = Tokenizer( char_level=False, oov_token = oov_tok) # oov_token is used for out of vocabulary\n",
    "token.fit_on_texts(X_train)"
   ]
  },
  {
   "cell_type": "code",
   "execution_count": 40,
   "id": "d5642598",
   "metadata": {
    "execution": {
     "iopub.execute_input": "2024-05-04T05:04:45.501999Z",
     "iopub.status.busy": "2024-05-04T05:04:45.501208Z",
     "iopub.status.idle": "2024-05-04T05:04:45.505456Z",
     "shell.execute_reply": "2024-05-04T05:04:45.504578Z"
    },
    "papermill": {
     "duration": 0.043265,
     "end_time": "2024-05-04T05:04:45.507333",
     "exception": false,
     "start_time": "2024-05-04T05:04:45.464068",
     "status": "completed"
    },
    "tags": []
   },
   "outputs": [],
   "source": [
    "vocab_size = len(token.word_index)+1 "
   ]
  },
  {
   "cell_type": "code",
   "execution_count": 41,
   "id": "12a55053",
   "metadata": {
    "execution": {
     "iopub.execute_input": "2024-05-04T05:04:45.581525Z",
     "iopub.status.busy": "2024-05-04T05:04:45.580856Z",
     "iopub.status.idle": "2024-05-04T05:04:52.824496Z",
     "shell.execute_reply": "2024-05-04T05:04:52.823650Z"
    },
    "papermill": {
     "duration": 7.282671,
     "end_time": "2024-05-04T05:04:52.826712",
     "exception": false,
     "start_time": "2024-05-04T05:04:45.544041",
     "status": "completed"
    },
    "tags": []
   },
   "outputs": [],
   "source": [
    "x_train_seq = token.texts_to_sequences(X_train)\n",
    "train_pad_seq = pad_sequences (x_train_seq, maxlen = max_len, padding = padding_type, truncating = trunc_type )\n",
    "x_test_seq = token.texts_to_sequences(X_test)\n",
    "test_pad_seq = pad_sequences(x_test_seq, maxlen = max_len,padding = padding_type, truncating = trunc_type)"
   ]
  },
  {
   "cell_type": "code",
   "execution_count": 42,
   "id": "ee65da48",
   "metadata": {
    "execution": {
     "iopub.execute_input": "2024-05-04T05:04:52.902706Z",
     "iopub.status.busy": "2024-05-04T05:04:52.902119Z",
     "iopub.status.idle": "2024-05-04T05:04:52.907043Z",
     "shell.execute_reply": "2024-05-04T05:04:52.906153Z"
    },
    "papermill": {
     "duration": 0.043998,
     "end_time": "2024-05-04T05:04:52.908969",
     "exception": false,
     "start_time": "2024-05-04T05:04:52.864971",
     "status": "completed"
    },
    "tags": []
   },
   "outputs": [
    {
     "name": "stdout",
     "output_type": "stream",
     "text": [
      "Shape of training reviews:  (160000, 40)\n",
      "Shape of testing reviews:  (40000, 40)\n"
     ]
    }
   ],
   "source": [
    "print('Shape of training reviews: ', train_pad_seq.shape)\n",
    "print('Shape of testing reviews: ', test_pad_seq.shape)"
   ]
  },
  {
   "cell_type": "code",
   "execution_count": 43,
   "id": "64433e3d",
   "metadata": {
    "execution": {
     "iopub.execute_input": "2024-05-04T05:04:52.984498Z",
     "iopub.status.busy": "2024-05-04T05:04:52.984182Z",
     "iopub.status.idle": "2024-05-04T05:04:52.989630Z",
     "shell.execute_reply": "2024-05-04T05:04:52.988661Z"
    },
    "papermill": {
     "duration": 0.046086,
     "end_time": "2024-05-04T05:04:52.991636",
     "exception": false,
     "start_time": "2024-05-04T05:04:52.945550",
     "status": "completed"
    },
    "tags": []
   },
   "outputs": [
    {
     "name": "stdout",
     "output_type": "stream",
     "text": [
      "Actual Review:\n",
      " could possibly best tasting chip ever eaten nice smokey bacon flavor would make sure item always stocked pantry price high amount get would sell amazing chip states would highly recomend someone paying price one time try\n",
      "\n",
      "tweet sentence represented in terms of tokens and not padded :\n",
      "  [38, 1908, 23, 184, 471, 102, 554, 65, 2648, 1108, 10, 8, 29, 112, 260, 79, 2418, 1174, 24, 118, 196, 14, 8, 754, 330, 471, 1217, 8, 171, 3657, 499, 1118, 24, 4, 20, 33]\n",
      "\n",
      "After padding : \n",
      " [   0    0    0    0   38 1908   23  184  471  102  554   65 2648 1108\n",
      "   10    8   29  112  260   79 2418 1174   24  118  196   14    8  754\n",
      "  330  471 1217    8  171 3657  499 1118   24    4   20   33]\n"
     ]
    }
   ],
   "source": [
    "print('Actual Review:\\n',X_train.iloc[5])\n",
    "print('\\ntweet sentence represented in terms of tokens and not padded :\\n ',x_train_seq[5])\n",
    "print('\\nAfter padding : \\n',train_pad_seq[5])"
   ]
  },
  {
   "cell_type": "code",
   "execution_count": 44,
   "id": "b68e21fe",
   "metadata": {
    "execution": {
     "iopub.execute_input": "2024-05-04T05:04:53.065359Z",
     "iopub.status.busy": "2024-05-04T05:04:53.065077Z",
     "iopub.status.idle": "2024-05-04T05:04:53.069678Z",
     "shell.execute_reply": "2024-05-04T05:04:53.068858Z"
    },
    "papermill": {
     "duration": 0.0437,
     "end_time": "2024-05-04T05:04:53.071511",
     "exception": false,
     "start_time": "2024-05-04T05:04:53.027811",
     "status": "completed"
    },
    "tags": []
   },
   "outputs": [],
   "source": [
    "from tensorflow.keras.callbacks import EarlyStopping\n",
    "from tensorflow.keras.models import Sequential\n",
    "from tensorflow.keras.layers import Embedding, GlobalAveragePooling1D, Dense, Dropout, LSTM, Bidirectional\n",
    "from sklearn.metrics import classification_report"
   ]
  },
  {
   "cell_type": "code",
   "execution_count": 45,
   "id": "aa56d136",
   "metadata": {
    "execution": {
     "iopub.execute_input": "2024-05-04T05:04:53.145347Z",
     "iopub.status.busy": "2024-05-04T05:04:53.145081Z",
     "iopub.status.idle": "2024-05-04T05:04:53.148731Z",
     "shell.execute_reply": "2024-05-04T05:04:53.147920Z"
    },
    "papermill": {
     "duration": 0.04266,
     "end_time": "2024-05-04T05:04:53.150582",
     "exception": false,
     "start_time": "2024-05-04T05:04:53.107922",
     "status": "completed"
    },
    "tags": []
   },
   "outputs": [],
   "source": [
    "num_epochs = 10"
   ]
  },
  {
   "cell_type": "code",
   "execution_count": 46,
   "id": "05d47d87",
   "metadata": {
    "execution": {
     "iopub.execute_input": "2024-05-04T05:04:53.225223Z",
     "iopub.status.busy": "2024-05-04T05:04:53.224940Z",
     "iopub.status.idle": "2024-05-04T07:13:14.284773Z",
     "shell.execute_reply": "2024-05-04T07:13:14.283672Z"
    },
    "papermill": {
     "duration": 7701.141638,
     "end_time": "2024-05-04T07:13:14.328956",
     "exception": false,
     "start_time": "2024-05-04T05:04:53.187318",
     "status": "completed"
    },
    "tags": []
   },
   "outputs": [
    {
     "name": "stdout",
     "output_type": "stream",
     "text": [
      "Epoch 1/10\n",
      "5000/5000 - 770s - loss: 0.3060 - accuracy: 0.8706 - val_loss: 0.2662 - val_accuracy: 0.8912 - 770s/epoch - 154ms/step\n",
      "Epoch 2/10\n",
      "5000/5000 - 768s - loss: 0.2217 - accuracy: 0.9105 - val_loss: 0.2633 - val_accuracy: 0.8952 - 768s/epoch - 154ms/step\n",
      "Epoch 3/10\n",
      "5000/5000 - 770s - loss: 0.1669 - accuracy: 0.9344 - val_loss: 0.2816 - val_accuracy: 0.8909 - 770s/epoch - 154ms/step\n",
      "Epoch 4/10\n",
      "5000/5000 - 769s - loss: 0.1205 - accuracy: 0.9536 - val_loss: 0.3108 - val_accuracy: 0.8918 - 769s/epoch - 154ms/step\n",
      "Epoch 5/10\n",
      "5000/5000 - 771s - loss: 0.0836 - accuracy: 0.9689 - val_loss: 0.3735 - val_accuracy: 0.8938 - 771s/epoch - 154ms/step\n",
      "Epoch 6/10\n",
      "5000/5000 - 770s - loss: 0.0575 - accuracy: 0.9789 - val_loss: 0.4278 - val_accuracy: 0.8927 - 770s/epoch - 154ms/step\n",
      "Epoch 7/10\n",
      "5000/5000 - 770s - loss: 0.0405 - accuracy: 0.9851 - val_loss: 0.4790 - val_accuracy: 0.8893 - 770s/epoch - 154ms/step\n",
      "Epoch 8/10\n",
      "5000/5000 - 769s - loss: 0.0292 - accuracy: 0.9896 - val_loss: 0.5420 - val_accuracy: 0.8834 - 769s/epoch - 154ms/step\n",
      "Epoch 9/10\n",
      "5000/5000 - 770s - loss: 0.0221 - accuracy: 0.9921 - val_loss: 0.6486 - val_accuracy: 0.8842 - 770s/epoch - 154ms/step\n",
      "Epoch 10/10\n",
      "5000/5000 - 774s - loss: 0.0180 - accuracy: 0.9936 - val_loss: 0.6681 - val_accuracy: 0.8938 - 774s/epoch - 155ms/step\n"
     ]
    }
   ],
   "source": [
    "n_lstm=128\n",
    "embeding_dim =128\n",
    "drop_lstm =0.2\n",
    "model = Sequential()\n",
    "model.add(Embedding(vocab_size, embeding_dim))\n",
    "model.add(LSTM(n_lstm, dropout=drop_lstm,return_sequences=False))\n",
    "\n",
    "model.add(Dense(2, activation='softmax'))\n",
    "# model.summary()\n",
    "\n",
    "model.compile(loss = 'sparse_categorical_crossentropy', optimizer = 'adam', metrics=['accuracy'])\n",
    "\n",
    "history = model.fit(train_pad_seq,Y_train, epochs=num_epochs,validation_data=(test_pad_seq, Y_test), verbose=2)"
   ]
  },
  {
   "cell_type": "code",
   "execution_count": 47,
   "id": "d6f1ee1a",
   "metadata": {
    "execution": {
     "iopub.execute_input": "2024-05-04T07:13:14.406527Z",
     "iopub.status.busy": "2024-05-04T07:13:14.406190Z",
     "iopub.status.idle": "2024-05-04T07:14:44.339247Z",
     "shell.execute_reply": "2024-05-04T07:14:44.338456Z"
    },
    "papermill": {
     "duration": 89.974381,
     "end_time": "2024-05-04T07:14:44.341615",
     "exception": false,
     "start_time": "2024-05-04T07:13:14.367234",
     "status": "completed"
    },
    "tags": []
   },
   "outputs": [
    {
     "name": "stdout",
     "output_type": "stream",
     "text": [
      "Training Results\n",
      "              precision    recall  f1-score   support\n",
      "\n",
      "           0     0.9966    0.9925    0.9946     34958\n",
      "           1     0.9979    0.9991    0.9985    125042\n",
      "\n",
      "    accuracy                         0.9976    160000\n",
      "   macro avg     0.9973    0.9958    0.9965    160000\n",
      "weighted avg     0.9976    0.9976    0.9976    160000\n",
      "\n"
     ]
    },
    {
     "data": {
      "image/png": "[encoded data removed]",
      "text/plain": [
       "<Figure size 640x480 with 2 Axes>"
      ]
     },
     "metadata": {},
     "output_type": "display_data"
    },
    {
     "name": "stdout",
     "output_type": "stream",
     "text": [
      "Testing Results\n",
      "              precision    recall  f1-score   support\n",
      "\n",
      "           0     0.7715    0.7349    0.7528      8802\n",
      "           1     0.9262    0.9386    0.9324     31198\n",
      "\n",
      "    accuracy                         0.8938     40000\n",
      "   macro avg     0.8489    0.8368    0.8426     40000\n",
      "weighted avg     0.8922    0.8938    0.8928     40000\n",
      "\n"
     ]
    },
    {
     "data": {
      "image/png": "[encoded data removed]",
      "text/plain": [
       "<Figure size 640x480 with 2 Axes>"
      ]
     },
     "metadata": {},
     "output_type": "display_data"
    }
   ],
   "source": [
    "from sklearn.metrics import confusion_matrix, ConfusionMatrixDisplay\n",
    "print(\"Training Results\")\n",
    "yhat_probs = model.predict(train_pad_seq, verbose=0)\n",
    "pred =  np.argmax(yhat_probs, axis=1)\n",
    "matrix = classification_report(Y_train, pred,digits =4)\n",
    "print(matrix)\n",
    "\n",
    "cm = confusion_matrix(Y_train, pred)\n",
    "disp = ConfusionMatrixDisplay(confusion_matrix=cm,display_labels=[\"Negative\",\"Positive\"])\n",
    "disp.plot()\n",
    "plt.show()\n",
    "\n",
    "print(\"Testing Results\")\n",
    "yhat_probs = model.predict(test_pad_seq, verbose=0)\n",
    "pred =  np.argmax(yhat_probs, axis=1)\n",
    "matrix = classification_report(Y_test, pred,digits =4)\n",
    "print(matrix)\n",
    "\n",
    "cm = confusion_matrix(Y_test, pred)\n",
    "disp = ConfusionMatrixDisplay(confusion_matrix=cm,display_labels=[\"Negative\",\"Positive\"])\n",
    "disp.plot()\n",
    "plt.show()\n",
    "model.save_weights(\"lstm_w.h5\")\n",
    "model.save(\"lstm.h5\")"
   ]
  },
  {
   "cell_type": "markdown",
   "id": "27b33c4f",
   "metadata": {
    "papermill": {
     "duration": 0.039248,
     "end_time": "2024-05-04T07:14:44.421209",
     "exception": false,
     "start_time": "2024-05-04T07:14:44.381961",
     "status": "completed"
    },
    "tags": []
   },
   "source": [
    "## BI-LSTM"
   ]
  },
  {
   "cell_type": "code",
   "execution_count": 48,
   "id": "380d19a2",
   "metadata": {
    "execution": {
     "iopub.execute_input": "2024-05-04T07:14:44.501321Z",
     "iopub.status.busy": "2024-05-04T07:14:44.501006Z",
     "iopub.status.idle": "2024-05-04T10:44:20.648830Z",
     "shell.execute_reply": "2024-05-04T10:44:20.647880Z"
    },
    "papermill": {
     "duration": 12576.231229,
     "end_time": "2024-05-04T10:44:20.691983",
     "exception": false,
     "start_time": "2024-05-04T07:14:44.460754",
     "status": "completed"
    },
    "tags": []
   },
   "outputs": [
    {
     "name": "stdout",
     "output_type": "stream",
     "text": [
      "Epoch 1/10\n",
      "5000/5000 - 1270s - loss: 0.3033 - accuracy: 0.8743 - val_loss: 0.2666 - val_accuracy: 0.8928 - 1270s/epoch - 254ms/step\n",
      "Epoch 2/10\n",
      "5000/5000 - 1256s - loss: 0.2157 - accuracy: 0.9138 - val_loss: 0.2573 - val_accuracy: 0.8967 - 1256s/epoch - 251ms/step\n",
      "Epoch 3/10\n",
      "5000/5000 - 1255s - loss: 0.1572 - accuracy: 0.9390 - val_loss: 0.2727 - val_accuracy: 0.8944 - 1255s/epoch - 251ms/step\n",
      "Epoch 4/10\n",
      "5000/5000 - 1279s - loss: 0.1080 - accuracy: 0.9594 - val_loss: 0.3216 - val_accuracy: 0.8963 - 1279s/epoch - 256ms/step\n",
      "Epoch 5/10\n",
      "5000/5000 - 1269s - loss: 0.0712 - accuracy: 0.9739 - val_loss: 0.3689 - val_accuracy: 0.8922 - 1269s/epoch - 254ms/step\n",
      "Epoch 6/10\n",
      "5000/5000 - 1245s - loss: 0.0489 - accuracy: 0.9824 - val_loss: 0.4655 - val_accuracy: 0.8877 - 1245s/epoch - 249ms/step\n",
      "Epoch 7/10\n",
      "5000/5000 - 1250s - loss: 0.0338 - accuracy: 0.9880 - val_loss: 0.5497 - val_accuracy: 0.8921 - 1250s/epoch - 250ms/step\n",
      "Epoch 8/10\n",
      "5000/5000 - 1252s - loss: 0.0263 - accuracy: 0.9908 - val_loss: 0.5848 - val_accuracy: 0.8884 - 1252s/epoch - 250ms/step\n",
      "Epoch 9/10\n",
      "5000/5000 - 1246s - loss: 0.0209 - accuracy: 0.9927 - val_loss: 0.6803 - val_accuracy: 0.8946 - 1246s/epoch - 249ms/step\n",
      "Epoch 10/10\n",
      "5000/5000 - 1252s - loss: 0.0159 - accuracy: 0.9944 - val_loss: 0.7141 - val_accuracy: 0.8927 - 1252s/epoch - 250ms/step\n"
     ]
    }
   ],
   "source": [
    "n_lstm=128\n",
    "embeding_dim =128\n",
    "drop_lstm =0.2\n",
    "model2 = Sequential()\n",
    "model2.add(Embedding(vocab_size, embeding_dim))\n",
    "model2.add(Bidirectional(LSTM(n_lstm, dropout=drop_lstm, return_sequences=True)))\n",
    "model2.add(Bidirectional(LSTM(n_lstm, dropout=drop_lstm)))\n",
    "\n",
    "model2.add(Dense(2, activation='softmax'))\n",
    "# model.summary()\n",
    "\n",
    "model2.compile(loss = 'sparse_categorical_crossentropy', optimizer = 'adam', metrics=['accuracy'])\n",
    "\n",
    "history = model2.fit(train_pad_seq,Y_train, epochs=num_epochs,validation_data=(test_pad_seq, Y_test), verbose=2)"
   ]
  },
  {
   "cell_type": "code",
   "execution_count": 49,
   "id": "74a27b2d",
   "metadata": {
    "execution": {
     "iopub.execute_input": "2024-05-04T10:44:20.775913Z",
     "iopub.status.busy": "2024-05-04T10:44:20.775630Z",
     "iopub.status.idle": "2024-05-04T10:49:00.674360Z",
     "shell.execute_reply": "2024-05-04T10:49:00.673593Z"
    },
    "papermill": {
     "duration": 279.943183,
     "end_time": "2024-05-04T10:49:00.676606",
     "exception": false,
     "start_time": "2024-05-04T10:44:20.733423",
     "status": "completed"
    },
    "tags": []
   },
   "outputs": [
    {
     "name": "stdout",
     "output_type": "stream",
     "text": [
      "Training Results\n",
      "              precision    recall  f1-score   support\n",
      "\n",
      "           0     0.9983    0.9916    0.9949     34958\n",
      "           1     0.9977    0.9995    0.9986    125042\n",
      "\n",
      "    accuracy                         0.9978    160000\n",
      "   macro avg     0.9980    0.9956    0.9968    160000\n",
      "weighted avg     0.9978    0.9978    0.9978    160000\n",
      "\n"
     ]
    },
    {
     "data": {
      "image/png": "[encoded data removed]",
      "text/plain": [
       "<Figure size 640x480 with 2 Axes>"
      ]
     },
     "metadata": {},
     "output_type": "display_data"
    },
    {
     "name": "stdout",
     "output_type": "stream",
     "text": [
      "Testing Results\n",
      "              precision    recall  f1-score   support\n",
      "\n",
      "           0     0.7797    0.7142    0.7455      8802\n",
      "           1     0.9212    0.9431    0.9320     31198\n",
      "\n",
      "    accuracy                         0.8927     40000\n",
      "   macro avg     0.8505    0.8286    0.8388     40000\n",
      "weighted avg     0.8901    0.8927    0.8910     40000\n",
      "\n"
     ]
    },
    {
     "data": {
      "image/png": "[encoded data removed]",
      "text/plain": [
       "<Figure size 640x480 with 2 Axes>"
      ]
     },
     "metadata": {},
     "output_type": "display_data"
    }
   ],
   "source": [
    "from sklearn.metrics import confusion_matrix, ConfusionMatrixDisplay\n",
    "print(\"Training Results\")\n",
    "yhat_probs = model2.predict(train_pad_seq, verbose=0)\n",
    "pred =  np.argmax(yhat_probs, axis=1)\n",
    "matrix = classification_report(Y_train, pred,digits =4)\n",
    "print(matrix)\n",
    "\n",
    "cm = confusion_matrix(Y_train, pred)\n",
    "disp = ConfusionMatrixDisplay(confusion_matrix=cm,display_labels=[\"Negative\",\"Positive\"])\n",
    "disp.plot()\n",
    "plt.show()\n",
    "\n",
    "print(\"Testing Results\")\n",
    "yhat_probs = model2.predict(test_pad_seq, verbose=0)\n",
    "pred =  np.argmax(yhat_probs, axis=1)\n",
    "matrix = classification_report(Y_test, pred,digits =4)\n",
    "print(matrix)\n",
    "\n",
    "cm = confusion_matrix(Y_test, pred)\n",
    "disp = ConfusionMatrixDisplay(confusion_matrix=cm,display_labels=[\"Negative\",\"Positive\"])\n",
    "disp.plot()\n",
    "plt.show()\n",
    "model.save_weights(\"bi_lstm_w.h5\")\n",
    "model.save(\"bi_lstm.h5\")"
   ]
  },
  {
   "cell_type": "markdown",
   "id": "8c2ac7c8",
   "metadata": {
    "papermill": {
     "duration": 0.041664,
     "end_time": "2024-05-04T10:49:00.761181",
     "exception": false,
     "start_time": "2024-05-04T10:49:00.719517",
     "status": "completed"
    },
    "tags": []
   },
   "source": [
    "### CNN"
   ]
  },
  {
   "cell_type": "code",
   "execution_count": 50,
   "id": "0cc1345f",
   "metadata": {
    "execution": {
     "iopub.execute_input": "2024-05-04T10:49:00.846894Z",
     "iopub.status.busy": "2024-05-04T10:49:00.846218Z",
     "iopub.status.idle": "2024-05-04T12:27:33.107748Z",
     "shell.execute_reply": "2024-05-04T12:27:33.106742Z"
    },
    "papermill": {
     "duration": 5912.350047,
     "end_time": "2024-05-04T12:27:33.153198",
     "exception": false,
     "start_time": "2024-05-04T10:49:00.803151",
     "status": "completed"
    },
    "tags": []
   },
   "outputs": [
    {
     "name": "stdout",
     "output_type": "stream",
     "text": [
      "Epoch 1/10\n",
      "5000/5000 - 596s - loss: 0.2952 - accuracy: 0.8758 - val_loss: 0.2608 - val_accuracy: 0.8949 - 596s/epoch - 119ms/step\n",
      "Epoch 2/10\n",
      "5000/5000 - 587s - loss: 0.1698 - accuracy: 0.9336 - val_loss: 0.2695 - val_accuracy: 0.8977 - 587s/epoch - 117ms/step\n",
      "Epoch 3/10\n",
      "5000/5000 - 587s - loss: 0.0730 - accuracy: 0.9733 - val_loss: 0.4068 - val_accuracy: 0.8954 - 587s/epoch - 117ms/step\n",
      "Epoch 4/10\n",
      "5000/5000 - 584s - loss: 0.0372 - accuracy: 0.9867 - val_loss: 0.5148 - val_accuracy: 0.8814 - 584s/epoch - 117ms/step\n",
      "Epoch 5/10\n",
      "5000/5000 - 592s - loss: 0.0249 - accuracy: 0.9911 - val_loss: 0.6116 - val_accuracy: 0.8913 - 592s/epoch - 118ms/step\n",
      "Epoch 6/10\n",
      "5000/5000 - 593s - loss: 0.0181 - accuracy: 0.9937 - val_loss: 0.7030 - val_accuracy: 0.8925 - 593s/epoch - 119ms/step\n",
      "Epoch 7/10\n",
      "5000/5000 - 594s - loss: 0.0147 - accuracy: 0.9951 - val_loss: 0.7576 - val_accuracy: 0.8917 - 594s/epoch - 119ms/step\n",
      "Epoch 8/10\n",
      "5000/5000 - 593s - loss: 0.0131 - accuracy: 0.9956 - val_loss: 0.8929 - val_accuracy: 0.8887 - 593s/epoch - 119ms/step\n",
      "Epoch 9/10\n",
      "5000/5000 - 596s - loss: 0.0117 - accuracy: 0.9960 - val_loss: 0.8871 - val_accuracy: 0.8899 - 596s/epoch - 119ms/step\n",
      "Epoch 10/10\n",
      "5000/5000 - 590s - loss: 0.0110 - accuracy: 0.9964 - val_loss: 0.9177 - val_accuracy: 0.8882 - 590s/epoch - 118ms/step\n"
     ]
    }
   ],
   "source": [
    "from tensorflow.keras.models import Sequential\n",
    "from tensorflow.keras.layers import Embedding, Conv1D, MaxPooling1D, Flatten, Dense\n",
    "\n",
    "# Define the model\n",
    "model3 = Sequential()\n",
    "model3.add(Embedding(vocab_size, embeding_dim, input_length=max_len))  # Assuming max_length is defined\n",
    "model3.add(Conv1D(filters=32, kernel_size=3, padding='same', activation='relu'))\n",
    "model3.add(MaxPooling1D(pool_size=2))\n",
    "model3.add(Flatten())\n",
    "model3.add(Dense(1024, activation='relu'))  # Specify input_shape here\n",
    "model3.add(Dense(2, activation='softmax'))\n",
    "\n",
    "# Compile the model\n",
    "model3.compile(loss='sparse_categorical_crossentropy', optimizer='adam', metrics=['accuracy'])\n",
    "\n",
    "# Train the model\n",
    "history = model3.fit(train_pad_seq, Y_train, epochs=num_epochs, validation_data=(test_pad_seq, Y_test), verbose=2)"
   ]
  },
  {
   "cell_type": "code",
   "execution_count": 51,
   "id": "208e3364",
   "metadata": {
    "execution": {
     "iopub.execute_input": "2024-05-04T12:27:33.246152Z",
     "iopub.status.busy": "2024-05-04T12:27:33.245738Z",
     "iopub.status.idle": "2024-05-04T12:27:49.425162Z",
     "shell.execute_reply": "2024-05-04T12:27:49.424159Z"
    },
    "papermill": {
     "duration": 16.228684,
     "end_time": "2024-05-04T12:27:49.427616",
     "exception": false,
     "start_time": "2024-05-04T12:27:33.198932",
     "status": "completed"
    },
    "tags": []
   },
   "outputs": [
    {
     "name": "stdout",
     "output_type": "stream",
     "text": [
      "Training Results\n",
      "              precision    recall  f1-score   support\n",
      "\n",
      "           0     0.9966    0.9958    0.9962     34958\n",
      "           1     0.9988    0.9990    0.9989    125042\n",
      "\n",
      "    accuracy                         0.9983    160000\n",
      "   macro avg     0.9977    0.9974    0.9976    160000\n",
      "weighted avg     0.9983    0.9983    0.9983    160000\n",
      "\n"
     ]
    },
    {
     "data": {
      "image/png": "[encoded data removed]",
      "text/plain": [
       "<Figure size 640x480 with 2 Axes>"
      ]
     },
     "metadata": {},
     "output_type": "display_data"
    },
    {
     "name": "stdout",
     "output_type": "stream",
     "text": [
      "Testing Results\n",
      "              precision    recall  f1-score   support\n",
      "\n",
      "           0     0.7581    0.7227    0.7400      8802\n",
      "           1     0.9228    0.9349    0.9288     31198\n",
      "\n",
      "    accuracy                         0.8882     40000\n",
      "   macro avg     0.8404    0.8288    0.8344     40000\n",
      "weighted avg     0.8865    0.8882    0.8873     40000\n",
      "\n"
     ]
    },
    {
     "data": {
      "image/png": "[encoded data removed]",
      "text/plain": [
       "<Figure size 640x480 with 2 Axes>"
      ]
     },
     "metadata": {},
     "output_type": "display_data"
    }
   ],
   "source": [
    "from sklearn.metrics import confusion_matrix, ConfusionMatrixDisplay\n",
    "print(\"Training Results\")\n",
    "yhat_probs = model3.predict(train_pad_seq, verbose=0)\n",
    "pred =  np.argmax(yhat_probs, axis=1)\n",
    "matrix = classification_report(Y_train, pred,digits =4)\n",
    "print(matrix)\n",
    "\n",
    "cm = confusion_matrix(Y_train, pred)\n",
    "disp = ConfusionMatrixDisplay(confusion_matrix=cm,display_labels=[\"Negative\",\"Positive\"])\n",
    "disp.plot()\n",
    "plt.show()\n",
    "\n",
    "print(\"Testing Results\")\n",
    "yhat_probs = model3.predict(test_pad_seq, verbose=0)\n",
    "pred =  np.argmax(yhat_probs, axis=1)\n",
    "matrix = classification_report(Y_test, pred,digits =4)\n",
    "print(matrix)\n",
    "\n",
    "cm = confusion_matrix(Y_test, pred)\n",
    "disp = ConfusionMatrixDisplay(confusion_matrix=cm,display_labels=[\"Negative\",\"Positive\"])\n",
    "disp.plot()\n",
    "plt.show()\n",
    "model.save_weights(\"cnn_w.h5\")\n",
    "model.save(\"cnn.h5\")"
   ]
  },
  {
   "cell_type": "markdown",
   "id": "bfbc6af2",
   "metadata": {
    "papermill": {
     "duration": 0.04485,
     "end_time": "2024-05-04T12:27:49.518933",
     "exception": false,
     "start_time": "2024-05-04T12:27:49.474083",
     "status": "completed"
    },
    "tags": []
   },
   "source": [
    "### CNN + LSTM"
   ]
  },
  {
   "cell_type": "code",
   "execution_count": 52,
   "id": "8640ec82",
   "metadata": {
    "execution": {
     "iopub.execute_input": "2024-05-04T12:27:49.612009Z",
     "iopub.status.busy": "2024-05-04T12:27:49.611264Z",
     "iopub.status.idle": "2024-05-04T14:10:36.277066Z",
     "shell.execute_reply": "2024-05-04T14:10:36.275873Z"
    },
    "papermill": {
     "duration": 6166.759293,
     "end_time": "2024-05-04T14:10:36.323920",
     "exception": false,
     "start_time": "2024-05-04T12:27:49.564627",
     "status": "completed"
    },
    "tags": []
   },
   "outputs": [
    {
     "name": "stdout",
     "output_type": "stream",
     "text": [
      "Epoch 1/10\n",
      "5000/5000 - 620s - loss: 0.3053 - accuracy: 0.8713 - val_loss: 0.2660 - val_accuracy: 0.8945 - 620s/epoch - 124ms/step\n",
      "Epoch 2/10\n",
      "5000/5000 - 626s - loss: 0.2180 - accuracy: 0.9128 - val_loss: 0.2612 - val_accuracy: 0.8979 - 626s/epoch - 125ms/step\n",
      "Epoch 3/10\n",
      "5000/5000 - 619s - loss: 0.1519 - accuracy: 0.9416 - val_loss: 0.2842 - val_accuracy: 0.8925 - 619s/epoch - 124ms/step\n",
      "Epoch 4/10\n",
      "5000/5000 - 618s - loss: 0.1055 - accuracy: 0.9612 - val_loss: 0.3255 - val_accuracy: 0.8992 - 618s/epoch - 124ms/step\n",
      "Epoch 5/10\n",
      "5000/5000 - 618s - loss: 0.0764 - accuracy: 0.9717 - val_loss: 0.3743 - val_accuracy: 0.8974 - 618s/epoch - 124ms/step\n",
      "Epoch 6/10\n",
      "5000/5000 - 621s - loss: 0.0569 - accuracy: 0.9793 - val_loss: 0.4080 - val_accuracy: 0.8949 - 621s/epoch - 124ms/step\n",
      "Epoch 7/10\n",
      "5000/5000 - 616s - loss: 0.0460 - accuracy: 0.9832 - val_loss: 0.4446 - val_accuracy: 0.8925 - 616s/epoch - 123ms/step\n",
      "Epoch 8/10\n",
      "5000/5000 - 610s - loss: 0.0367 - accuracy: 0.9868 - val_loss: 0.4543 - val_accuracy: 0.8922 - 610s/epoch - 122ms/step\n",
      "Epoch 9/10\n",
      "5000/5000 - 610s - loss: 0.0312 - accuracy: 0.9887 - val_loss: 0.5107 - val_accuracy: 0.8939 - 610s/epoch - 122ms/step\n",
      "Epoch 10/10\n",
      "5000/5000 - 608s - loss: 0.0270 - accuracy: 0.9904 - val_loss: 0.5401 - val_accuracy: 0.8883 - 608s/epoch - 122ms/step\n"
     ]
    }
   ],
   "source": [
    "from tensorflow.keras.layers import Conv1D,MaxPooling1D\n",
    "\n",
    "n_lstm=128\n",
    "embeding_dim =128\n",
    "drop_lstm =0.2\n",
    "\n",
    "model4 = Sequential()\n",
    "model4.add(Embedding(vocab_size, embeding_dim))\n",
    "model4.add(Conv1D(filters=32, kernel_size=3, padding='same', activation='relu'))\n",
    "model4.add(MaxPooling1D(pool_size=2))\n",
    "model4.add(LSTM(n_lstm, dropout=drop_lstm))\n",
    "model4.add(Dense(2, activation='softmax'))\n",
    "\n",
    "\n",
    "model4.compile(loss = 'sparse_categorical_crossentropy', optimizer = 'adam', metrics=['accuracy'])\n",
    "\n",
    "history = model4.fit(train_pad_seq,Y_train, epochs=num_epochs,validation_data=(test_pad_seq, Y_test), verbose=2)"
   ]
  },
  {
   "cell_type": "code",
   "execution_count": 53,
   "id": "a773661c",
   "metadata": {
    "execution": {
     "iopub.execute_input": "2024-05-04T14:10:36.418931Z",
     "iopub.status.busy": "2024-05-04T14:10:36.418161Z",
     "iopub.status.idle": "2024-05-04T14:11:24.239635Z",
     "shell.execute_reply": "2024-05-04T14:11:24.238659Z"
    },
    "papermill": {
     "duration": 47.871212,
     "end_time": "2024-05-04T14:11:24.241966",
     "exception": false,
     "start_time": "2024-05-04T14:10:36.370754",
     "status": "completed"
    },
    "tags": []
   },
   "outputs": [
    {
     "name": "stdout",
     "output_type": "stream",
     "text": [
      "Training Results\n",
      "              precision    recall  f1-score   support\n",
      "\n",
      "           0     0.9954    0.9924    0.9939     34958\n",
      "           1     0.9979    0.9987    0.9983    125042\n",
      "\n",
      "    accuracy                         0.9974    160000\n",
      "   macro avg     0.9967    0.9956    0.9961    160000\n",
      "weighted avg     0.9974    0.9974    0.9974    160000\n",
      "\n"
     ]
    },
    {
     "data": {
      "image/png": "[encoded data removed]",
      "text/plain": [
       "<Figure size 640x480 with 2 Axes>"
      ]
     },
     "metadata": {},
     "output_type": "display_data"
    },
    {
     "name": "stdout",
     "output_type": "stream",
     "text": [
      "Testing Results\n",
      "              precision    recall  f1-score   support\n",
      "\n",
      "           0     0.7526    0.7334    0.7429      8802\n",
      "           1     0.9253    0.9320    0.9286     31198\n",
      "\n",
      "    accuracy                         0.8883     40000\n",
      "   macro avg     0.8390    0.8327    0.8357     40000\n",
      "weighted avg     0.8873    0.8883    0.8878     40000\n",
      "\n"
     ]
    },
    {
     "data": {
      "image/png": "[encoded data removed]",
      "text/plain": [
       "<Figure size 640x480 with 2 Axes>"
      ]
     },
     "metadata": {},
     "output_type": "display_data"
    }
   ],
   "source": [
    "from sklearn.metrics import confusion_matrix, ConfusionMatrixDisplay\n",
    "print(\"Training Results\")\n",
    "yhat_probs = model4.predict(train_pad_seq, verbose=0)\n",
    "pred =  np.argmax(yhat_probs, axis=1)\n",
    "matrix = classification_report(Y_train, pred,digits =4)\n",
    "print(matrix)\n",
    "\n",
    "cm = confusion_matrix(Y_train, pred)\n",
    "disp = ConfusionMatrixDisplay(confusion_matrix=cm,display_labels=[\"Negative\",\"Positive\"])\n",
    "disp.plot()\n",
    "plt.show()\n",
    "\n",
    "print(\"Testing Results\")\n",
    "yhat_probs = model4.predict(test_pad_seq, verbose=0)\n",
    "pred =  np.argmax(yhat_probs, axis=1)\n",
    "matrix = classification_report(Y_test, pred,digits =4)\n",
    "print(matrix)\n",
    "\n",
    "cm = confusion_matrix(Y_test, pred)\n",
    "disp = ConfusionMatrixDisplay(confusion_matrix=cm,display_labels=[\"Negative\",\"Positive\"])\n",
    "disp.plot()\n",
    "plt.show()\n",
    "model.save_weights(\"cnn_lstm_w.h5\")\n",
    "model.save(\"cnn_lstm.h5\")"
   ]
  },
  {
   "cell_type": "code",
   "execution_count": null,
   "id": "43978ae4",
   "metadata": {
    "papermill": {
     "duration": 0.125103,
     "end_time": "2024-05-04T14:11:24.416027",
     "exception": false,
     "start_time": "2024-05-04T14:11:24.290924",
     "status": "completed"
    },
    "tags": []
   },
   "outputs": [],
   "source": []
  }
 ],
 "metadata": {
  "kaggle": {
   "accelerator": "nvidiaTeslaT4",
   "dataSources": [
    {
     "datasetId": 4747369,
     "sourceId": 8050292,
     "sourceType": "datasetVersion"
    }
   ],
   "dockerImageVersionId": 30674,
   "isGpuEnabled": true,
   "isInternetEnabled": true,
   "language": "python",
   "sourceType": "notebook"
  },
  "kernelspec": {
   "display_name": "Python 3",
   "language": "python",
   "name": "python3"
  },
  "language_info": {
   "codemirror_mode": {
    "name": "ipython",
    "version": 3
   },
   "file_extension": ".py",
   "mimetype": "text/x-python",
   "name": "python",
   "nbconvert_exporter": "python",
   "pygments_lexer": "ipython3",
   "version": "3.10.13"
  },
  "papermill": {
   "default_parameters": {},
   "duration": 32927.263473,
   "end_time": "2024-05-04T14:11:27.697433",
   "environment_variables": {},
   "exception": null,
   "input_path": "__notebook__.ipynb",
   "output_path": "__notebook__.ipynb",
   "parameters": {},
   "start_time": "2024-05-04T05:02:40.433960",
   "version": "2.5.0"
  }
 },
 "nbformat": 4,
 "nbformat_minor": 5
}
