{
 "cells": [
  {
   "cell_type": "code",
   "execution_count": 1,
   "metadata": {
    "execution": {
     "iopub.execute_input": "2024-03-06T16:10:22.844374Z",
     "iopub.status.busy": "2024-03-06T16:10:22.843946Z",
     "iopub.status.idle": "2024-03-06T16:10:23.248318Z",
     "shell.execute_reply": "2024-03-06T16:10:23.247404Z",
     "shell.execute_reply.started": "2024-03-06T16:10:22.844336Z"
    }
   },
   "outputs": [],
   "source": [
    "import pandas as pd"
   ]
  },
  {
   "cell_type": "code",
   "execution_count": 2,
   "metadata": {
    "execution": {
     "iopub.execute_input": "2024-03-06T16:10:23.251009Z",
     "iopub.status.busy": "2024-03-06T16:10:23.250480Z",
     "iopub.status.idle": "2024-03-06T16:10:31.053951Z",
     "shell.execute_reply": "2024-03-06T16:10:31.052947Z",
     "shell.execute_reply.started": "2024-03-06T16:10:23.250976Z"
    }
   },
   "outputs": [],
   "source": [
    "df = pd.read_csv(\"/kaggle/input/amazon-fine-food-reviews/Reviews.csv\")"
   ]
  },
  {
   "cell_type": "code",
   "execution_count": 3,
   "metadata": {
    "execution": {
     "iopub.execute_input": "2024-03-06T16:10:31.055722Z",
     "iopub.status.busy": "2024-03-06T16:10:31.055284Z",
     "iopub.status.idle": "2024-03-06T16:10:31.086792Z",
     "shell.execute_reply": "2024-03-06T16:10:31.085742Z",
     "shell.execute_reply.started": "2024-03-06T16:10:31.055694Z"
    }
   },
   "outputs": [
    {
     "data": {
      "text/html": [
       "<div>\n",
       "<style scoped>\n",
       "    .dataframe tbody tr th:only-of-type {\n",
       "        vertical-align: middle;\n",
       "    }\n",
       "\n",
       "    .dataframe tbody tr th {\n",
       "        vertical-align: top;\n",
       "    }\n",
       "\n",
       "    .dataframe thead th {\n",
       "        text-align: right;\n",
       "    }\n",
       "</style>\n",
       "<table border=\"1\" class=\"dataframe\">\n",
       "  <thead>\n",
       "    <tr style=\"text-align: right;\">\n",
       "      <th></th>\n",
       "      <th>Id</th>\n",
       "      <th>ProductId</th>\n",
       "      <th>UserId</th>\n",
       "      <th>ProfileName</th>\n",
       "      <th>HelpfulnessNumerator</th>\n",
       "      <th>HelpfulnessDenominator</th>\n",
       "      <th>Score</th>\n",
       "      <th>Time</th>\n",
       "      <th>Summary</th>\n",
       "      <th>Text</th>\n",
       "    </tr>\n",
       "  </thead>\n",
       "  <tbody>\n",
       "    <tr>\n",
       "      <th>0</th>\n",
       "      <td>1</td>\n",
       "      <td>B001E4KFG0</td>\n",
       "      <td>A3SGXH7AUHU8GW</td>\n",
       "      <td>delmartian</td>\n",
       "      <td>1</td>\n",
       "      <td>1</td>\n",
       "      <td>5</td>\n",
       "      <td>1303862400</td>\n",
       "      <td>Good Quality Dog Food</td>\n",
       "      <td>I have bought several of the Vitality canned d...</td>\n",
       "    </tr>\n",
       "    <tr>\n",
       "      <th>1</th>\n",
       "      <td>2</td>\n",
       "      <td>B00813GRG4</td>\n",
       "      <td>A1D87F6ZCVE5NK</td>\n",
       "      <td>dll pa</td>\n",
       "      <td>0</td>\n",
       "      <td>0</td>\n",
       "      <td>1</td>\n",
       "      <td>1346976000</td>\n",
       "      <td>Not as Advertised</td>\n",
       "      <td>Product arrived labeled as Jumbo Salted Peanut...</td>\n",
       "    </tr>\n",
       "    <tr>\n",
       "      <th>2</th>\n",
       "      <td>3</td>\n",
       "      <td>B000LQOCH0</td>\n",
       "      <td>ABXLMWJIXXAIN</td>\n",
       "      <td>Natalia Corres \"Natalia Corres\"</td>\n",
       "      <td>1</td>\n",
       "      <td>1</td>\n",
       "      <td>4</td>\n",
       "      <td>1219017600</td>\n",
       "      <td>\"Delight\" says it all</td>\n",
       "      <td>This is a confection that has been around a fe...</td>\n",
       "    </tr>\n",
       "    <tr>\n",
       "      <th>3</th>\n",
       "      <td>4</td>\n",
       "      <td>B000UA0QIQ</td>\n",
       "      <td>A395BORC6FGVXV</td>\n",
       "      <td>Karl</td>\n",
       "      <td>3</td>\n",
       "      <td>3</td>\n",
       "      <td>2</td>\n",
       "      <td>1307923200</td>\n",
       "      <td>Cough Medicine</td>\n",
       "      <td>If you are looking for the secret ingredient i...</td>\n",
       "    </tr>\n",
       "    <tr>\n",
       "      <th>4</th>\n",
       "      <td>5</td>\n",
       "      <td>B006K2ZZ7K</td>\n",
       "      <td>A1UQRSCLF8GW1T</td>\n",
       "      <td>Michael D. Bigham \"M. Wassir\"</td>\n",
       "      <td>0</td>\n",
       "      <td>0</td>\n",
       "      <td>5</td>\n",
       "      <td>1350777600</td>\n",
       "      <td>Great taffy</td>\n",
       "      <td>Great taffy at a great price.  There was a wid...</td>\n",
       "    </tr>\n",
       "    <tr>\n",
       "      <th>...</th>\n",
       "      <td>...</td>\n",
       "      <td>...</td>\n",
       "      <td>...</td>\n",
       "      <td>...</td>\n",
       "      <td>...</td>\n",
       "      <td>...</td>\n",
       "      <td>...</td>\n",
       "      <td>...</td>\n",
       "      <td>...</td>\n",
       "      <td>...</td>\n",
       "    </tr>\n",
       "    <tr>\n",
       "      <th>568449</th>\n",
       "      <td>568450</td>\n",
       "      <td>B001EO7N10</td>\n",
       "      <td>A28KG5XORO54AY</td>\n",
       "      <td>Lettie D. Carter</td>\n",
       "      <td>0</td>\n",
       "      <td>0</td>\n",
       "      <td>5</td>\n",
       "      <td>1299628800</td>\n",
       "      <td>Will not do without</td>\n",
       "      <td>Great for sesame chicken..this is a good if no...</td>\n",
       "    </tr>\n",
       "    <tr>\n",
       "      <th>568450</th>\n",
       "      <td>568451</td>\n",
       "      <td>B003S1WTCU</td>\n",
       "      <td>A3I8AFVPEE8KI5</td>\n",
       "      <td>R. Sawyer</td>\n",
       "      <td>0</td>\n",
       "      <td>0</td>\n",
       "      <td>2</td>\n",
       "      <td>1331251200</td>\n",
       "      <td>disappointed</td>\n",
       "      <td>I'm disappointed with the flavor. The chocolat...</td>\n",
       "    </tr>\n",
       "    <tr>\n",
       "      <th>568451</th>\n",
       "      <td>568452</td>\n",
       "      <td>B004I613EE</td>\n",
       "      <td>A121AA1GQV751Z</td>\n",
       "      <td>pksd \"pk_007\"</td>\n",
       "      <td>2</td>\n",
       "      <td>2</td>\n",
       "      <td>5</td>\n",
       "      <td>1329782400</td>\n",
       "      <td>Perfect for our maltipoo</td>\n",
       "      <td>These stars are small, so you can give 10-15 o...</td>\n",
       "    </tr>\n",
       "    <tr>\n",
       "      <th>568452</th>\n",
       "      <td>568453</td>\n",
       "      <td>B004I613EE</td>\n",
       "      <td>A3IBEVCTXKNOH</td>\n",
       "      <td>Kathy A. Welch \"katwel\"</td>\n",
       "      <td>1</td>\n",
       "      <td>1</td>\n",
       "      <td>5</td>\n",
       "      <td>1331596800</td>\n",
       "      <td>Favorite Training and reward treat</td>\n",
       "      <td>These are the BEST treats for training and rew...</td>\n",
       "    </tr>\n",
       "    <tr>\n",
       "      <th>568453</th>\n",
       "      <td>568454</td>\n",
       "      <td>B001LR2CU2</td>\n",
       "      <td>A3LGQPJCZVL9UC</td>\n",
       "      <td>srfell17</td>\n",
       "      <td>0</td>\n",
       "      <td>0</td>\n",
       "      <td>5</td>\n",
       "      <td>1338422400</td>\n",
       "      <td>Great Honey</td>\n",
       "      <td>I am very satisfied ,product is as advertised,...</td>\n",
       "    </tr>\n",
       "  </tbody>\n",
       "</table>\n",
       "<p>568454 rows × 10 columns</p>\n",
       "</div>"
      ],
      "text/plain": [
       "            Id   ProductId          UserId                      ProfileName  \\\n",
       "0            1  B001E4KFG0  A3SGXH7AUHU8GW                       delmartian   \n",
       "1            2  B00813GRG4  A1D87F6ZCVE5NK                           dll pa   \n",
       "2            3  B000LQOCH0   ABXLMWJIXXAIN  Natalia Corres \"Natalia Corres\"   \n",
       "3            4  B000UA0QIQ  A395BORC6FGVXV                             Karl   \n",
       "4            5  B006K2ZZ7K  A1UQRSCLF8GW1T    Michael D. Bigham \"M. Wassir\"   \n",
       "...        ...         ...             ...                              ...   \n",
       "568449  568450  B001EO7N10  A28KG5XORO54AY                 Lettie D. Carter   \n",
       "568450  568451  B003S1WTCU  A3I8AFVPEE8KI5                        R. Sawyer   \n",
       "568451  568452  B004I613EE  A121AA1GQV751Z                    pksd \"pk_007\"   \n",
       "568452  568453  B004I613EE   A3IBEVCTXKNOH          Kathy A. Welch \"katwel\"   \n",
       "568453  568454  B001LR2CU2  A3LGQPJCZVL9UC                         srfell17   \n",
       "\n",
       "        HelpfulnessNumerator  HelpfulnessDenominator  Score        Time  \\\n",
       "0                          1                       1      5  1303862400   \n",
       "1                          0                       0      1  1346976000   \n",
       "2                          1                       1      4  1219017600   \n",
       "3                          3                       3      2  1307923200   \n",
       "4                          0                       0      5  1350777600   \n",
       "...                      ...                     ...    ...         ...   \n",
       "568449                     0                       0      5  1299628800   \n",
       "568450                     0                       0      2  1331251200   \n",
       "568451                     2                       2      5  1329782400   \n",
       "568452                     1                       1      5  1331596800   \n",
       "568453                     0                       0      5  1338422400   \n",
       "\n",
       "                                   Summary  \\\n",
       "0                    Good Quality Dog Food   \n",
       "1                        Not as Advertised   \n",
       "2                    \"Delight\" says it all   \n",
       "3                           Cough Medicine   \n",
       "4                              Great taffy   \n",
       "...                                    ...   \n",
       "568449                 Will not do without   \n",
       "568450                        disappointed   \n",
       "568451            Perfect for our maltipoo   \n",
       "568452  Favorite Training and reward treat   \n",
       "568453                         Great Honey   \n",
       "\n",
       "                                                     Text  \n",
       "0       I have bought several of the Vitality canned d...  \n",
       "1       Product arrived labeled as Jumbo Salted Peanut...  \n",
       "2       This is a confection that has been around a fe...  \n",
       "3       If you are looking for the secret ingredient i...  \n",
       "4       Great taffy at a great price.  There was a wid...  \n",
       "...                                                   ...  \n",
       "568449  Great for sesame chicken..this is a good if no...  \n",
       "568450  I'm disappointed with the flavor. The chocolat...  \n",
       "568451  These stars are small, so you can give 10-15 o...  \n",
       "568452  These are the BEST treats for training and rew...  \n",
       "568453  I am very satisfied ,product is as advertised,...  \n",
       "\n",
       "[568454 rows x 10 columns]"
      ]
     },
     "execution_count": 3,
     "metadata": {},
     "output_type": "execute_result"
    }
   ],
   "source": [
    "df"
   ]
  },
  {
   "cell_type": "code",
   "execution_count": 4,
   "metadata": {
    "execution": {
     "iopub.execute_input": "2024-03-06T16:10:31.090175Z",
     "iopub.status.busy": "2024-03-06T16:10:31.089599Z",
     "iopub.status.idle": "2024-03-06T16:10:31.301087Z",
     "shell.execute_reply": "2024-03-06T16:10:31.299483Z",
     "shell.execute_reply.started": "2024-03-06T16:10:31.090133Z"
    }
   },
   "outputs": [
    {
     "name": "stdout",
     "output_type": "stream",
     "text": [
      "<class 'pandas.core.frame.DataFrame'>\n",
      "RangeIndex: 568454 entries, 0 to 568453\n",
      "Data columns (total 10 columns):\n",
      " #   Column                  Non-Null Count   Dtype \n",
      "---  ------                  --------------   ----- \n",
      " 0   Id                      568454 non-null  int64 \n",
      " 1   ProductId               568454 non-null  object\n",
      " 2   UserId                  568454 non-null  object\n",
      " 3   ProfileName             568428 non-null  object\n",
      " 4   HelpfulnessNumerator    568454 non-null  int64 \n",
      " 5   HelpfulnessDenominator  568454 non-null  int64 \n",
      " 6   Score                   568454 non-null  int64 \n",
      " 7   Time                    568454 non-null  int64 \n",
      " 8   Summary                 568427 non-null  object\n",
      " 9   Text                    568454 non-null  object\n",
      "dtypes: int64(5), object(5)\n",
      "memory usage: 43.4+ MB\n"
     ]
    }
   ],
   "source": [
    "df.info()"
   ]
  },
  {
   "cell_type": "code",
   "execution_count": 5,
   "metadata": {
    "execution": {
     "iopub.execute_input": "2024-03-06T16:10:31.303537Z",
     "iopub.status.busy": "2024-03-06T16:10:31.302567Z",
     "iopub.status.idle": "2024-03-06T16:10:31.404228Z",
     "shell.execute_reply": "2024-03-06T16:10:31.403342Z",
     "shell.execute_reply.started": "2024-03-06T16:10:31.303488Z"
    }
   },
   "outputs": [
    {
     "data": {
      "text/html": [
       "<div>\n",
       "<style scoped>\n",
       "    .dataframe tbody tr th:only-of-type {\n",
       "        vertical-align: middle;\n",
       "    }\n",
       "\n",
       "    .dataframe tbody tr th {\n",
       "        vertical-align: top;\n",
       "    }\n",
       "\n",
       "    .dataframe thead th {\n",
       "        text-align: right;\n",
       "    }\n",
       "</style>\n",
       "<table border=\"1\" class=\"dataframe\">\n",
       "  <thead>\n",
       "    <tr style=\"text-align: right;\">\n",
       "      <th></th>\n",
       "      <th>Id</th>\n",
       "      <th>HelpfulnessNumerator</th>\n",
       "      <th>HelpfulnessDenominator</th>\n",
       "      <th>Score</th>\n",
       "      <th>Time</th>\n",
       "    </tr>\n",
       "  </thead>\n",
       "  <tbody>\n",
       "    <tr>\n",
       "      <th>count</th>\n",
       "      <td>568454.000000</td>\n",
       "      <td>568454.000000</td>\n",
       "      <td>568454.00000</td>\n",
       "      <td>568454.000000</td>\n",
       "      <td>5.684540e+05</td>\n",
       "    </tr>\n",
       "    <tr>\n",
       "      <th>mean</th>\n",
       "      <td>284227.500000</td>\n",
       "      <td>1.743817</td>\n",
       "      <td>2.22881</td>\n",
       "      <td>4.183199</td>\n",
       "      <td>1.296257e+09</td>\n",
       "    </tr>\n",
       "    <tr>\n",
       "      <th>std</th>\n",
       "      <td>164098.679298</td>\n",
       "      <td>7.636513</td>\n",
       "      <td>8.28974</td>\n",
       "      <td>1.310436</td>\n",
       "      <td>4.804331e+07</td>\n",
       "    </tr>\n",
       "    <tr>\n",
       "      <th>min</th>\n",
       "      <td>1.000000</td>\n",
       "      <td>0.000000</td>\n",
       "      <td>0.00000</td>\n",
       "      <td>1.000000</td>\n",
       "      <td>9.393408e+08</td>\n",
       "    </tr>\n",
       "    <tr>\n",
       "      <th>25%</th>\n",
       "      <td>142114.250000</td>\n",
       "      <td>0.000000</td>\n",
       "      <td>0.00000</td>\n",
       "      <td>4.000000</td>\n",
       "      <td>1.271290e+09</td>\n",
       "    </tr>\n",
       "    <tr>\n",
       "      <th>50%</th>\n",
       "      <td>284227.500000</td>\n",
       "      <td>0.000000</td>\n",
       "      <td>1.00000</td>\n",
       "      <td>5.000000</td>\n",
       "      <td>1.311120e+09</td>\n",
       "    </tr>\n",
       "    <tr>\n",
       "      <th>75%</th>\n",
       "      <td>426340.750000</td>\n",
       "      <td>2.000000</td>\n",
       "      <td>2.00000</td>\n",
       "      <td>5.000000</td>\n",
       "      <td>1.332720e+09</td>\n",
       "    </tr>\n",
       "    <tr>\n",
       "      <th>max</th>\n",
       "      <td>568454.000000</td>\n",
       "      <td>866.000000</td>\n",
       "      <td>923.00000</td>\n",
       "      <td>5.000000</td>\n",
       "      <td>1.351210e+09</td>\n",
       "    </tr>\n",
       "  </tbody>\n",
       "</table>\n",
       "</div>"
      ],
      "text/plain": [
       "                  Id  HelpfulnessNumerator  HelpfulnessDenominator  \\\n",
       "count  568454.000000         568454.000000            568454.00000   \n",
       "mean   284227.500000              1.743817                 2.22881   \n",
       "std    164098.679298              7.636513                 8.28974   \n",
       "min         1.000000              0.000000                 0.00000   \n",
       "25%    142114.250000              0.000000                 0.00000   \n",
       "50%    284227.500000              0.000000                 1.00000   \n",
       "75%    426340.750000              2.000000                 2.00000   \n",
       "max    568454.000000            866.000000               923.00000   \n",
       "\n",
       "               Score          Time  \n",
       "count  568454.000000  5.684540e+05  \n",
       "mean        4.183199  1.296257e+09  \n",
       "std         1.310436  4.804331e+07  \n",
       "min         1.000000  9.393408e+08  \n",
       "25%         4.000000  1.271290e+09  \n",
       "50%         5.000000  1.311120e+09  \n",
       "75%         5.000000  1.332720e+09  \n",
       "max         5.000000  1.351210e+09  "
      ]
     },
     "execution_count": 5,
     "metadata": {},
     "output_type": "execute_result"
    }
   ],
   "source": [
    "df.describe()"
   ]
  },
  {
   "cell_type": "code",
   "execution_count": 6,
   "metadata": {
    "execution": {
     "iopub.execute_input": "2024-03-06T16:10:31.405847Z",
     "iopub.status.busy": "2024-03-06T16:10:31.405437Z",
     "iopub.status.idle": "2024-03-06T16:10:31.593798Z",
     "shell.execute_reply": "2024-03-06T16:10:31.592566Z",
     "shell.execute_reply.started": "2024-03-06T16:10:31.405812Z"
    }
   },
   "outputs": [
    {
     "data": {
      "text/plain": [
       "Id                         0\n",
       "ProductId                  0\n",
       "UserId                     0\n",
       "ProfileName               26\n",
       "HelpfulnessNumerator       0\n",
       "HelpfulnessDenominator     0\n",
       "Score                      0\n",
       "Time                       0\n",
       "Summary                   27\n",
       "Text                       0\n",
       "dtype: int64"
      ]
     },
     "execution_count": 6,
     "metadata": {},
     "output_type": "execute_result"
    }
   ],
   "source": [
    "df.isnull().sum()"
   ]
  },
  {
   "cell_type": "code",
   "execution_count": 7,
   "metadata": {
    "execution": {
     "iopub.execute_input": "2024-03-06T16:10:31.595684Z",
     "iopub.status.busy": "2024-03-06T16:10:31.595260Z",
     "iopub.status.idle": "2024-03-06T16:10:31.610585Z",
     "shell.execute_reply": "2024-03-06T16:10:31.609415Z",
     "shell.execute_reply.started": "2024-03-06T16:10:31.595645Z"
    }
   },
   "outputs": [
    {
     "data": {
      "text/plain": [
       "Score\n",
       "5    363122\n",
       "4     80655\n",
       "1     52268\n",
       "3     42640\n",
       "2     29769\n",
       "Name: count, dtype: int64"
      ]
     },
     "execution_count": 7,
     "metadata": {},
     "output_type": "execute_result"
    }
   ],
   "source": [
    "df[\"Score\"].value_counts()"
   ]
  },
  {
   "cell_type": "code",
   "execution_count": 8,
   "metadata": {
    "execution": {
     "iopub.execute_input": "2024-03-06T16:10:31.612892Z",
     "iopub.status.busy": "2024-03-06T16:10:31.611748Z",
     "iopub.status.idle": "2024-03-06T16:10:31.618836Z",
     "shell.execute_reply": "2024-03-06T16:10:31.617991Z",
     "shell.execute_reply.started": "2024-03-06T16:10:31.612857Z"
    }
   },
   "outputs": [
    {
     "data": {
      "text/plain": [
       "'I have bought several of the Vitality canned dog food products and have found them all to be of good quality. The product looks more like a stew than a processed meat and it smells better. My Labrador is finicky and she appreciates this product better than  most.'"
      ]
     },
     "execution_count": 8,
     "metadata": {},
     "output_type": "execute_result"
    }
   ],
   "source": [
    "df[\"Text\"][0]"
   ]
  },
  {
   "cell_type": "code",
   "execution_count": 9,
   "metadata": {
    "execution": {
     "iopub.execute_input": "2024-03-06T16:10:31.620668Z",
     "iopub.status.busy": "2024-03-06T16:10:31.620145Z",
     "iopub.status.idle": "2024-03-06T16:10:31.631978Z",
     "shell.execute_reply": "2024-03-06T16:10:31.630748Z",
     "shell.execute_reply.started": "2024-03-06T16:10:31.620640Z"
    }
   },
   "outputs": [
    {
     "data": {
      "text/plain": [
       "'Good Quality Dog Food'"
      ]
     },
     "execution_count": 9,
     "metadata": {},
     "output_type": "execute_result"
    }
   ],
   "source": [
    "df[\"Summary\"][0]"
   ]
  },
  {
   "cell_type": "code",
   "execution_count": 10,
   "metadata": {
    "execution": {
     "iopub.execute_input": "2024-03-06T16:10:31.637689Z",
     "iopub.status.busy": "2024-03-06T16:10:31.637354Z",
     "iopub.status.idle": "2024-03-06T16:10:31.892117Z",
     "shell.execute_reply": "2024-03-06T16:10:31.891006Z",
     "shell.execute_reply.started": "2024-03-06T16:10:31.637660Z"
    }
   },
   "outputs": [],
   "source": [
    "df= df.dropna()"
   ]
  },
  {
   "cell_type": "code",
   "execution_count": 11,
   "metadata": {
    "execution": {
     "iopub.execute_input": "2024-03-06T16:10:31.893590Z",
     "iopub.status.busy": "2024-03-06T16:10:31.893271Z",
     "iopub.status.idle": "2024-03-06T16:10:31.899284Z",
     "shell.execute_reply": "2024-03-06T16:10:31.898504Z",
     "shell.execute_reply.started": "2024-03-06T16:10:31.893562Z"
    }
   },
   "outputs": [],
   "source": [
    "df.reset_index(inplace=True)"
   ]
  },
  {
   "cell_type": "code",
   "execution_count": 12,
   "metadata": {
    "execution": {
     "iopub.execute_input": "2024-03-06T16:10:31.901191Z",
     "iopub.status.busy": "2024-03-06T16:10:31.900663Z",
     "iopub.status.idle": "2024-03-06T16:10:31.985789Z",
     "shell.execute_reply": "2024-03-06T16:10:31.984791Z",
     "shell.execute_reply.started": "2024-03-06T16:10:31.901163Z"
    }
   },
   "outputs": [],
   "source": [
    "df = df.drop([\"index\"],axis=1)"
   ]
  },
  {
   "cell_type": "code",
   "execution_count": 13,
   "metadata": {
    "execution": {
     "iopub.execute_input": "2024-03-06T16:10:31.987773Z",
     "iopub.status.busy": "2024-03-06T16:10:31.987038Z",
     "iopub.status.idle": "2024-03-06T16:10:33.373648Z",
     "shell.execute_reply": "2024-03-06T16:10:33.372516Z",
     "shell.execute_reply.started": "2024-03-06T16:10:31.987738Z"
    }
   },
   "outputs": [
    {
     "name": "stdout",
     "output_type": "stream",
     "text": [
      "Number of duplicate tweets :  0\n"
     ]
    }
   ],
   "source": [
    "duplicate_rows = df[df.duplicated()]\n",
    "print('Number of duplicate tweets : ',len(duplicate_rows))"
   ]
  },
  {
   "attachments": {},
   "cell_type": "markdown",
   "metadata": {},
   "source": [
    "## Text Preprocessing"
   ]
  },
  {
   "cell_type": "code",
   "execution_count": 14,
   "metadata": {
    "execution": {
     "iopub.execute_input": "2024-03-06T16:10:33.375708Z",
     "iopub.status.busy": "2024-03-06T16:10:33.375092Z",
     "iopub.status.idle": "2024-03-06T16:10:46.435269Z",
     "shell.execute_reply": "2024-03-06T16:10:46.434257Z",
     "shell.execute_reply.started": "2024-03-06T16:10:33.375668Z"
    }
   },
   "outputs": [
    {
     "name": "stdout",
     "output_type": "stream",
     "text": [
      "Collecting bs4\n",
      "  Obtaining dependency information for bs4 from https://files.pythonhosted.org/packages/51/bb/bf7aab772a159614954d84aa832c129624ba6c32faa559dfb200a534e50b/bs4-0.0.2-py2.py3-none-any.whl.metadata\n",
      "  Downloading bs4-0.0.2-py2.py3-none-any.whl.metadata (411 bytes)\n",
      "Requirement already satisfied: beautifulsoup4 in /opt/conda/lib/python3.10/site-packages (from bs4) (4.12.2)\n",
      "Requirement already satisfied: soupsieve>1.2 in /opt/conda/lib/python3.10/site-packages (from beautifulsoup4->bs4) (2.3.2.post1)\n",
      "Downloading bs4-0.0.2-py2.py3-none-any.whl (1.2 kB)\n",
      "Installing collected packages: bs4\n",
      "Successfully installed bs4-0.0.2\n"
     ]
    }
   ],
   "source": [
    "!pip install bs4"
   ]
  },
  {
   "cell_type": "code",
   "execution_count": 15,
   "metadata": {
    "execution": {
     "iopub.execute_input": "2024-03-06T16:10:46.437916Z",
     "iopub.status.busy": "2024-03-06T16:10:46.437161Z",
     "iopub.status.idle": "2024-03-06T16:10:47.739058Z",
     "shell.execute_reply": "2024-03-06T16:10:47.738010Z",
     "shell.execute_reply.started": "2024-03-06T16:10:46.437879Z"
    }
   },
   "outputs": [
    {
     "name": "stdout",
     "output_type": "stream",
     "text": [
      "[nltk_data] Downloading package stopwords to /usr/share/nltk_data...\n",
      "[nltk_data]   Package stopwords is already up-to-date!\n"
     ]
    },
    {
     "data": {
      "text/plain": [
       "True"
      ]
     },
     "execution_count": 15,
     "metadata": {},
     "output_type": "execute_result"
    }
   ],
   "source": [
    "import nltk\n",
    "import re\n",
    "from nltk.corpus import stopwords\n",
    "nltk.download('stopwords')"
   ]
  },
  {
   "cell_type": "code",
   "execution_count": 16,
   "metadata": {
    "execution": {
     "iopub.execute_input": "2024-03-06T16:10:47.741335Z",
     "iopub.status.busy": "2024-03-06T16:10:47.740684Z",
     "iopub.status.idle": "2024-03-06T16:10:47.749492Z",
     "shell.execute_reply": "2024-03-06T16:10:47.748569Z",
     "shell.execute_reply.started": "2024-03-06T16:10:47.741296Z"
    }
   },
   "outputs": [],
   "source": [
    "import re\n",
    "\n",
    "def decontracted(phrase):\n",
    "    # specific\n",
    "    phrase = re.sub(r\"won't\", \"will not\", phrase)\n",
    "    phrase = re.sub(r\"can\\'t\", \"can not\", phrase)\n",
    "\n",
    "    # general\n",
    "    phrase = re.sub(r\"n\\'t\", \" not\", phrase)\n",
    "    phrase = re.sub(r\"\\'re\", \" are\", phrase)\n",
    "    phrase = re.sub(r\"\\'s\", \" is\", phrase)\n",
    "    phrase = re.sub(r\"\\'d\", \" would\", phrase)\n",
    "    phrase = re.sub(r\"\\'ll\", \" will\", phrase)\n",
    "    phrase = re.sub(r\"\\'t\", \" not\", phrase)\n",
    "    phrase = re.sub(r\"\\'ve\", \" have\", phrase)\n",
    "    phrase = re.sub(r\"\\'m\", \" am\", phrase)\n",
    "    return phrase"
   ]
  },
  {
   "cell_type": "code",
   "execution_count": 17,
   "metadata": {
    "execution": {
     "iopub.execute_input": "2024-03-06T16:10:47.751742Z",
     "iopub.status.busy": "2024-03-06T16:10:47.751347Z",
     "iopub.status.idle": "2024-03-06T16:10:47.943487Z",
     "shell.execute_reply": "2024-03-06T16:10:47.942379Z",
     "shell.execute_reply.started": "2024-03-06T16:10:47.751705Z"
    }
   },
   "outputs": [],
   "source": [
    "from bs4 import BeautifulSoup\n",
    "def preprocessed(review): \n",
    "    sentance = re.sub(r\"http\\S+\", \"\", review)\n",
    "    sentance = BeautifulSoup(sentance, 'lxml').get_text()\n",
    "    sentance = decontracted(sentance)\n",
    "    sentance = re.sub(\"\\S*\\d\\S*\", \"\", sentance).strip()\n",
    "    sentance = re.sub('[^A-Za-z]+', ' ', sentance)\n",
    "    sentance = ' '.join(e.lower() for e in sentance.split() if e.lower() not in stopwords.words('english'))\n",
    "    return sentance.strip()"
   ]
  },
  {
   "cell_type": "code",
   "execution_count": 18,
   "metadata": {
    "execution": {
     "iopub.execute_input": "2024-03-06T16:10:47.945393Z",
     "iopub.status.busy": "2024-03-06T16:10:47.944846Z",
     "iopub.status.idle": "2024-03-06T16:10:47.965878Z",
     "shell.execute_reply": "2024-03-06T16:10:47.964874Z",
     "shell.execute_reply.started": "2024-03-06T16:10:47.945360Z"
    }
   },
   "outputs": [
    {
     "name": "stdout",
     "output_type": "stream",
     "text": [
      "Review :  I have bought several of the Vitality canned dog food products and have found them all to be of good quality. The product looks more like a stew than a processed meat and it smells better. My Labrador is finicky and she appreciates this product better than  most. \n",
      "\n",
      "Preprocessed Review :  bought several vitality canned dog food products found good quality product looks like stew processed meat smells better labrador finicky appreciates product better\n"
     ]
    }
   ],
   "source": [
    "print(\"Review : \",df[\"Text\"][0],\"\\n\")\n",
    "print(\"Preprocessed Review : \",preprocessed(df[\"Text\"][0]))"
   ]
  },
  {
   "cell_type": "code",
   "execution_count": 19,
   "metadata": {
    "execution": {
     "iopub.execute_input": "2024-03-06T16:10:47.967351Z",
     "iopub.status.busy": "2024-03-06T16:10:47.967053Z",
     "iopub.status.idle": "2024-03-06T16:10:47.974080Z",
     "shell.execute_reply": "2024-03-06T16:10:47.973302Z",
     "shell.execute_reply.started": "2024-03-06T16:10:47.967323Z"
    }
   },
   "outputs": [
    {
     "name": "stdout",
     "output_type": "stream",
     "text": [
      "Summary :  Good Quality Dog Food \n",
      "\n",
      "Preprocessed Summary :  good quality dog food\n"
     ]
    }
   ],
   "source": [
    "print(\"Summary : \",df[\"Summary\"][0],\"\\n\")\n",
    "print(\"Preprocessed Summary : \",preprocessed(df[\"Summary\"][0]))"
   ]
  },
  {
   "cell_type": "code",
   "execution_count": 20,
   "metadata": {
    "execution": {
     "iopub.execute_input": "2024-03-06T16:10:47.975952Z",
     "iopub.status.busy": "2024-03-06T16:10:47.975419Z",
     "iopub.status.idle": "2024-03-06T16:10:48.067361Z",
     "shell.execute_reply": "2024-03-06T16:10:48.066527Z",
     "shell.execute_reply.started": "2024-03-06T16:10:47.975905Z"
    }
   },
   "outputs": [],
   "source": [
    "from tqdm.notebook import tqdm\n",
    "tqdm.pandas()"
   ]
  },
  {
   "cell_type": "code",
   "execution_count": 21,
   "metadata": {
    "execution": {
     "iopub.execute_input": "2024-03-06T16:10:48.069464Z",
     "iopub.status.busy": "2024-03-06T16:10:48.068883Z",
     "iopub.status.idle": "2024-03-06T16:10:48.260737Z",
     "shell.execute_reply": "2024-03-06T16:10:48.259706Z",
     "shell.execute_reply.started": "2024-03-06T16:10:48.069431Z"
    }
   },
   "outputs": [],
   "source": [
    "df = df.sample(20000)\n",
    "\n",
    "df.reset_index(inplace=True)"
   ]
  },
  {
   "cell_type": "code",
   "execution_count": 22,
   "metadata": {
    "execution": {
     "iopub.execute_input": "2024-03-06T16:10:48.262314Z",
     "iopub.status.busy": "2024-03-06T16:10:48.261999Z",
     "iopub.status.idle": "2024-03-06T16:14:21.529196Z",
     "shell.execute_reply": "2024-03-06T16:14:21.528125Z",
     "shell.execute_reply.started": "2024-03-06T16:10:48.262287Z"
    }
   },
   "outputs": [
    {
     "data": {
      "application/vnd.jupyter.widget-view+json": {
       "model_id": "429524a86e314fceacd57c96b991e48c",
       "version_major": 2,
       "version_minor": 0
      },
      "text/plain": [
       "  0%|          | 0/20000 [00:00<?, ?it/s]"
      ]
     },
     "metadata": {},
     "output_type": "display_data"
    },
    {
     "name": "stderr",
     "output_type": "stream",
     "text": [
      "/tmp/ipykernel_43/3334880588.py:4: MarkupResemblesLocatorWarning: The input looks more like a filename than markup. You may want to open this file and pass the filehandle into Beautiful Soup.\n",
      "  sentance = BeautifulSoup(sentance, 'lxml').get_text()\n"
     ]
    }
   ],
   "source": [
    "df[\"Preprocessed Review\"] = df[\"Text\"].progress_apply(lambda x : preprocessed(x))"
   ]
  },
  {
   "cell_type": "code",
   "execution_count": 23,
   "metadata": {
    "execution": {
     "iopub.execute_input": "2024-03-06T16:14:21.531470Z",
     "iopub.status.busy": "2024-03-06T16:14:21.531142Z",
     "iopub.status.idle": "2024-03-06T16:14:21.602424Z",
     "shell.execute_reply": "2024-03-06T16:14:21.601337Z",
     "shell.execute_reply.started": "2024-03-06T16:14:21.531441Z"
    }
   },
   "outputs": [
    {
     "name": "stderr",
     "output_type": "stream",
     "text": [
      "100%|██████████| 20000/20000 [00:00<00:00, 329136.69it/s]\n"
     ]
    }
   ],
   "source": [
    "from tqdm import tqdm\n",
    "l = []\n",
    "for x in tqdm(df[\"Preprocessed Review\"]) :\n",
    "    l.append(len(x.split()))"
   ]
  },
  {
   "cell_type": "code",
   "execution_count": 24,
   "metadata": {
    "execution": {
     "iopub.execute_input": "2024-03-06T16:14:21.603873Z",
     "iopub.status.busy": "2024-03-06T16:14:21.603585Z",
     "iopub.status.idle": "2024-03-06T16:14:21.615048Z",
     "shell.execute_reply": "2024-03-06T16:14:21.613787Z",
     "shell.execute_reply.started": "2024-03-06T16:14:21.603847Z"
    }
   },
   "outputs": [],
   "source": [
    "df[\"Review_length\"] = l"
   ]
  },
  {
   "cell_type": "code",
   "execution_count": 25,
   "metadata": {
    "execution": {
     "iopub.execute_input": "2024-03-06T16:14:21.617112Z",
     "iopub.status.busy": "2024-03-06T16:14:21.616721Z",
     "iopub.status.idle": "2024-03-06T16:14:21.628794Z",
     "shell.execute_reply": "2024-03-06T16:14:21.627677Z",
     "shell.execute_reply.started": "2024-03-06T16:14:21.617080Z"
    }
   },
   "outputs": [
    {
     "data": {
      "text/plain": [
       "38.96855"
      ]
     },
     "execution_count": 25,
     "metadata": {},
     "output_type": "execute_result"
    }
   ],
   "source": [
    "df[\"Review_length\"].mean()"
   ]
  },
  {
   "cell_type": "code",
   "execution_count": 26,
   "metadata": {
    "execution": {
     "iopub.execute_input": "2024-03-06T16:14:21.630893Z",
     "iopub.status.busy": "2024-03-06T16:14:21.630437Z",
     "iopub.status.idle": "2024-03-06T16:14:21.643124Z",
     "shell.execute_reply": "2024-03-06T16:14:21.641749Z",
     "shell.execute_reply.started": "2024-03-06T16:14:21.630851Z"
    }
   },
   "outputs": [
    {
     "data": {
      "text/plain": [
       "Score\n",
       "5    12751\n",
       "4     2845\n",
       "1     1862\n",
       "3     1530\n",
       "2     1012\n",
       "Name: count, dtype: int64"
      ]
     },
     "execution_count": 26,
     "metadata": {},
     "output_type": "execute_result"
    }
   ],
   "source": [
    "df[\"Score\"].value_counts()"
   ]
  },
  {
   "cell_type": "code",
   "execution_count": 27,
   "metadata": {
    "execution": {
     "iopub.execute_input": "2024-03-06T16:14:21.645036Z",
     "iopub.status.busy": "2024-03-06T16:14:21.644588Z",
     "iopub.status.idle": "2024-03-06T16:14:21.663744Z",
     "shell.execute_reply": "2024-03-06T16:14:21.661877Z",
     "shell.execute_reply.started": "2024-03-06T16:14:21.644994Z"
    }
   },
   "outputs": [],
   "source": [
    "d = {1:0,2:0,3:1,4:2,5:2}\n",
    "\n",
    "df[\"Label\"] = df[\"Score\"].apply(lambda x :d[x])"
   ]
  },
  {
   "cell_type": "code",
   "execution_count": 28,
   "metadata": {
    "execution": {
     "iopub.execute_input": "2024-03-06T16:14:21.671362Z",
     "iopub.status.busy": "2024-03-06T16:14:21.670950Z",
     "iopub.status.idle": "2024-03-06T16:14:21.681315Z",
     "shell.execute_reply": "2024-03-06T16:14:21.680447Z",
     "shell.execute_reply.started": "2024-03-06T16:14:21.671328Z"
    }
   },
   "outputs": [],
   "source": [
    "\n",
    "labels = df['Label'].values\n",
    "from sklearn.model_selection import train_test_split\n",
    "X_train, X_test, Y_train, Y_test = train_test_split(df[\"Preprocessed Review\"],labels, test_size=0.2, random_state=None)\n"
   ]
  },
  {
   "cell_type": "code",
   "execution_count": 29,
   "metadata": {
    "execution": {
     "iopub.execute_input": "2024-03-06T16:14:21.682870Z",
     "iopub.status.busy": "2024-03-06T16:14:21.682506Z",
     "iopub.status.idle": "2024-03-06T16:14:21.691131Z",
     "shell.execute_reply": "2024-03-06T16:14:21.689623Z",
     "shell.execute_reply.started": "2024-03-06T16:14:21.682839Z"
    }
   },
   "outputs": [],
   "source": [
    "max_len = 40\n",
    "trunc_type = \"post\"\n",
    "padding_type = \"pre\"\n",
    "oov_tok = \"<OOV>\""
   ]
  },
  {
   "cell_type": "code",
   "execution_count": 30,
   "metadata": {
    "execution": {
     "iopub.execute_input": "2024-03-06T16:14:21.694165Z",
     "iopub.status.busy": "2024-03-06T16:14:21.693630Z",
     "iopub.status.idle": "2024-03-06T16:14:36.247305Z",
     "shell.execute_reply": "2024-03-06T16:14:36.245982Z",
     "shell.execute_reply.started": "2024-03-06T16:14:21.694121Z"
    }
   },
   "outputs": [],
   "source": [
    "import tensorflow as tf\n",
    "from tensorflow.keras.preprocessing.text import Tokenizer\n",
    "from tensorflow.keras.preprocessing.sequence import pad_sequences"
   ]
  },
  {
   "cell_type": "code",
   "execution_count": 31,
   "metadata": {
    "execution": {
     "iopub.execute_input": "2024-03-06T16:14:36.249790Z",
     "iopub.status.busy": "2024-03-06T16:14:36.249063Z",
     "iopub.status.idle": "2024-03-06T16:14:37.268376Z",
     "shell.execute_reply": "2024-03-06T16:14:37.266841Z",
     "shell.execute_reply.started": "2024-03-06T16:14:36.249743Z"
    }
   },
   "outputs": [],
   "source": [
    "token = Tokenizer( char_level=False, oov_token = oov_tok) # oov_token is used for out of vocabulary\n",
    "token.fit_on_texts(X_train)"
   ]
  },
  {
   "cell_type": "code",
   "execution_count": 32,
   "metadata": {
    "execution": {
     "iopub.execute_input": "2024-03-06T16:14:37.270295Z",
     "iopub.status.busy": "2024-03-06T16:14:37.269942Z",
     "iopub.status.idle": "2024-03-06T16:14:37.277248Z",
     "shell.execute_reply": "2024-03-06T16:14:37.275218Z",
     "shell.execute_reply.started": "2024-03-06T16:14:37.270265Z"
    }
   },
   "outputs": [],
   "source": [
    "vocab_size = len(token.word_index)+1 "
   ]
  },
  {
   "cell_type": "code",
   "execution_count": 33,
   "metadata": {
    "execution": {
     "iopub.execute_input": "2024-03-06T16:14:37.279269Z",
     "iopub.status.busy": "2024-03-06T16:14:37.278850Z",
     "iopub.status.idle": "2024-03-06T16:14:37.998370Z",
     "shell.execute_reply": "2024-03-06T16:14:37.996882Z",
     "shell.execute_reply.started": "2024-03-06T16:14:37.279234Z"
    }
   },
   "outputs": [],
   "source": [
    "x_train_seq = token.texts_to_sequences(X_train)\n",
    "train_pad_seq = pad_sequences (x_train_seq, maxlen = max_len, padding = padding_type, truncating = trunc_type )\n",
    "x_test_seq = token.texts_to_sequences(X_test)\n",
    "test_pad_seq = pad_sequences(x_test_seq, maxlen = max_len,padding = padding_type, truncating = trunc_type)"
   ]
  },
  {
   "cell_type": "code",
   "execution_count": 34,
   "metadata": {
    "execution": {
     "iopub.execute_input": "2024-03-06T16:14:38.000627Z",
     "iopub.status.busy": "2024-03-06T16:14:38.000234Z",
     "iopub.status.idle": "2024-03-06T16:14:38.005333Z",
     "shell.execute_reply": "2024-03-06T16:14:38.004459Z",
     "shell.execute_reply.started": "2024-03-06T16:14:38.000595Z"
    }
   },
   "outputs": [
    {
     "name": "stdout",
     "output_type": "stream",
     "text": [
      "Shape of training reviews:  (16000, 40)\n",
      "Shape of testing reviews:  (4000, 40)\n"
     ]
    }
   ],
   "source": [
    "print('Shape of training reviews: ', train_pad_seq.shape)\n",
    "print('Shape of testing reviews: ', test_pad_seq.shape)"
   ]
  },
  {
   "cell_type": "code",
   "execution_count": 35,
   "metadata": {
    "execution": {
     "iopub.execute_input": "2024-03-06T16:14:38.007323Z",
     "iopub.status.busy": "2024-03-06T16:14:38.006995Z",
     "iopub.status.idle": "2024-03-06T16:14:38.019579Z",
     "shell.execute_reply": "2024-03-06T16:14:38.018038Z",
     "shell.execute_reply.started": "2024-03-06T16:14:38.007295Z"
    }
   },
   "outputs": [
    {
     "name": "stdout",
     "output_type": "stream",
     "text": [
      "Actual Review:\n",
      " another life worked trader joe one favorite products chocolate syrup sweetened pure sugar different hfcs sweetened goo product delicious quit working move city trader joe really missed moo ah laska worlds better use mostly ice cream sure would great variety contexts though read couple amazon reviews essentially recommend using chocolate milk great troll around trying find local grocery store\n",
      "\n",
      "tweet sentence represented in terms of tokens and not padded :\n",
      "  [144, 351, 618, 1403, 1206, 5, 68, 103, 40, 307, 1012, 628, 38, 94, 3059, 1012, 4706, 10, 73, 2381, 857, 2059, 1899, 1403, 1206, 15, 2166, 7893, 5612, 14166, 3957, 32, 21, 767, 372, 293, 114, 8, 7, 262, 14167, 99, 312, 277, 17, 220, 3244, 63, 115, 40, 117, 7, 10828, 156, 197, 27, 146, 168, 51]\n",
      "\n",
      "After padding : \n",
      " [  144   351   618  1403  1206     5    68   103    40   307  1012   628\n",
      "    38    94  3059  1012  4706    10    73  2381   857  2059  1899  1403\n",
      "  1206    15  2166  7893  5612 14166  3957    32    21   767   372   293\n",
      "   114     8     7   262]\n"
     ]
    }
   ],
   "source": [
    "print('Actual Review:\\n',X_train.iloc[5])\n",
    "print('\\ntweet sentence represented in terms of tokens and not padded :\\n ',x_train_seq[5])\n",
    "print('\\nAfter padding : \\n',train_pad_seq[5])"
   ]
  },
  {
   "cell_type": "code",
   "execution_count": 36,
   "metadata": {
    "execution": {
     "iopub.execute_input": "2024-03-06T16:14:38.021133Z",
     "iopub.status.busy": "2024-03-06T16:14:38.020756Z",
     "iopub.status.idle": "2024-03-06T16:14:38.033019Z",
     "shell.execute_reply": "2024-03-06T16:14:38.031700Z",
     "shell.execute_reply.started": "2024-03-06T16:14:38.021101Z"
    }
   },
   "outputs": [],
   "source": [
    "from tensorflow.keras.callbacks import EarlyStopping\n",
    "from tensorflow.keras.models import Sequential\n",
    "from tensorflow.keras.layers import Embedding, GlobalAveragePooling1D, Dense, Dropout, LSTM, Bidirectional\n",
    "from sklearn.metrics import classification_report\n",
    "from sklearn.metrics import classification_report"
   ]
  },
  {
   "cell_type": "code",
   "execution_count": 38,
   "metadata": {
    "execution": {
     "iopub.execute_input": "2024-03-06T16:19:32.285502Z",
     "iopub.status.busy": "2024-03-06T16:19:32.284902Z",
     "iopub.status.idle": "2024-03-06T16:30:56.916455Z",
     "shell.execute_reply": "2024-03-06T16:30:56.915124Z",
     "shell.execute_reply.started": "2024-03-06T16:19:32.285456Z"
    }
   },
   "outputs": [
    {
     "name": "stdout",
     "output_type": "stream",
     "text": [
      "Model: \"sequential_1\"\n",
      "_________________________________________________________________\n",
      " Layer (type)                Output Shape              Param #   \n",
      "=================================================================\n",
      " embedding_1 (Embedding)     (None, 40, 128)           3187712   \n",
      "                                                                 \n",
      " lstm_1 (LSTM)               (None, 128)               131584    \n",
      "                                                                 \n",
      " dense_1 (Dense)             (None, 3)                 387       \n",
      "                                                                 \n",
      "=================================================================\n",
      "Total params: 3319683 (12.66 MB)\n",
      "Trainable params: 3319683 (12.66 MB)\n",
      "Non-trainable params: 0 (0.00 Byte)\n",
      "_________________________________________________________________\n",
      "Epoch 1/20\n",
      "500/500 - 38s - loss: 0.5381 - accuracy: 0.8100 - val_loss: 0.4596 - val_accuracy: 0.8350 - 38s/epoch - 77ms/step\n",
      "Epoch 2/20\n",
      "500/500 - 32s - loss: 0.3502 - accuracy: 0.8723 - val_loss: 0.4803 - val_accuracy: 0.8278 - 32s/epoch - 65ms/step\n",
      "Epoch 3/20\n",
      "500/500 - 32s - loss: 0.2241 - accuracy: 0.9204 - val_loss: 0.5910 - val_accuracy: 0.8188 - 32s/epoch - 64ms/step\n",
      "Epoch 4/20\n",
      "500/500 - 33s - loss: 0.1335 - accuracy: 0.9533 - val_loss: 0.7066 - val_accuracy: 0.7895 - 33s/epoch - 65ms/step\n",
      "Epoch 5/20\n",
      "500/500 - 34s - loss: 0.0848 - accuracy: 0.9712 - val_loss: 0.8225 - val_accuracy: 0.7987 - 34s/epoch - 69ms/step\n",
      "Epoch 6/20\n",
      "500/500 - 35s - loss: 0.0516 - accuracy: 0.9834 - val_loss: 0.9791 - val_accuracy: 0.7950 - 35s/epoch - 69ms/step\n",
      "Epoch 7/20\n",
      "500/500 - 34s - loss: 0.0385 - accuracy: 0.9866 - val_loss: 1.0567 - val_accuracy: 0.7825 - 34s/epoch - 69ms/step\n",
      "Epoch 8/20\n",
      "500/500 - 34s - loss: 0.0249 - accuracy: 0.9923 - val_loss: 1.1438 - val_accuracy: 0.7943 - 34s/epoch - 68ms/step\n",
      "Epoch 9/20\n",
      "500/500 - 34s - loss: 0.0175 - accuracy: 0.9949 - val_loss: 1.1753 - val_accuracy: 0.7818 - 34s/epoch - 69ms/step\n",
      "Epoch 10/20\n",
      "500/500 - 34s - loss: 0.0179 - accuracy: 0.9943 - val_loss: 1.3687 - val_accuracy: 0.7830 - 34s/epoch - 68ms/step\n",
      "Epoch 11/20\n",
      "500/500 - 33s - loss: 0.0164 - accuracy: 0.9949 - val_loss: 1.3436 - val_accuracy: 0.7880 - 33s/epoch - 66ms/step\n",
      "Epoch 12/20\n",
      "500/500 - 34s - loss: 0.0132 - accuracy: 0.9962 - val_loss: 1.2952 - val_accuracy: 0.7960 - 34s/epoch - 68ms/step\n",
      "Epoch 13/20\n",
      "500/500 - 33s - loss: 0.0113 - accuracy: 0.9961 - val_loss: 1.3646 - val_accuracy: 0.7868 - 33s/epoch - 65ms/step\n",
      "Epoch 14/20\n",
      "500/500 - 32s - loss: 0.0142 - accuracy: 0.9955 - val_loss: 1.4092 - val_accuracy: 0.7872 - 32s/epoch - 65ms/step\n",
      "Epoch 15/20\n",
      "500/500 - 32s - loss: 0.0123 - accuracy: 0.9959 - val_loss: 1.2926 - val_accuracy: 0.7987 - 32s/epoch - 64ms/step\n",
      "Epoch 16/20\n",
      "500/500 - 31s - loss: 0.0072 - accuracy: 0.9977 - val_loss: 1.4901 - val_accuracy: 0.7895 - 31s/epoch - 63ms/step\n",
      "Epoch 17/20\n",
      "500/500 - 31s - loss: 0.0110 - accuracy: 0.9967 - val_loss: 1.3786 - val_accuracy: 0.7885 - 31s/epoch - 61ms/step\n",
      "Epoch 18/20\n",
      "500/500 - 30s - loss: 0.0082 - accuracy: 0.9974 - val_loss: 1.4370 - val_accuracy: 0.7965 - 30s/epoch - 61ms/step\n",
      "Epoch 19/20\n",
      "500/500 - 31s - loss: 0.0066 - accuracy: 0.9979 - val_loss: 1.4650 - val_accuracy: 0.7887 - 31s/epoch - 63ms/step\n",
      "Epoch 20/20\n",
      "500/500 - 32s - loss: 0.0037 - accuracy: 0.9991 - val_loss: 1.6920 - val_accuracy: 0.7860 - 32s/epoch - 64ms/step\n"
     ]
    }
   ],
   "source": [
    "n_lstm=128\n",
    "embeding_dim =128\n",
    "drop_lstm =0.2\n",
    "model = Sequential()\n",
    "model.add(Embedding(vocab_size, embeding_dim, input_length=max_len))\n",
    "model.add(LSTM(n_lstm, dropout=drop_lstm,return_sequences=False))\n",
    "\n",
    "model.add(Dense(3, activation='softmax'))\n",
    "model.summary()\n",
    "\n",
    "model.compile(loss = 'sparse_categorical_crossentropy', optimizer = 'adam', metrics=['accuracy'])\n",
    "num_epochs = 20\n",
    "history = model.fit(train_pad_seq,Y_train, epochs=num_epochs,validation_data=(test_pad_seq, Y_test), verbose=2)"
   ]
  },
  {
   "cell_type": "code",
   "execution_count": null,
   "metadata": {},
   "outputs": [],
   "source": []
  }
 ],
 "metadata": {
  "kaggle": {
   "accelerator": "none",
   "dataSources": [
    {
     "datasetId": 18,
     "sourceId": 2157,
     "sourceType": "datasetVersion"
    }
   ],
   "dockerImageVersionId": 30615,
   "isGpuEnabled": false,
   "isInternetEnabled": true,
   "language": "python",
   "sourceType": "notebook"
  },
  "kernelspec": {
   "display_name": "Python 3 (ipykernel)",
   "language": "python",
   "name": "python3"
  },
  "language_info": {
   "codemirror_mode": {
    "name": "ipython",
    "version": 3
   },
   "file_extension": ".py",
   "mimetype": "text/x-python",
   "name": "python",
   "nbconvert_exporter": "python",
   "pygments_lexer": "ipython3",
   "version": "3.10.9"
  }
 },
 "nbformat": 4,
 "nbformat_minor": 4
}
